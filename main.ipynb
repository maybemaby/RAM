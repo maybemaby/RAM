{
 "metadata": {
  "language_info": {
   "codemirror_mode": {
    "name": "ipython",
    "version": 3
   },
   "file_extension": ".py",
   "mimetype": "text/x-python",
   "name": "python",
   "nbconvert_exporter": "python",
   "pygments_lexer": "ipython3",
   "version": "3.9.2"
  },
  "orig_nbformat": 2,
  "kernelspec": {
   "name": "python392jvsc74a57bd08ea449b06e9a1bfcded44c92bcba125d496536b009f1b02bdaf6eec0f0896f2a",
   "display_name": "Python 3.9.2 64-bit ('venv')"
  },
  "metadata": {
   "interpreter": {
    "hash": "63fd5069d213b44bf678585dea6b12cceca9941eaf7f819626cde1f2670de90d"
   }
  }
 },
 "nbformat": 4,
 "nbformat_minor": 2,
 "cells": [
  {
   "source": [
    "## Collecting subreddit data\n",
    "This is the file that is actually used to collect usernames from all posts and comments on a subreddit as well as their activity in other subreddits. If you want to see the code behind the functions in this script, look at the collector module."
   ],
   "cell_type": "markdown",
   "metadata": {}
  },
  {
   "cell_type": "code",
   "execution_count": 1,
   "metadata": {},
   "outputs": [],
   "source": [
    "import time, math\n",
    "import dill\n",
    "import pandas as pd\n",
    "import plotly.graph_objects as go\n",
    "import plotly.express as px\n",
    "import plotly.io as pio \n",
    "from redditalyzer import collector\n",
    "import chart_studio\n",
    "\n",
    "# If you are using vscode to render the chart\n",
    "pio.renderers.default = \"vscode\""
   ]
  },
  {
   "source": [
    "The next two code blocks should be run to collect reddit usernames that have commented on the subreddit within a given time range. Default time range is within the last 30d. Time range can be changed with the start_date parameter of the request_pushift function. Accepted parameters can be found on the pushift API documentation. You should see the printed numbers begin to increase as the script collects more usernames.\n",
    "\n",
    "If you want to collect the usernames from the submissions as well, you have to change the endpoint param in the request_pushift functions."
   ],
   "cell_type": "markdown",
   "metadata": {}
  },
  {
   "cell_type": "code",
   "execution_count": null,
   "metadata": {},
   "outputs": [],
   "source": [
    "data, complete = collector.request_pushift('ludwigahgren')\n",
    "comment_usernames = collector.pull_usernames(data)"
   ]
  },
  {
   "source": [
    "This code block should probably take less than 10 minutes for a month's worth of usernames on r/ludwigahgren.\n",
    "\n",
    "If the numbers stop printing it's because the pushift servers aren't responding due to either rate limits or high load. I set it retry after 10 seconds but if it happens for prolonged period of time their servers are probably just down and you should stop the script.\n",
    "\n",
    "**Do not remove any code related to rate limiting, pushift devs are generously providing a free api and worst case scenario you get blocked or something if you send too many requests.**"
   ],
   "cell_type": "markdown",
   "metadata": {}
  },
  {
   "cell_type": "code",
   "execution_count": null,
   "metadata": {
    "tags": [
     "outputPrepend"
    ]
   },
   "outputs": [],
   "source": [
    "while not complete:\n",
    "    try:\n",
    "        comment_date = collector.last_created(data)\n",
    "        data, complete = collector.request_pushift('ludwigahgren', start_date=comment_date)\n",
    "        comment_usernames = collector.pull_usernames(data,name_set=usernames)\n",
    "    except RuntimeError:\n",
    "        time.sleep(10)\n",
    "        continue\n",
    "    except IndexError:\n",
    "        print(f\"Process complete, retrieved {len(usernames)} usernames and ended at timestamp {comment_date}\")\n",
    "        break\n",
    "    else:\n",
    "        print(len(usernames), comment_date)\n"
   ]
  },
  {
   "source": [
    "Code blocks for submission usernames"
   ],
   "cell_type": "markdown",
   "metadata": {}
  },
  {
   "cell_type": "code",
   "execution_count": null,
   "metadata": {},
   "outputs": [],
   "source": [
    "data, complete = collector.request_pushift('ludwigahgren', endpoint='submission')\n",
    "submission_usernames = collector.pull_usernames(data)"
   ]
  },
  {
   "cell_type": "code",
   "execution_count": null,
   "metadata": {},
   "outputs": [],
   "source": [
    "while not complete:\n",
    "    try:\n",
    "        comment_date = collector.last_created(data)\n",
    "        data, complete = collector.request_pushift('ludwigahgren', start_date=comment_date, endpoint='submission')\n",
    "        submission_usernames = collector.pull_usernames(data,name_set=usernames)\n",
    "    except RuntimeError:\n",
    "        time.sleep(10)\n",
    "        continue\n",
    "    except IndexError:\n",
    "        print(f\"Process complete, retrieved {len(usernames)} usernames and ended at timestamp {comment_date}\")\n",
    "        break\n",
    "    else:\n",
    "        print(len(usernames), comment_date)"
   ]
  },
  {
   "source": [
    "Combining username sets and writing to a pickle file."
   ],
   "cell_type": "markdown",
   "metadata": {}
  },
  {
   "cell_type": "code",
   "execution_count": null,
   "metadata": {},
   "outputs": [],
   "source": [
    "total_usernames = comment_usernames |= submission_usernames"
   ]
  },
  {
   "cell_type": "code",
   "execution_count": null,
   "metadata": {},
   "outputs": [],
   "source": [
    "with open('usernames.dat', 'wb') as picklefile:\n",
    "    dill.dump(total_usernames, picklefile)"
   ]
  },
  {
   "cell_type": "code",
   "execution_count": 4,
   "metadata": {},
   "outputs": [],
   "source": [
    "with open('usernames.dat', 'rb') as dillfile:\n",
    "    username_set = dill.load(dillfile)"
   ]
  },
  {
   "source": [
    "Collecting the comments and submissions from our list of names using praw...\n",
    "\n",
    "Takes quite a while for a month's worth of users from a moderately active subreddit like r/ludwigahgren due to the large amount of requests made. Tried to use pushift api to speed it up but their servers are better suited to small amounts of bulk requests rather than large amounts of small requests like this. \n",
    "\n",
    "You could split up the usernames between the pushift api and praw to make it go faster but it should only take a few hours anyway if you're patient."
   ],
   "cell_type": "markdown",
   "metadata": {}
  },
  {
   "cell_type": "code",
   "execution_count": null,
   "metadata": {
    "tags": []
   },
   "outputs": [],
   "source": [
    "activity_data = collector.retrieve_activity(test)"
   ]
  },
  {
   "source": [
    "Save the data so you don't have to re run a large script."
   ],
   "cell_type": "markdown",
   "metadata": {}
  },
  {
   "cell_type": "code",
   "execution_count": 7,
   "metadata": {},
   "outputs": [],
   "source": [
    "with open('activity-data.dat', 'wb') as picklefile:\n",
    "    dill.dump(activity_data, picklefile)"
   ]
  },
  {
   "cell_type": "code",
   "execution_count": 5,
   "metadata": {},
   "outputs": [],
   "source": [
    "with open('activity-data.dat', 'rb') as dillfile:\n",
    "    activity_data = dill.load(dillfile)"
   ]
  },
  {
   "source": [
    "### The Data\n",
    "Finally, we get some data we can actually look at. Activity is the combined number of posts and comments made in the specified subreddit from people who also posted in r/LudwigAhgren. rludwig is the number of posts those users made in r/LudwigAhgren so you can compare how active those users are in each subreddit. Users is simply the number of users who have posted in both subreddits."
   ],
   "cell_type": "markdown",
   "metadata": {}
  },
  {
   "cell_type": "code",
   "execution_count": 6,
   "metadata": {},
   "outputs": [],
   "source": [
    "df = pd.DataFrame.from_dict(activity_data, orient=\"index\")"
   ]
  },
  {
   "cell_type": "code",
   "execution_count": 7,
   "metadata": {},
   "outputs": [
    {
     "output_type": "execute_result",
     "data": {
      "text/plain": [
       "                       activity  rludwig  users\n",
       "AskReddit                  1969     1211  555.0\n",
       "LivestreamFail             2753     1278  450.0\n",
       "memes                      1725      634  354.0\n",
       "dankmemes                   689      408  208.0\n",
       "teenagers                  1563      388  200.0\n",
       "196                        1440      331  191.0\n",
       "nextfuckinglevel            381      347  166.0\n",
       "Cringetopia                 478      220  147.0\n",
       "interestingasfuck           300      299  147.0\n",
       "Minecraft                   303      291  141.0\n",
       "PewdiepieSubmissions        277      272  132.0\n",
       "atrioc                      405      367  130.0\n",
       "gaming                      203      252  119.0\n",
       "PublicFreakout              322      196  117.0\n",
       "funny                       181      227  102.0\n",
       "mildlyinteresting           152      219  101.0\n",
       "pics                        164      219   99.0\n",
       "PoliticalCompassMemes       539      211   99.0\n",
       "cursedcomments              226      225   99.0\n",
       "HolUp                       220      176   97.0\n",
       "greentext                   275      116   95.0\n",
       "politics                    286      197   92.0\n",
       "apexlegends                 304      161   92.0\n",
       "okbuddyretard               261      139   89.0\n",
       "worldnews                   190      171   88.0\n",
       "unpopularopinion            318      178   85.0\n",
       "aww                         155      196   84.0\n",
       "ConnorEatsPants             805      196   84.0\n",
       "pcmasterrace                171      203   83.0\n",
       "mildlyinfuriating           123      136   82.0\n",
       "news                        182      160   79.0\n",
       "Unexpected                  139      151   79.0\n",
       "leagueoflegends             431      174   76.0\n",
       "PrequelMemes                156      162   76.0\n",
       "offlineTV                   224      202   76.0\n",
       "ksi                         298      143   76.0\n",
       "pokemon                     221      142   75.0\n",
       "Damnthatsinteresting        124      166   75.0\n",
       "shitposting                 293       91   74.0\n",
       "xqcow                       284      146   73.0\n",
       "me_irl                      123      114   72.0\n",
       "VALORANT                    286      202   72.0\n",
       "HistoryMemes                237      139   72.0\n",
       "RocketLeague                272      198   72.0\n",
       "todayilearned               134      147   71.0\n",
       "MadeMeSmile                 144      137   68.0\n",
       "Showerthoughts              145      155   68.0\n",
       "NoStupidQuestions           139      150   67.0\n",
       "AnarchyChess                250      130   67.0\n",
       "wallstreetbets              261      131   66.0"
      ],
      "text/html": "<div>\n<style scoped>\n    .dataframe tbody tr th:only-of-type {\n        vertical-align: middle;\n    }\n\n    .dataframe tbody tr th {\n        vertical-align: top;\n    }\n\n    .dataframe thead th {\n        text-align: right;\n    }\n</style>\n<table border=\"1\" class=\"dataframe\">\n  <thead>\n    <tr style=\"text-align: right;\">\n      <th></th>\n      <th>activity</th>\n      <th>rludwig</th>\n      <th>users</th>\n    </tr>\n  </thead>\n  <tbody>\n    <tr>\n      <th>AskReddit</th>\n      <td>1969</td>\n      <td>1211</td>\n      <td>555.0</td>\n    </tr>\n    <tr>\n      <th>LivestreamFail</th>\n      <td>2753</td>\n      <td>1278</td>\n      <td>450.0</td>\n    </tr>\n    <tr>\n      <th>memes</th>\n      <td>1725</td>\n      <td>634</td>\n      <td>354.0</td>\n    </tr>\n    <tr>\n      <th>dankmemes</th>\n      <td>689</td>\n      <td>408</td>\n      <td>208.0</td>\n    </tr>\n    <tr>\n      <th>teenagers</th>\n      <td>1563</td>\n      <td>388</td>\n      <td>200.0</td>\n    </tr>\n    <tr>\n      <th>196</th>\n      <td>1440</td>\n      <td>331</td>\n      <td>191.0</td>\n    </tr>\n    <tr>\n      <th>nextfuckinglevel</th>\n      <td>381</td>\n      <td>347</td>\n      <td>166.0</td>\n    </tr>\n    <tr>\n      <th>Cringetopia</th>\n      <td>478</td>\n      <td>220</td>\n      <td>147.0</td>\n    </tr>\n    <tr>\n      <th>interestingasfuck</th>\n      <td>300</td>\n      <td>299</td>\n      <td>147.0</td>\n    </tr>\n    <tr>\n      <th>Minecraft</th>\n      <td>303</td>\n      <td>291</td>\n      <td>141.0</td>\n    </tr>\n    <tr>\n      <th>PewdiepieSubmissions</th>\n      <td>277</td>\n      <td>272</td>\n      <td>132.0</td>\n    </tr>\n    <tr>\n      <th>atrioc</th>\n      <td>405</td>\n      <td>367</td>\n      <td>130.0</td>\n    </tr>\n    <tr>\n      <th>gaming</th>\n      <td>203</td>\n      <td>252</td>\n      <td>119.0</td>\n    </tr>\n    <tr>\n      <th>PublicFreakout</th>\n      <td>322</td>\n      <td>196</td>\n      <td>117.0</td>\n    </tr>\n    <tr>\n      <th>funny</th>\n      <td>181</td>\n      <td>227</td>\n      <td>102.0</td>\n    </tr>\n    <tr>\n      <th>mildlyinteresting</th>\n      <td>152</td>\n      <td>219</td>\n      <td>101.0</td>\n    </tr>\n    <tr>\n      <th>pics</th>\n      <td>164</td>\n      <td>219</td>\n      <td>99.0</td>\n    </tr>\n    <tr>\n      <th>PoliticalCompassMemes</th>\n      <td>539</td>\n      <td>211</td>\n      <td>99.0</td>\n    </tr>\n    <tr>\n      <th>cursedcomments</th>\n      <td>226</td>\n      <td>225</td>\n      <td>99.0</td>\n    </tr>\n    <tr>\n      <th>HolUp</th>\n      <td>220</td>\n      <td>176</td>\n      <td>97.0</td>\n    </tr>\n    <tr>\n      <th>greentext</th>\n      <td>275</td>\n      <td>116</td>\n      <td>95.0</td>\n    </tr>\n    <tr>\n      <th>politics</th>\n      <td>286</td>\n      <td>197</td>\n      <td>92.0</td>\n    </tr>\n    <tr>\n      <th>apexlegends</th>\n      <td>304</td>\n      <td>161</td>\n      <td>92.0</td>\n    </tr>\n    <tr>\n      <th>okbuddyretard</th>\n      <td>261</td>\n      <td>139</td>\n      <td>89.0</td>\n    </tr>\n    <tr>\n      <th>worldnews</th>\n      <td>190</td>\n      <td>171</td>\n      <td>88.0</td>\n    </tr>\n    <tr>\n      <th>unpopularopinion</th>\n      <td>318</td>\n      <td>178</td>\n      <td>85.0</td>\n    </tr>\n    <tr>\n      <th>aww</th>\n      <td>155</td>\n      <td>196</td>\n      <td>84.0</td>\n    </tr>\n    <tr>\n      <th>ConnorEatsPants</th>\n      <td>805</td>\n      <td>196</td>\n      <td>84.0</td>\n    </tr>\n    <tr>\n      <th>pcmasterrace</th>\n      <td>171</td>\n      <td>203</td>\n      <td>83.0</td>\n    </tr>\n    <tr>\n      <th>mildlyinfuriating</th>\n      <td>123</td>\n      <td>136</td>\n      <td>82.0</td>\n    </tr>\n    <tr>\n      <th>news</th>\n      <td>182</td>\n      <td>160</td>\n      <td>79.0</td>\n    </tr>\n    <tr>\n      <th>Unexpected</th>\n      <td>139</td>\n      <td>151</td>\n      <td>79.0</td>\n    </tr>\n    <tr>\n      <th>leagueoflegends</th>\n      <td>431</td>\n      <td>174</td>\n      <td>76.0</td>\n    </tr>\n    <tr>\n      <th>PrequelMemes</th>\n      <td>156</td>\n      <td>162</td>\n      <td>76.0</td>\n    </tr>\n    <tr>\n      <th>offlineTV</th>\n      <td>224</td>\n      <td>202</td>\n      <td>76.0</td>\n    </tr>\n    <tr>\n      <th>ksi</th>\n      <td>298</td>\n      <td>143</td>\n      <td>76.0</td>\n    </tr>\n    <tr>\n      <th>pokemon</th>\n      <td>221</td>\n      <td>142</td>\n      <td>75.0</td>\n    </tr>\n    <tr>\n      <th>Damnthatsinteresting</th>\n      <td>124</td>\n      <td>166</td>\n      <td>75.0</td>\n    </tr>\n    <tr>\n      <th>shitposting</th>\n      <td>293</td>\n      <td>91</td>\n      <td>74.0</td>\n    </tr>\n    <tr>\n      <th>xqcow</th>\n      <td>284</td>\n      <td>146</td>\n      <td>73.0</td>\n    </tr>\n    <tr>\n      <th>me_irl</th>\n      <td>123</td>\n      <td>114</td>\n      <td>72.0</td>\n    </tr>\n    <tr>\n      <th>VALORANT</th>\n      <td>286</td>\n      <td>202</td>\n      <td>72.0</td>\n    </tr>\n    <tr>\n      <th>HistoryMemes</th>\n      <td>237</td>\n      <td>139</td>\n      <td>72.0</td>\n    </tr>\n    <tr>\n      <th>RocketLeague</th>\n      <td>272</td>\n      <td>198</td>\n      <td>72.0</td>\n    </tr>\n    <tr>\n      <th>todayilearned</th>\n      <td>134</td>\n      <td>147</td>\n      <td>71.0</td>\n    </tr>\n    <tr>\n      <th>MadeMeSmile</th>\n      <td>144</td>\n      <td>137</td>\n      <td>68.0</td>\n    </tr>\n    <tr>\n      <th>Showerthoughts</th>\n      <td>145</td>\n      <td>155</td>\n      <td>68.0</td>\n    </tr>\n    <tr>\n      <th>NoStupidQuestions</th>\n      <td>139</td>\n      <td>150</td>\n      <td>67.0</td>\n    </tr>\n    <tr>\n      <th>AnarchyChess</th>\n      <td>250</td>\n      <td>130</td>\n      <td>67.0</td>\n    </tr>\n    <tr>\n      <th>wallstreetbets</th>\n      <td>261</td>\n      <td>131</td>\n      <td>66.0</td>\n    </tr>\n  </tbody>\n</table>\n</div>"
     },
     "metadata": {},
     "execution_count": 7
    }
   ],
   "source": [
    "df.sort_values(by=['users'],ascending=False, inplace=True)\n",
    "df.head(50)"
   ]
  },
  {
   "source": [
    "## Plotting\n",
    "Constructing the plot with plotly"
   ],
   "cell_type": "markdown",
   "metadata": {}
  },
  {
   "cell_type": "code",
   "execution_count": 8,
   "metadata": {},
   "outputs": [
    {
     "output_type": "display_data",
     "data": {
      "application/vnd.plotly.v1+json": {
       "config": {
        "plotlyServerURL": "https://plotly.com"
       },
       "data": [
        {
         "marker": {
          "line": {
           "width": 2
          },
          "opacity": 0.5,
          "size": 69,
          "sizemode": "area",
          "sizeref": 0.07708333333333334
         },
         "mode": "markers",
         "name": "AskReddit",
         "text": "Activity in AskReddit: 1969.0<br>Activity in r/LudwigAhgren: 1211.0<br>Overlapping Users: 555.0",
         "type": "scatter",
         "x": [
          1211
         ],
         "y": [
          1969
         ]
        },
        {
         "marker": {
          "line": {
           "width": 2
          },
          "opacity": 0.5,
          "size": 56,
          "sizemode": "area",
          "sizeref": 0.07708333333333334
         },
         "mode": "markers",
         "name": "LivestreamFail",
         "text": "Activity in LivestreamFail: 2753.0<br>Activity in r/LudwigAhgren: 1278.0<br>Overlapping Users: 450.0",
         "type": "scatter",
         "x": [
          1278
         ],
         "y": [
          2753
         ]
        },
        {
         "marker": {
          "line": {
           "width": 2
          },
          "opacity": 0.5,
          "size": 44,
          "sizemode": "area",
          "sizeref": 0.07708333333333334
         },
         "mode": "markers",
         "name": "memes",
         "text": "Activity in memes: 1725.0<br>Activity in r/LudwigAhgren: 634.0<br>Overlapping Users: 354.0",
         "type": "scatter",
         "x": [
          634
         ],
         "y": [
          1725
         ]
        },
        {
         "marker": {
          "line": {
           "width": 2
          },
          "opacity": 0.5,
          "size": 26,
          "sizemode": "area",
          "sizeref": 0.07708333333333334
         },
         "mode": "markers",
         "name": "dankmemes",
         "text": "Activity in dankmemes: 689.0<br>Activity in r/LudwigAhgren: 408.0<br>Overlapping Users: 208.0",
         "type": "scatter",
         "x": [
          408
         ],
         "y": [
          689
         ]
        },
        {
         "marker": {
          "line": {
           "width": 2
          },
          "opacity": 0.5,
          "size": 25,
          "sizemode": "area",
          "sizeref": 0.07708333333333334
         },
         "mode": "markers",
         "name": "teenagers",
         "text": "Activity in teenagers: 1563.0<br>Activity in r/LudwigAhgren: 388.0<br>Overlapping Users: 200.0",
         "type": "scatter",
         "x": [
          388
         ],
         "y": [
          1563
         ]
        },
        {
         "marker": {
          "line": {
           "width": 2
          },
          "opacity": 0.5,
          "size": 23,
          "sizemode": "area",
          "sizeref": 0.07708333333333334
         },
         "mode": "markers",
         "name": "196",
         "text": "Activity in 196: 1440.0<br>Activity in r/LudwigAhgren: 331.0<br>Overlapping Users: 191.0",
         "type": "scatter",
         "x": [
          331
         ],
         "y": [
          1440
         ]
        },
        {
         "marker": {
          "line": {
           "width": 2
          },
          "opacity": 0.5,
          "size": 20,
          "sizemode": "area",
          "sizeref": 0.07708333333333334
         },
         "mode": "markers",
         "name": "nextfuckinglevel",
         "text": "Activity in nextfuckinglevel: 381.0<br>Activity in r/LudwigAhgren: 347.0<br>Overlapping Users: 166.0",
         "type": "scatter",
         "x": [
          347
         ],
         "y": [
          381
         ]
        },
        {
         "marker": {
          "line": {
           "width": 2
          },
          "opacity": 0.5,
          "size": 18,
          "sizemode": "area",
          "sizeref": 0.07708333333333334
         },
         "mode": "markers",
         "name": "Cringetopia",
         "text": "Activity in Cringetopia: 478.0<br>Activity in r/LudwigAhgren: 220.0<br>Overlapping Users: 147.0",
         "type": "scatter",
         "x": [
          220
         ],
         "y": [
          478
         ]
        },
        {
         "marker": {
          "line": {
           "width": 2
          },
          "opacity": 0.5,
          "size": 18,
          "sizemode": "area",
          "sizeref": 0.07708333333333334
         },
         "mode": "markers",
         "name": "interestingasfuck",
         "text": "Activity in interestingasfuck: 300.0<br>Activity in r/LudwigAhgren: 299.0<br>Overlapping Users: 147.0",
         "type": "scatter",
         "x": [
          299
         ],
         "y": [
          300
         ]
        },
        {
         "marker": {
          "line": {
           "width": 2
          },
          "opacity": 0.5,
          "size": 17,
          "sizemode": "area",
          "sizeref": 0.07708333333333334
         },
         "mode": "markers",
         "name": "Minecraft",
         "text": "Activity in Minecraft: 303.0<br>Activity in r/LudwigAhgren: 291.0<br>Overlapping Users: 141.0",
         "type": "scatter",
         "x": [
          291
         ],
         "y": [
          303
         ]
        },
        {
         "marker": {
          "line": {
           "width": 2
          },
          "opacity": 0.5,
          "size": 16,
          "sizemode": "area",
          "sizeref": 0.07708333333333334
         },
         "mode": "markers",
         "name": "PewdiepieSubmissions",
         "text": "Activity in PewdiepieSubmissions: 277.0<br>Activity in r/LudwigAhgren: 272.0<br>Overlapping Users: 132.0",
         "type": "scatter",
         "x": [
          272
         ],
         "y": [
          277
         ]
        },
        {
         "marker": {
          "line": {
           "width": 2
          },
          "opacity": 0.5,
          "size": 16,
          "sizemode": "area",
          "sizeref": 0.07708333333333334
         },
         "mode": "markers",
         "name": "atrioc",
         "text": "Activity in atrioc: 405.0<br>Activity in r/LudwigAhgren: 367.0<br>Overlapping Users: 130.0",
         "type": "scatter",
         "x": [
          367
         ],
         "y": [
          405
         ]
        },
        {
         "marker": {
          "line": {
           "width": 2
          },
          "opacity": 0.5,
          "size": 14,
          "sizemode": "area",
          "sizeref": 0.07708333333333334
         },
         "mode": "markers",
         "name": "gaming",
         "text": "Activity in gaming: 203.0<br>Activity in r/LudwigAhgren: 252.0<br>Overlapping Users: 119.0",
         "type": "scatter",
         "x": [
          252
         ],
         "y": [
          203
         ]
        },
        {
         "marker": {
          "line": {
           "width": 2
          },
          "opacity": 0.5,
          "size": 14,
          "sizemode": "area",
          "sizeref": 0.07708333333333334
         },
         "mode": "markers",
         "name": "PublicFreakout",
         "text": "Activity in PublicFreakout: 322.0<br>Activity in r/LudwigAhgren: 196.0<br>Overlapping Users: 117.0",
         "type": "scatter",
         "x": [
          196
         ],
         "y": [
          322
         ]
        },
        {
         "marker": {
          "line": {
           "width": 2
          },
          "opacity": 0.5,
          "size": 12,
          "sizemode": "area",
          "sizeref": 0.07708333333333334
         },
         "mode": "markers",
         "name": "funny",
         "text": "Activity in funny: 181.0<br>Activity in r/LudwigAhgren: 227.0<br>Overlapping Users: 102.0",
         "type": "scatter",
         "x": [
          227
         ],
         "y": [
          181
         ]
        },
        {
         "marker": {
          "line": {
           "width": 2
          },
          "opacity": 0.5,
          "size": 12,
          "sizemode": "area",
          "sizeref": 0.07708333333333334
         },
         "mode": "markers",
         "name": "mildlyinteresting",
         "text": "Activity in mildlyinteresting: 152.0<br>Activity in r/LudwigAhgren: 219.0<br>Overlapping Users: 101.0",
         "type": "scatter",
         "x": [
          219
         ],
         "y": [
          152
         ]
        },
        {
         "marker": {
          "line": {
           "width": 2
          },
          "opacity": 0.5,
          "size": 12,
          "sizemode": "area",
          "sizeref": 0.07708333333333334
         },
         "mode": "markers",
         "name": "pics",
         "text": "Activity in pics: 164.0<br>Activity in r/LudwigAhgren: 219.0<br>Overlapping Users: 99.0",
         "type": "scatter",
         "x": [
          219
         ],
         "y": [
          164
         ]
        },
        {
         "marker": {
          "line": {
           "width": 2
          },
          "opacity": 0.5,
          "size": 12,
          "sizemode": "area",
          "sizeref": 0.07708333333333334
         },
         "mode": "markers",
         "name": "PoliticalCompassMemes",
         "text": "Activity in PoliticalCompassMemes: 539.0<br>Activity in r/LudwigAhgren: 211.0<br>Overlapping Users: 99.0",
         "type": "scatter",
         "x": [
          211
         ],
         "y": [
          539
         ]
        },
        {
         "marker": {
          "line": {
           "width": 2
          },
          "opacity": 0.5,
          "size": 12,
          "sizemode": "area",
          "sizeref": 0.07708333333333334
         },
         "mode": "markers",
         "name": "cursedcomments",
         "text": "Activity in cursedcomments: 226.0<br>Activity in r/LudwigAhgren: 225.0<br>Overlapping Users: 99.0",
         "type": "scatter",
         "x": [
          225
         ],
         "y": [
          226
         ]
        },
        {
         "marker": {
          "line": {
           "width": 2
          },
          "opacity": 0.5,
          "size": 12,
          "sizemode": "area",
          "sizeref": 0.07708333333333334
         },
         "mode": "markers",
         "name": "HolUp",
         "text": "Activity in HolUp: 220.0<br>Activity in r/LudwigAhgren: 176.0<br>Overlapping Users: 97.0",
         "type": "scatter",
         "x": [
          176
         ],
         "y": [
          220
         ]
        },
        {
         "marker": {
          "line": {
           "width": 2
          },
          "opacity": 0.5,
          "size": 11,
          "sizemode": "area",
          "sizeref": 0.07708333333333334
         },
         "mode": "markers",
         "name": "greentext",
         "text": "Activity in greentext: 275.0<br>Activity in r/LudwigAhgren: 116.0<br>Overlapping Users: 95.0",
         "type": "scatter",
         "x": [
          116
         ],
         "y": [
          275
         ]
        },
        {
         "marker": {
          "line": {
           "width": 2
          },
          "opacity": 0.5,
          "size": 11,
          "sizemode": "area",
          "sizeref": 0.07708333333333334
         },
         "mode": "markers",
         "name": "politics",
         "text": "Activity in politics: 286.0<br>Activity in r/LudwigAhgren: 197.0<br>Overlapping Users: 92.0",
         "type": "scatter",
         "x": [
          197
         ],
         "y": [
          286
         ]
        },
        {
         "marker": {
          "line": {
           "width": 2
          },
          "opacity": 0.5,
          "size": 11,
          "sizemode": "area",
          "sizeref": 0.07708333333333334
         },
         "mode": "markers",
         "name": "apexlegends",
         "text": "Activity in apexlegends: 304.0<br>Activity in r/LudwigAhgren: 161.0<br>Overlapping Users: 92.0",
         "type": "scatter",
         "x": [
          161
         ],
         "y": [
          304
         ]
        },
        {
         "marker": {
          "line": {
           "width": 2
          },
          "opacity": 0.5,
          "size": 11,
          "sizemode": "area",
          "sizeref": 0.07708333333333334
         },
         "mode": "markers",
         "name": "okbuddyretard",
         "text": "Activity in okbuddyretard: 261.0<br>Activity in r/LudwigAhgren: 139.0<br>Overlapping Users: 89.0",
         "type": "scatter",
         "x": [
          139
         ],
         "y": [
          261
         ]
        },
        {
         "marker": {
          "line": {
           "width": 2
          },
          "opacity": 0.5,
          "size": 11,
          "sizemode": "area",
          "sizeref": 0.07708333333333334
         },
         "mode": "markers",
         "name": "worldnews",
         "text": "Activity in worldnews: 190.0<br>Activity in r/LudwigAhgren: 171.0<br>Overlapping Users: 88.0",
         "type": "scatter",
         "x": [
          171
         ],
         "y": [
          190
         ]
        },
        {
         "marker": {
          "line": {
           "width": 2
          },
          "opacity": 0.5,
          "size": 10,
          "sizemode": "area",
          "sizeref": 0.07708333333333334
         },
         "mode": "markers",
         "name": "unpopularopinion",
         "text": "Activity in unpopularopinion: 318.0<br>Activity in r/LudwigAhgren: 178.0<br>Overlapping Users: 85.0",
         "type": "scatter",
         "x": [
          178
         ],
         "y": [
          318
         ]
        },
        {
         "marker": {
          "line": {
           "width": 2
          },
          "opacity": 0.5,
          "size": 10,
          "sizemode": "area",
          "sizeref": 0.07708333333333334
         },
         "mode": "markers",
         "name": "aww",
         "text": "Activity in aww: 155.0<br>Activity in r/LudwigAhgren: 196.0<br>Overlapping Users: 84.0",
         "type": "scatter",
         "x": [
          196
         ],
         "y": [
          155
         ]
        },
        {
         "marker": {
          "line": {
           "width": 2
          },
          "opacity": 0.5,
          "size": 10,
          "sizemode": "area",
          "sizeref": 0.07708333333333334
         },
         "mode": "markers",
         "name": "ConnorEatsPants",
         "text": "Activity in ConnorEatsPants: 805.0<br>Activity in r/LudwigAhgren: 196.0<br>Overlapping Users: 84.0",
         "type": "scatter",
         "x": [
          196
         ],
         "y": [
          805
         ]
        },
        {
         "marker": {
          "line": {
           "width": 2
          },
          "opacity": 0.5,
          "size": 10,
          "sizemode": "area",
          "sizeref": 0.07708333333333334
         },
         "mode": "markers",
         "name": "pcmasterrace",
         "text": "Activity in pcmasterrace: 171.0<br>Activity in r/LudwigAhgren: 203.0<br>Overlapping Users: 83.0",
         "type": "scatter",
         "x": [
          203
         ],
         "y": [
          171
         ]
        },
        {
         "marker": {
          "line": {
           "width": 2
          },
          "opacity": 0.5,
          "size": 10,
          "sizemode": "area",
          "sizeref": 0.07708333333333334
         },
         "mode": "markers",
         "name": "mildlyinfuriating",
         "text": "Activity in mildlyinfuriating: 123.0<br>Activity in r/LudwigAhgren: 136.0<br>Overlapping Users: 82.0",
         "type": "scatter",
         "x": [
          136
         ],
         "y": [
          123
         ]
        }
       ],
       "layout": {
        "height": 900,
        "legend": {
         "itemsizing": "trace",
         "title": {
          "font": {
           "size": 18
          },
          "text": "Subreddits by overlapping user count<br><br>Bubble size proportional to user count"
         }
        },
        "paper_bgcolor": "rgb(243, 243, 243)",
        "plot_bgcolor": "rgb(243, 243, 243)",
        "template": {
         "data": {
          "bar": [
           {
            "error_x": {
             "color": "#2a3f5f"
            },
            "error_y": {
             "color": "#2a3f5f"
            },
            "marker": {
             "line": {
              "color": "#E5ECF6",
              "width": 0.5
             }
            },
            "type": "bar"
           }
          ],
          "barpolar": [
           {
            "marker": {
             "line": {
              "color": "#E5ECF6",
              "width": 0.5
             }
            },
            "type": "barpolar"
           }
          ],
          "carpet": [
           {
            "aaxis": {
             "endlinecolor": "#2a3f5f",
             "gridcolor": "white",
             "linecolor": "white",
             "minorgridcolor": "white",
             "startlinecolor": "#2a3f5f"
            },
            "baxis": {
             "endlinecolor": "#2a3f5f",
             "gridcolor": "white",
             "linecolor": "white",
             "minorgridcolor": "white",
             "startlinecolor": "#2a3f5f"
            },
            "type": "carpet"
           }
          ],
          "choropleth": [
           {
            "colorbar": {
             "outlinewidth": 0,
             "ticks": ""
            },
            "type": "choropleth"
           }
          ],
          "contour": [
           {
            "colorbar": {
             "outlinewidth": 0,
             "ticks": ""
            },
            "colorscale": [
             [
              0,
              "#0d0887"
             ],
             [
              0.1111111111111111,
              "#46039f"
             ],
             [
              0.2222222222222222,
              "#7201a8"
             ],
             [
              0.3333333333333333,
              "#9c179e"
             ],
             [
              0.4444444444444444,
              "#bd3786"
             ],
             [
              0.5555555555555556,
              "#d8576b"
             ],
             [
              0.6666666666666666,
              "#ed7953"
             ],
             [
              0.7777777777777778,
              "#fb9f3a"
             ],
             [
              0.8888888888888888,
              "#fdca26"
             ],
             [
              1,
              "#f0f921"
             ]
            ],
            "type": "contour"
           }
          ],
          "contourcarpet": [
           {
            "colorbar": {
             "outlinewidth": 0,
             "ticks": ""
            },
            "type": "contourcarpet"
           }
          ],
          "heatmap": [
           {
            "colorbar": {
             "outlinewidth": 0,
             "ticks": ""
            },
            "colorscale": [
             [
              0,
              "#0d0887"
             ],
             [
              0.1111111111111111,
              "#46039f"
             ],
             [
              0.2222222222222222,
              "#7201a8"
             ],
             [
              0.3333333333333333,
              "#9c179e"
             ],
             [
              0.4444444444444444,
              "#bd3786"
             ],
             [
              0.5555555555555556,
              "#d8576b"
             ],
             [
              0.6666666666666666,
              "#ed7953"
             ],
             [
              0.7777777777777778,
              "#fb9f3a"
             ],
             [
              0.8888888888888888,
              "#fdca26"
             ],
             [
              1,
              "#f0f921"
             ]
            ],
            "type": "heatmap"
           }
          ],
          "heatmapgl": [
           {
            "colorbar": {
             "outlinewidth": 0,
             "ticks": ""
            },
            "colorscale": [
             [
              0,
              "#0d0887"
             ],
             [
              0.1111111111111111,
              "#46039f"
             ],
             [
              0.2222222222222222,
              "#7201a8"
             ],
             [
              0.3333333333333333,
              "#9c179e"
             ],
             [
              0.4444444444444444,
              "#bd3786"
             ],
             [
              0.5555555555555556,
              "#d8576b"
             ],
             [
              0.6666666666666666,
              "#ed7953"
             ],
             [
              0.7777777777777778,
              "#fb9f3a"
             ],
             [
              0.8888888888888888,
              "#fdca26"
             ],
             [
              1,
              "#f0f921"
             ]
            ],
            "type": "heatmapgl"
           }
          ],
          "histogram": [
           {
            "marker": {
             "colorbar": {
              "outlinewidth": 0,
              "ticks": ""
             }
            },
            "type": "histogram"
           }
          ],
          "histogram2d": [
           {
            "colorbar": {
             "outlinewidth": 0,
             "ticks": ""
            },
            "colorscale": [
             [
              0,
              "#0d0887"
             ],
             [
              0.1111111111111111,
              "#46039f"
             ],
             [
              0.2222222222222222,
              "#7201a8"
             ],
             [
              0.3333333333333333,
              "#9c179e"
             ],
             [
              0.4444444444444444,
              "#bd3786"
             ],
             [
              0.5555555555555556,
              "#d8576b"
             ],
             [
              0.6666666666666666,
              "#ed7953"
             ],
             [
              0.7777777777777778,
              "#fb9f3a"
             ],
             [
              0.8888888888888888,
              "#fdca26"
             ],
             [
              1,
              "#f0f921"
             ]
            ],
            "type": "histogram2d"
           }
          ],
          "histogram2dcontour": [
           {
            "colorbar": {
             "outlinewidth": 0,
             "ticks": ""
            },
            "colorscale": [
             [
              0,
              "#0d0887"
             ],
             [
              0.1111111111111111,
              "#46039f"
             ],
             [
              0.2222222222222222,
              "#7201a8"
             ],
             [
              0.3333333333333333,
              "#9c179e"
             ],
             [
              0.4444444444444444,
              "#bd3786"
             ],
             [
              0.5555555555555556,
              "#d8576b"
             ],
             [
              0.6666666666666666,
              "#ed7953"
             ],
             [
              0.7777777777777778,
              "#fb9f3a"
             ],
             [
              0.8888888888888888,
              "#fdca26"
             ],
             [
              1,
              "#f0f921"
             ]
            ],
            "type": "histogram2dcontour"
           }
          ],
          "mesh3d": [
           {
            "colorbar": {
             "outlinewidth": 0,
             "ticks": ""
            },
            "type": "mesh3d"
           }
          ],
          "parcoords": [
           {
            "line": {
             "colorbar": {
              "outlinewidth": 0,
              "ticks": ""
             }
            },
            "type": "parcoords"
           }
          ],
          "pie": [
           {
            "automargin": true,
            "type": "pie"
           }
          ],
          "scatter": [
           {
            "marker": {
             "colorbar": {
              "outlinewidth": 0,
              "ticks": ""
             }
            },
            "type": "scatter"
           }
          ],
          "scatter3d": [
           {
            "line": {
             "colorbar": {
              "outlinewidth": 0,
              "ticks": ""
             }
            },
            "marker": {
             "colorbar": {
              "outlinewidth": 0,
              "ticks": ""
             }
            },
            "type": "scatter3d"
           }
          ],
          "scattercarpet": [
           {
            "marker": {
             "colorbar": {
              "outlinewidth": 0,
              "ticks": ""
             }
            },
            "type": "scattercarpet"
           }
          ],
          "scattergeo": [
           {
            "marker": {
             "colorbar": {
              "outlinewidth": 0,
              "ticks": ""
             }
            },
            "type": "scattergeo"
           }
          ],
          "scattergl": [
           {
            "marker": {
             "colorbar": {
              "outlinewidth": 0,
              "ticks": ""
             }
            },
            "type": "scattergl"
           }
          ],
          "scattermapbox": [
           {
            "marker": {
             "colorbar": {
              "outlinewidth": 0,
              "ticks": ""
             }
            },
            "type": "scattermapbox"
           }
          ],
          "scatterpolar": [
           {
            "marker": {
             "colorbar": {
              "outlinewidth": 0,
              "ticks": ""
             }
            },
            "type": "scatterpolar"
           }
          ],
          "scatterpolargl": [
           {
            "marker": {
             "colorbar": {
              "outlinewidth": 0,
              "ticks": ""
             }
            },
            "type": "scatterpolargl"
           }
          ],
          "scatterternary": [
           {
            "marker": {
             "colorbar": {
              "outlinewidth": 0,
              "ticks": ""
             }
            },
            "type": "scatterternary"
           }
          ],
          "surface": [
           {
            "colorbar": {
             "outlinewidth": 0,
             "ticks": ""
            },
            "colorscale": [
             [
              0,
              "#0d0887"
             ],
             [
              0.1111111111111111,
              "#46039f"
             ],
             [
              0.2222222222222222,
              "#7201a8"
             ],
             [
              0.3333333333333333,
              "#9c179e"
             ],
             [
              0.4444444444444444,
              "#bd3786"
             ],
             [
              0.5555555555555556,
              "#d8576b"
             ],
             [
              0.6666666666666666,
              "#ed7953"
             ],
             [
              0.7777777777777778,
              "#fb9f3a"
             ],
             [
              0.8888888888888888,
              "#fdca26"
             ],
             [
              1,
              "#f0f921"
             ]
            ],
            "type": "surface"
           }
          ],
          "table": [
           {
            "cells": {
             "fill": {
              "color": "#EBF0F8"
             },
             "line": {
              "color": "white"
             }
            },
            "header": {
             "fill": {
              "color": "#C8D4E3"
             },
             "line": {
              "color": "white"
             }
            },
            "type": "table"
           }
          ]
         },
         "layout": {
          "annotationdefaults": {
           "arrowcolor": "#2a3f5f",
           "arrowhead": 0,
           "arrowwidth": 1
          },
          "autotypenumbers": "strict",
          "coloraxis": {
           "colorbar": {
            "outlinewidth": 0,
            "ticks": ""
           }
          },
          "colorscale": {
           "diverging": [
            [
             0,
             "#8e0152"
            ],
            [
             0.1,
             "#c51b7d"
            ],
            [
             0.2,
             "#de77ae"
            ],
            [
             0.3,
             "#f1b6da"
            ],
            [
             0.4,
             "#fde0ef"
            ],
            [
             0.5,
             "#f7f7f7"
            ],
            [
             0.6,
             "#e6f5d0"
            ],
            [
             0.7,
             "#b8e186"
            ],
            [
             0.8,
             "#7fbc41"
            ],
            [
             0.9,
             "#4d9221"
            ],
            [
             1,
             "#276419"
            ]
           ],
           "sequential": [
            [
             0,
             "#0d0887"
            ],
            [
             0.1111111111111111,
             "#46039f"
            ],
            [
             0.2222222222222222,
             "#7201a8"
            ],
            [
             0.3333333333333333,
             "#9c179e"
            ],
            [
             0.4444444444444444,
             "#bd3786"
            ],
            [
             0.5555555555555556,
             "#d8576b"
            ],
            [
             0.6666666666666666,
             "#ed7953"
            ],
            [
             0.7777777777777778,
             "#fb9f3a"
            ],
            [
             0.8888888888888888,
             "#fdca26"
            ],
            [
             1,
             "#f0f921"
            ]
           ],
           "sequentialminus": [
            [
             0,
             "#0d0887"
            ],
            [
             0.1111111111111111,
             "#46039f"
            ],
            [
             0.2222222222222222,
             "#7201a8"
            ],
            [
             0.3333333333333333,
             "#9c179e"
            ],
            [
             0.4444444444444444,
             "#bd3786"
            ],
            [
             0.5555555555555556,
             "#d8576b"
            ],
            [
             0.6666666666666666,
             "#ed7953"
            ],
            [
             0.7777777777777778,
             "#fb9f3a"
            ],
            [
             0.8888888888888888,
             "#fdca26"
            ],
            [
             1,
             "#f0f921"
            ]
           ]
          },
          "colorway": [
           "#636efa",
           "#EF553B",
           "#00cc96",
           "#ab63fa",
           "#FFA15A",
           "#19d3f3",
           "#FF6692",
           "#B6E880",
           "#FF97FF",
           "#FECB52"
          ],
          "font": {
           "color": "#2a3f5f"
          },
          "geo": {
           "bgcolor": "white",
           "lakecolor": "white",
           "landcolor": "#E5ECF6",
           "showlakes": true,
           "showland": true,
           "subunitcolor": "white"
          },
          "hoverlabel": {
           "align": "left"
          },
          "hovermode": "closest",
          "mapbox": {
           "style": "light"
          },
          "paper_bgcolor": "white",
          "plot_bgcolor": "#E5ECF6",
          "polar": {
           "angularaxis": {
            "gridcolor": "white",
            "linecolor": "white",
            "ticks": ""
           },
           "bgcolor": "#E5ECF6",
           "radialaxis": {
            "gridcolor": "white",
            "linecolor": "white",
            "ticks": ""
           }
          },
          "scene": {
           "xaxis": {
            "backgroundcolor": "#E5ECF6",
            "gridcolor": "white",
            "gridwidth": 2,
            "linecolor": "white",
            "showbackground": true,
            "ticks": "",
            "zerolinecolor": "white"
           },
           "yaxis": {
            "backgroundcolor": "#E5ECF6",
            "gridcolor": "white",
            "gridwidth": 2,
            "linecolor": "white",
            "showbackground": true,
            "ticks": "",
            "zerolinecolor": "white"
           },
           "zaxis": {
            "backgroundcolor": "#E5ECF6",
            "gridcolor": "white",
            "gridwidth": 2,
            "linecolor": "white",
            "showbackground": true,
            "ticks": "",
            "zerolinecolor": "white"
           }
          },
          "shapedefaults": {
           "line": {
            "color": "#2a3f5f"
           }
          },
          "ternary": {
           "aaxis": {
            "gridcolor": "white",
            "linecolor": "white",
            "ticks": ""
           },
           "baxis": {
            "gridcolor": "white",
            "linecolor": "white",
            "ticks": ""
           },
           "bgcolor": "#E5ECF6",
           "caxis": {
            "gridcolor": "white",
            "linecolor": "white",
            "ticks": ""
           }
          },
          "title": {
           "x": 0.05
          },
          "xaxis": {
           "automargin": true,
           "gridcolor": "white",
           "linecolor": "white",
           "ticks": "",
           "title": {
            "standoff": 15
           },
           "zerolinecolor": "white",
           "zerolinewidth": 2
          },
          "yaxis": {
           "automargin": true,
           "gridcolor": "white",
           "linecolor": "white",
           "ticks": "",
           "title": {
            "standoff": 15
           },
           "zerolinecolor": "white",
           "zerolinewidth": 2
          }
         }
        },
        "title": {
         "text": "r/LudwigAhgren Crossover with other Subreddits (Top 30 by User Overlap)"
        },
        "width": 1650,
        "xaxis": {
         "gridcolor": "white",
         "gridwidth": 2,
         "title": {
          "text": "Activity (Posts+Comments) in r/LudwigAhgren"
         },
         "type": "linear"
        },
        "yaxis": {
         "gridcolor": "white",
         "gridwidth": 2,
         "title": {
          "text": "Activity (Posts+Comments) in other Subreddit"
         },
         "type": "linear"
        }
       }
      }
     },
     "metadata": {}
    }
   ],
   "source": [
    "hover_text = []\n",
    "bubble_size = []\n",
    "i = 1\n",
    "# Adding hover labels and bubble_sizes based on user overlap\n",
    "for index, row in df.iterrows():\n",
    "    hover_text.append(f'Activity in {index}: {row[\"activity\"]}<br>' +\n",
    "    f'Activity in r/LudwigAhgren: {row[\"rludwig\"]}<br>' +\n",
    "    f'Overlapping Users: {row[\"users\"]}')\n",
    "    bubble_size.append(row[\"users\"])\n",
    "    i += 1\n",
    "df['text'] = hover_text\n",
    "df['size'] = bubble_size\n",
    "\n",
    "fig = go.Figure()\n",
    "\n",
    "subreddit_data = {}\n",
    "annotations = []\n",
    "for index, row in df.iloc[0:30, :].iterrows():\n",
    "    subreddit_data[index] = df.loc[index, :]\n",
    "    # Annotations\n",
    "    show_arrow = False\n",
    "    yshift=15\n",
    "    startstandoff=0\n",
    "    yshift_adjust = {'PublicFreakout':20, 'aww': -10, 'Minecraft': 25, 'interestingasfuck': -10, 'PewdiepieSubmissions': -10}\n",
    "    if index in ['PublicFreakout', 'interestingasfuck','PewdiepieSubmissions', 'aww']:\n",
    "        yshift = yshift_adjust.get(index)\n",
    "    annotations.append(dict(text=index, showarrow=show_arrow, arrowhead=1, x=math.log(row['rludwig'])/math.log(10), y=math.log(row['activity'])/math.log(10),yshift=yshift))\n",
    "\n",
    "sizeref = 2. * max(df['size'].iloc[0:30]) / (120 ** 2)\n",
    "for subreddit_name, subreddit in subreddit_data.items():\n",
    "    fig.add_trace(go.Scatter(\n",
    "        x=[subreddit['rludwig']], y=[subreddit['activity']],\n",
    "        name=subreddit_name, text=subreddit['text'],  \n",
    "        marker_size=subreddit['size'] // 8, # Tune this paramater to fit the marker size you want\n",
    "    ))\n",
    "fig.update_traces(mode='markers', marker=dict(sizemode='area', sizeref=sizeref, line_width=2, opacity=0.5))\n",
    "\n",
    "# for annotation in annotations:\n",
    "#     fig.add_annotation(annotation)\n",
    "fig.update_layout(\n",
    "    title='r/LudwigAhgren Crossover with other Subreddits (Top 30 by User Overlap)',\n",
    "    xaxis=dict(\n",
    "        title='Activity (Posts+Comments) in r/LudwigAhgren',\n",
    "        gridcolor='white',\n",
    "        type='linear', # Change to log and uncomment the annotations for better visibility\n",
    "        gridwidth=2,\n",
    "    ),\n",
    "    yaxis=dict(\n",
    "        title='Activity (Posts+Comments) in other Subreddit',\n",
    "        gridcolor='white',\n",
    "        gridwidth=2,\n",
    "        type='linear' # Change to log and uncomment the annotations for better visibility\n",
    "    ),\n",
    "    legend=dict(\n",
    "        title=dict(text=\"\"\"Subreddits by overlapping user count<br><br>Bubble size proportional to user count\"\"\", font=dict(size=18)),\n",
    "        itemsizing=\"trace\"\n",
    "    ),\n",
    "    width=1650,\n",
    "    height=900,\n",
    "    paper_bgcolor='rgb(243, 243, 243)',\n",
    "    plot_bgcolor='rgb(243, 243, 243)',\n",
    ")\n",
    "fig.show()"
   ]
  },
  {
   "cell_type": "code",
   "execution_count": 11,
   "metadata": {},
   "outputs": [
    {
     "output_type": "execute_result",
     "data": {
      "text/plain": [
       "'https://plotly.com/~brandon-info/3/'"
      ]
     },
     "metadata": {},
     "execution_count": 11
    }
   ],
   "source": [
    "# Code block for publishing to chart studio, ignore.\n",
    "config=dict(scrollZoom=True)\n",
    "chart_studio.plotly.plot(fig, filename='ludwig_redditors', config=config)"
   ]
  },
  {
   "cell_type": "code",
   "execution_count": 12,
   "metadata": {},
   "outputs": [],
   "source": [
    "# Export df to csv\n",
    "df.to_csv(path_or_buf='activity.csv',index=True)"
   ]
  }
 ]
}