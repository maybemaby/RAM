{
 "metadata": {
  "language_info": {
   "codemirror_mode": {
    "name": "ipython",
    "version": 3
   },
   "file_extension": ".py",
   "mimetype": "text/x-python",
   "name": "python",
   "nbconvert_exporter": "python",
   "pygments_lexer": "ipython3",
   "version": "3.9.2"
  },
  "orig_nbformat": 2,
  "kernelspec": {
   "name": "python3",
   "display_name": "Python 3.9.2 64-bit ('venv': venv)"
  },
  "metadata": {
   "interpreter": {
    "hash": "63fd5069d213b44bf678585dea6b12cceca9941eaf7f819626cde1f2670de90d"
   }
  },
  "interpreter": {
   "hash": "8ea449b06e9a1bfcded44c92bcba125d496536b009f1b02bdaf6eec0f0896f2a"
  }
 },
 "nbformat": 4,
 "nbformat_minor": 2,
 "cells": [
  {
   "source": [
    "## Collecting subreddit data\n",
    "This is the file that is actually used to collect usernames from all posts and comments on a subreddit as well as their activity in other subreddits. If you want to see the code behind the functions in this script, look at the collector module."
   ],
   "cell_type": "markdown",
   "metadata": {}
  },
  {
   "cell_type": "code",
   "execution_count": 1,
   "metadata": {},
   "outputs": [
    {
     "output_type": "stream",
     "name": "stderr",
     "text": [
      "Version 7.2.0 of praw is outdated. Version 7.3.0 was released Thursday June 17, 2021.\n"
     ]
    }
   ],
   "source": [
    "import time, math\n",
    "import dill\n",
    "import pandas as pd\n",
    "import plotly.graph_objects as go\n",
    "import plotly.express as px\n",
    "import plotly.io as pio \n",
    "from redditalyzer import collector\n",
    "import chart_studio\n",
    "\n",
    "# If you are using vscode to render the chart\n",
    "pio.renderers.default = \"vscode\""
   ]
  },
  {
   "source": [
    "Enter the name of the subreddit you want to get data from below."
   ],
   "cell_type": "markdown",
   "metadata": {}
  },
  {
   "cell_type": "code",
   "execution_count": 2,
   "metadata": {},
   "outputs": [],
   "source": [
    "search_in = 'atrioc'"
   ]
  },
  {
   "source": [
    "The next two code blocks should be run to collect reddit usernames that have commented on the subreddit within a given time range. Default time range is within the last 30d. Time range can be changed with the start_date parameter of the request_pushift function. Accepted parameters can be found on the pushift API documentation. You should see the printed numbers begin to increase as the script collects more usernames.\n",
    "\n",
    "If you want to collect the usernames from the submissions as well, you have to change the endpoint param in the request_pushift functions."
   ],
   "cell_type": "markdown",
   "metadata": {}
  },
  {
   "cell_type": "code",
   "execution_count": null,
   "metadata": {},
   "outputs": [],
   "source": [
    "data, complete = collector.request_pushift(search_in, start_date='1y')\n",
    "comment_usernames = collector.pull_usernames(data)"
   ]
  },
  {
   "source": [
    "This code block should probably take less than 10 minutes for a month's worth of usernames on r/ludwigahgren.\n",
    "\n",
    "If the numbers stop printing it's because the pushift servers aren't responding due to either rate limits or high load. I set it retry after 10 seconds but if it happens for prolonged period of time their servers are probably just down and you should stop the script.\n",
    "\n",
    "**Do not remove any code related to rate limiting, pushift devs are generously providing a free api and worst case scenario you get blocked or something if you send too many requests.**"
   ],
   "cell_type": "markdown",
   "metadata": {}
  },
  {
   "cell_type": "code",
   "execution_count": null,
   "metadata": {
    "tags": []
   },
   "outputs": [],
   "source": [
    "while not complete:\n",
    "    try:\n",
    "        comment_date = collector.last_created(data)\n",
    "        data, complete = collector.request_pushift(search_in, start_date=comment_date)\n",
    "        comment_usernames = collector.pull_usernames(data, name_set=comment_usernames)\n",
    "    except RuntimeError:\n",
    "        time.sleep(10)\n",
    "        continue\n",
    "    except IndexError:\n",
    "        print(f\"Process complete, retrieved {len(comment_usernames)} usernames and ended at timestamp {comment_date}\")\n",
    "        break\n",
    "    else:\n",
    "        print(len(comment_usernames), comment_date)\n"
   ]
  },
  {
   "source": [
    "Code blocks for submission usernames"
   ],
   "cell_type": "markdown",
   "metadata": {}
  },
  {
   "cell_type": "code",
   "execution_count": null,
   "metadata": {},
   "outputs": [],
   "source": [
    "data, complete = collector.request_pushift(search_in, endpoint='submission')\n",
    "submission_usernames = collector.pull_usernames(data)"
   ]
  },
  {
   "cell_type": "code",
   "execution_count": null,
   "metadata": {},
   "outputs": [],
   "source": [
    "while not complete:\n",
    "    try:\n",
    "        submission_date = collector.last_created(data)\n",
    "        data, complete = collector.request_pushift(search_in, start_date=submission_date, endpoint='submission')\n",
    "        submission_usernames = collector.pull_usernames(data,name_set=submission_usernames)\n",
    "    except RuntimeError:\n",
    "        time.sleep(10)\n",
    "        continue\n",
    "    except IndexError:\n",
    "        print(f\"Process complete, retrieved {len(submission_usernames)} usernames and ended at timestamp {submission_date}\")\n",
    "        break\n",
    "    else:\n",
    "        print(len(submission_usernames), submission_date)"
   ]
  },
  {
   "source": [
    "Combining username sets and writing to a pickle file."
   ],
   "cell_type": "markdown",
   "metadata": {}
  },
  {
   "cell_type": "code",
   "execution_count": null,
   "metadata": {},
   "outputs": [],
   "source": [
    "total_usernames = comment_usernames.union(submission_usernames)"
   ]
  },
  {
   "cell_type": "code",
   "execution_count": null,
   "metadata": {},
   "outputs": [],
   "source": [
    "with open(f'usernames-{search_in}.dat', 'wb') as picklefile:\n",
    "    dill.dump(total_usernames, picklefile)"
   ]
  },
  {
   "cell_type": "code",
   "execution_count": 3,
   "metadata": {},
   "outputs": [],
   "source": [
    "with open(f'usernames-{search_in}.dat', 'rb') as dillfile:\n",
    "    username_set = dill.load(dillfile)"
   ]
  },
  {
   "source": [
    "Collecting the comments and submissions from our list of names using praw...\n",
    "\n",
    "Takes quite a while for a month's worth of users from a moderately active subreddit like r/ludwigahgren due to the large amount of requests made. Tried to use pushift api to speed it up but their servers are better suited to small amounts of bulk requests rather than large amounts of small requests like this. \n",
    "\n",
    "You could split up the usernames between the pushift api and praw to make it go faster but it should only take a few hours anyway if you're patient."
   ],
   "cell_type": "markdown",
   "metadata": {}
  },
  {
   "cell_type": "code",
   "execution_count": 4,
   "metadata": {
    "tags": [
     "outputPrepend"
    ]
   },
   "outputs": [
    {
     "output_type": "stream",
     "name": "stdout",
     "text": [
      "ink_karma'\n",
      "1901 conkiembock\n",
      "1902 MapoDiddy\n",
      "1903 JakeHutson\n",
      "1904 TimInterrante\n",
      "1905 kai_texans\n",
      "1906 mo-inc\n",
      "1907 jovili_\n",
      "1908 ActuallyGood786\n",
      "1909 grandma_needs_jesus\n",
      "1910 yoetboi69\n",
      "1911 BigwillyTwisty\n",
      "BigwillyTwisty could not be found. Error: received 404 HTTP response\n",
      "1912 totally_not_paul\n",
      "1913 RichardFarter\n",
      "1914 Slow_Pound8254\n",
      "1915 letmeoutpls\n",
      "1916 BryceE212\n",
      "1917 Bigfoop\n",
      "1918 gyaruruu\n",
      "1919 Shrenk69\n",
      "1920 Will_the_Thrill19\n",
      "1921 klausklass\n",
      "1922 9olp\n",
      "1923 TrueWiggles1305\n",
      "1924 Wolfgang_Amadeuss\n",
      "1925 FemboyInASkirt\n",
      "1926 Bre7t\n",
      "1927 SHEEPBBQ\n",
      "1928 I__Synergy__I\n",
      "1929 EMPTY__Meat\n",
      "1930 Greenguyme\n",
      "1931 rohin-m\n",
      "1932 TheOtodus\n",
      "1933 Daxnazzle\n",
      "1934 bvckspaced\n",
      "1935 giggleump\n",
      "1936 Hitlers_LeftTesticle\n",
      "1937 Surlap\n",
      "1938 bentaylorrr\n",
      "1939 Fingy123\n",
      "1940 BrownBagBoy\n",
      "1941 Ninja_underwear420\n",
      "1942 VoidMakesVids\n",
      "1943 NicoNomad\n",
      "1944 PollosTacos\n",
      "1945 babeybluecheese\n",
      "babeybluecheese could not be found. Error: received 404 HTTP response\n",
      "1946 Anti_Fake_Yoda_Bot\n",
      "1947 R_Wolf_48\n",
      "1948 Leafsfan32\n",
      "1949 riaath\n",
      "1950 regalchunky\n",
      "1951 aingelbg\n",
      "1952 AHH_im_on_fire\n",
      "1953 GarbageSoap\n",
      "1954 SpicyMeiMei\n",
      "1955 REDRAGE7091\n",
      "1956 CreepyPegassus\n",
      "1957 LINKOFTHEmALL\n",
      "1958 rulerBob8\n",
      "1959 Botchd_\n",
      "1960 -Thermic\n",
      "1961 JukeboxFrFr_\n",
      "1962 PopleV\n",
      "1963 Betalbuat\n",
      "1964 cole_c0703\n",
      "1965 Jiggylera\n",
      "1966 kirbysnow\n",
      "1967 patsi12\n",
      "1968 l1ll1__\n",
      "1969 ZedTT\n",
      "1970 ExactlyWHY34\n",
      "1971 Cloud8154\n",
      "1972 auddbot\n",
      "1973 Acrobatic-Brick1026\n",
      "1974 Drubino0\n",
      "1975 Schatwal96\n",
      "1976 TheGibster_13\n",
      "1977 DarkXxSider22\n",
      "1978 M_har22\n",
      "1979 schrammyy\n",
      "1980 RagnarMG\n",
      "1981 the-kosst-amojan\n",
      "1982 SnowFree_\n",
      "1983 StoopiePoopie\n",
      "1984 Liamnyberg23\n",
      "1985 T-Pochi\n",
      "1986 pacew21\n",
      "1987 __stephen27\n",
      "1988 TanukiLover\n",
      "1989 _Nedloh\n",
      "1990 Gulfcar\n",
      "Gulfcar could not be found. Error: received 404 HTTP response\n",
      "1991 Papayatoucan\n",
      "1992 guapstack\n",
      "1993 PMyourfeelings\n",
      "1994 Zaiffutv\n",
      "1995 darnatit\n",
      "1996 ImAFraidKn0t\n",
      "1997 ThatAceBird\n",
      "1998 MoreMaury\n",
      "1999 xhenryxx\n",
      "2000 speede2002\n",
      "2001 Solthos\n",
      "2002 loganjags11\n",
      "2003 mofeo\n",
      "2004 ItsSaturnnz\n",
      "2005 Foxtro7\n",
      "2006 Skullripper675\n",
      "2007 LusterBlaze\n",
      "2008 MGSCG\n",
      "2009 k9jag\n",
      "2010 AgentFenix\n",
      "2011 CrimUmbra\n",
      "2012 BatDuck29\n",
      "2013 Talladega95\n",
      "2014 marxist_lemon\n",
      "2015 Skylarkski\n",
      "2016 elmans1529\n",
      "2017 PridedStolz\n",
      "2018 TheMailCulprit\n",
      "2019 LORD_WZRD\n",
      "2020 _Tiger_Black_\n",
      "2021 supercarlos297\n",
      "2022 catusjack180\n",
      "2023 Blujay12\n",
      "2024 chaoticcipher\n",
      "2025 ThatGuyWithSomeSubs\n",
      "2026 underdeveloped-time\n",
      "2027 Sure_Economics\n",
      "2028 TheWutini\n",
      "2029 rideorridei\n",
      "2030 Abril2006\n",
      "2031 Cooinghhig710\n",
      "2032 PeachyBoyK\n",
      "2033 Setty4U\n",
      "2034 Buffy2711\n",
      "2035 SentientFork\n",
      "2036 RileyWithTwoYs\n",
      "2037 Lazy_Tuesday24\n",
      "2038 Deexma\n",
      "2039 ENVE5\n",
      "2040 AveUmb\n",
      "2041 doodlebob504\n",
      "2042 Sojan501\n",
      "2043 walroast\n",
      "2044 Eggwon\n",
      "2045 big0107\n",
      "2046 apokolops\n",
      "2047 King_Sidney\n",
      "2048 Fry_Em_Up\n",
      "2049 SupremeJusticeWang\n",
      "2050 _cocodrillo_\n",
      "2051 CapnSwedn\n",
      "2052 Tight_Nerve\n",
      "2053 SuperUnderKill\n",
      "2054 MPRitchie47\n",
      "2055 The_OG_Big_K\n",
      "2056 Oosticus\n",
      "2057 BadDadBot\n",
      "2058 ElliotTheRedd\n",
      "2059 russmal23\n",
      "2060 insomnyac420\n",
      "2061 Puzzleheaded-Smoke26\n",
      "2062 HotCockMD\n",
      "HotCockMD could not be found. Error: received 404 HTTP response\n",
      "2063 namedafterjadensmith\n",
      "2064 Adventurous_Tap_7348\n",
      "2065 neklaymen\n",
      "2066 RRSki21\n",
      "2067 asterpin\n",
      "2068 chipandrich\n",
      "2069 michaelgamingU\n",
      "2070 DiamondFister\n",
      "2071 taterinthcorner\n",
      "2072 Ianstaudacher\n",
      "2073 zillla_\n",
      "2074 lolmanepic999\n",
      "2075 AbruhamLincoln\n",
      "2076 Tropotopolis\n",
      "2077 ragerald\n",
      "2078 pennypinball\n",
      "2079 Dr_Soepbal\n",
      "2080 DillonIsMyFavoritest\n",
      "2081 McBean18\n",
      "2082 peasguy\n",
      "2083 SwissstuffYT\n",
      "2084 Ssjdom\n",
      "2085 shnikes0731\n",
      "2086 MrKilljoyCr\n",
      "2087 DrSwager404\n",
      "2088 Daggar17\n",
      "2089 Quandogonzo\n",
      "2090 GondaLord\n",
      "2091 VersaEnthusiast\n",
      "2092 benthebooks\n",
      "2093 DependentInner288\n",
      "2094 FluidBluejay8731\n",
      "2095 MarkoSeke\n",
      "2096 RiskyBusinue\n",
      "2097 Dec1404\n",
      "2098 Master_Oooogway\n",
      "2099 joshywoshy123456\n",
      "2100 Standby75\n",
      "2101 ptallmadge\n",
      "2102 maciejake\n",
      "2103 RadaKnight\n",
      "2104 Blizm1\n",
      "2105 Spdr_J\n",
      "2106 Dawsbon\n",
      "2107 cannonzzz\n",
      "2108 UfogTheGreat\n",
      "2109 CaptnKlap29\n",
      "2110 gwggyu\n",
      "2111 MasterWarthog\n",
      "2112 BigBasicSauce\n",
      "2113 GlassJackhammer\n",
      "2114 ImportantFlight9095\n",
      "2115 Xonieq\n",
      "2116 your_favorite_human\n",
      "2117 1penguin-man\n",
      "2118 JRM28_\n",
      "2119 Btrioc\n",
      "2120 PinjaTN\n",
      "2121 tseweseer\n",
      "2122 videorunaway\n",
      "2123 kassettmongo\n",
      "2124 Ratchoo\n",
      "2125 ChomperGuy19\n",
      "2126 jewbong420\n",
      "2127 flamebird3\n",
      "2128 Toaest\n",
      "2129 ZODE5\n",
      "2130 ViewtifulJeremy\n",
      "2131 Dankster42\n",
      "2132 Kyurget\n",
      "2133 NEB_Chills\n",
      "2134 Angery21\n",
      "2135 Kulpra\n",
      "2136 warduckie\n",
      "2137 Sticky_Marbles\n",
      "2138 raeddrak\n",
      "2139 JayJei_\n",
      "2140 FlightOfGrey\n",
      "2141 itsthecrimsonchin47\n",
      "2142 Chef_Belmont\n",
      "2143 Jort_Mans\n",
      "2144 BewareOfBibz\n",
      "2145 XDragonSlayer61\n",
      "2146 Cloakingwolf\n",
      "2147 Astar72439\n",
      "2148 wafflepantsblue\n",
      "2149 P1zzaSt3ve\n",
      "2150 Rjninja\n",
      "2151 skiptimefortwosecond\n",
      "2152 twopercentmilk34\n",
      "2153 Fab115\n",
      "2154 Sirgeorgew\n",
      "2155 _stemmy\n",
      "2156 Contemray\n",
      "2157 Hexbmw\n",
      "2158 LucidProtean\n",
      "2159 alotofdavid\n",
      "2160 beakedbug\n",
      "2161 MeatbaIIz\n",
      "2162 cornesonthecob\n",
      "2163 whalee110\n",
      "2164 komoset\n",
      "2165 SelanosRL\n",
      "2166 ASU16run\n",
      "2167 Drew_Dew42\n",
      "2168 EJC076\n",
      "2169 thedestinedhero\n",
      "2170 venomule\n",
      "2171 ber10five\n",
      "2172 lordbigfax\n",
      "2173 No-Mud2442\n",
      "2174 TheSupremeDeej\n",
      "2175 ItsR1ckScience\n",
      "2176 samzangoo\n",
      "2177 Lynnxie\n",
      "2178 EvilLordWagner\n",
      "2179 Ill_Conflict_7515\n",
      "2180 thegoldenlemur_\n",
      "2181 ASarnando\n",
      "2182 ColonelSnowman\n",
      "2183 Ergon17\n",
      "2184 Mastercraft16\n",
      "2185 CetaWasTaken\n",
      "2186 Bred-Boi\n",
      "2187 Thiccums325\n",
      "2188 ReasonZero_\n",
      "2189 ckarrer1107\n",
      "2190 Exter___\n",
      "2191 DPToad\n",
      "2192 MDub26_\n",
      "2193 MaThUk0-R\n",
      "2194 jermomeow\n",
      "2195 AffordableRolex\n",
      "2196 _Wilmer_\n",
      "2197 BallinInDominoCity\n",
      "2198 No-Atmosphere-9474\n",
      "2199 AverageJoel9\n",
      "2200 Peanutbutterheck\n",
      "2201 sevilnatas666\n",
      "2202 Phoenix_000\n",
      "2203 Tim-Tabutops\n",
      "2204 Axelicious_\n",
      "2205 CTPENGUIN88\n",
      "2206 Sloth72\n",
      "2207 StoneColdStunfisk\n",
      "2208 mihi-edere\n",
      "2209 DustiestSud\n",
      "2210 ThatOneKimchi\n",
      "2211 tobyfeldman\n",
      "2212 wilson_ofcam\n",
      "2213 BitbeanBandit\n",
      "2214 daddydestroyr\n",
      "2215 Affectionate-Bass-42\n",
      "2216 funkykongasmr\n",
      "2217 SEND_NUKES_PLZ\n",
      "SEND_NUKES_PLZ could not be found. Error: 'Redditor' object has no attribute 'link_karma'\n",
      "2218 MightyJuiceBox\n",
      "2219 BearablePunz\n",
      "2220 shirniaj\n",
      "2221 BigchookStudios\n",
      "2222 Rilkesmyth\n",
      "2223 DimesForCrimes97\n",
      "2224 Migomob\n",
      "2225 codeisntreal\n",
      "2226 Perfect_an0maly\n",
      "Perfect_an0maly could not be found. Error: received 404 HTTP response\n",
      "2227 Epic_Knowledge\n",
      "2228 JaceComix\n",
      "2229 Endthend\n",
      "2230 Jokker_is_the_name\n",
      "2231 No_Blackberry6974\n",
      "2232 hamsteroidzz\n",
      "2233 DaFluffy14\n",
      "2234 iiToasteyy\n",
      "2235 ValerianR00t\n",
      "2236 gburrhus\n",
      "2237 Descriptvist\n",
      "2238 Jpendy\n",
      "2239 Lgru13\n",
      "2240 ahmmad2\n",
      "2241 _spaceman_spliff\n",
      "2242 Godamnanimal\n",
      "2243 IwuvDoggos\n",
      "2244 UndeadRampage\n",
      "2245 TheGreenBrain\n",
      "2246 very-large-lizzard\n",
      "2247 woefuladoption\n",
      "2248 J03MAN_\n",
      "2249 annetakamakii\n",
      "2250 RealOwl124\n",
      "2251 Bravo59317\n",
      "2252 FunnyRight7746\n",
      "2253 Competitive-Film-348\n",
      "2254 IAMburritoking\n",
      "2255 High_Devanition\n",
      "2256 peterfrench\n",
      "2257 A-Swizzle5r\n",
      "2258 kingelis99\n",
      "2259 jjjuniorrr\n",
      "2260 bigman6964\n",
      "2261 Chad-Ravioli\n",
      "2262 Easy_Money470\n",
      "2263 SkreemRyder\n",
      "2264 torogorro\n",
      "2265 mistermysteriousness\n",
      "2266 Jimmy154\n",
      "2267 KevlarPotato\n",
      "2268 C0nnelly\n",
      "2269 GrassH0ppar\n",
      "2270 GigaVacinator\n",
      "GigaVacinator could not be found. Error: 'Redditor' object has no attribute 'link_karma'\n",
      "2271 dogeyman25\n",
      "2272 Azouzi123\n",
      "2273 TrewFlew\n",
      "2274 davidcruger\n",
      "2275 mcnoodlybo1\n",
      "2276 JoshuaF03\n",
      "2277 clumsy_eater\n",
      "2278 fearadust\n",
      "2279 MoscitioGang\n",
      "2280 timee_bot\n",
      "2281 Broundo\n",
      "2282 ryanfitz4\n",
      "2283 Sam0oneau\n",
      "2284 Coledasice\n",
      "2285 Kind-Money1968\n",
      "2286 JohnDazFloo\n",
      "2287 ododododii\n",
      "2288 mr_ben_de\n",
      "2289 ShibaMemesInu\n",
      "2290 StarvingCommunist\n",
      "2291 coomitch\n",
      "2292 TillNo5547\n",
      "2293 SnooCookies6744\n",
      "2294 MemeStahr\n",
      "2295 ThatTransgender\n",
      "2296 Nowi39\n",
      "2297 DudeToManz\n",
      "2298 Field10101\n",
      "2299 Dekothegecko\n",
      "2300 skiddoodledskidaddle\n",
      "2301 Tacoman047\n",
      "2302 imaginaerer\n",
      "2303 Big_Gamer_3\n",
      "2304 Borfotron\n",
      "2305 JollySieg\n",
      "2306 StoneyTank\n",
      "2307 Canned_Lazer\n",
      "2308 Dondonite08\n",
      "2309 Relative-Frosting-10\n",
      "2310 Bee1337\n",
      "2311 softburrito\n",
      "2312 yaboimanex\n",
      "2313 idkwhatdafuk\n",
      "2314 Master_Pow_\n",
      "2315 MidnightAccording898\n",
      "2316 Jewwb\n",
      "2317 NewJorrik9\n",
      "2318 Xottz\n",
      "2319 Darkwind9\n",
      "2320 Cacti__King0314\n",
      "2321 Rabbit-Feeling\n",
      "2322 PrimaryVirus\n",
      "2323 Ckerisdaddy\n",
      "2324 Chunky-Ragu\n",
      "2325 Biscuit_sticks\n",
      "2326 throwaway94848520\n",
      "2327 RaiseTheCat4\n",
      "2328 thatonekid696\n",
      "2329 Aromatic_War7214\n",
      "2330 Seyfert_\n",
      "2331 omanaz\n",
      "2332 HuCS415\n",
      "2333 [deleted]\n",
      "[deleted] could not be found. Error: received 404 HTTP response\n",
      "2334 Useless_Archives\n",
      "2335 Trashcan_Bot\n",
      "2336 StrugglingLifeform\n",
      "2337 andamunchkin\n",
      "2338 Spiraltoe\n",
      "2339 neonknightsofthenine\n",
      "2340 taterinthecorner\n",
      "2341 evanscoot_\n",
      "2342 preethamrn\n",
      "2343 QuacK_01\n",
      "2344 byronhart101\n",
      "2345 Ty93541\n",
      "2346 axxolot\n",
      "2347 WhyHeLO_THeRE_SIR\n",
      "2348 asif0707\n",
      "2349 poopcreampants\n",
      "2350 slightdrift\n",
      "2351 GlowfruitGames\n",
      "2352 dat_fart98\n",
      "2353 WorldwideFunnyMan\n",
      "2354 fenrir_the_great\n",
      "2355 FloridaGod\n",
      "2356 Jgwood99\n",
      "2357 fredtheunicorn3\n",
      "2358 billl87v\n",
      "2359 Cooploopo\n",
      "2360 tarolling\n",
      "2361 Twarn0\n",
      "2362 Orangu5\n",
      "2363 b0wfar\n",
      "2364 Moo_Im_A_Goat\n",
      "2365 HobbitEnder\n",
      "2366 LeoZin31\n",
      "2367 zayd_mkz\n",
      "2368 comma-period\n",
      "2369 CogtheLog\n",
      "2370 sklonk\n",
      "2371 cow41\n",
      "2372 kelseythemango\n",
      "2373 urmorthersarze\n",
      "2374 Qldkiwi789\n",
      "2375 skateboard420_\n",
      "2376 loganlocke76\n",
      "2377 sullevan\n",
      "2378 dapperbrapper\n",
      "2379 mesozoicclam\n",
      "2380 CadenNoChill\n",
      "2381 pxnguin_yt\n",
      "2382 AccordingHighlight12\n",
      "2383 Exidos2468\n",
      "2384 Casualwhale3\n",
      "2385 Sam_H_P\n",
      "2386 Tyryant_r4-p17\n",
      "2387 DeadCHKN\n",
      "2388 CrusherRU\n",
      "2389 Big_Blasto\n",
      "Big_Blasto could not be found. Error: received 404 HTTP response\n",
      "2390 McDallen\n",
      "2391 coolmark482\n",
      "2392 JokeFaceLosers\n",
      "2393 SkullcapMania12\n",
      "2394 chumbawumbo\n",
      "2395 Alt_F4_Jams\n",
      "2396 Buttchek\n",
      "2397 Rexman3\n",
      "2398 notthesingger\n",
      "2399 AbnormalB\n",
      "2400 God_of_Stale_Memes\n",
      "2401 NTrissle\n",
      "2402 JamJohn123\n",
      "2403 Kieffer5101\n",
      "2404 The_Other_Dud\n",
      "2405 SpookyMemeBoy5001\n",
      "2406 Corporal_Wangus\n",
      "2407 Restitutorofsheesh\n",
      "2408 jasonsmomy\n",
      "2409 ASolidRedditUsername\n",
      "2410 UnpickNick\n",
      "2411 MoistOven29\n",
      "2412 kongburrito\n",
      "2413 TheGassmann\n",
      "2414 beefforyou\n",
      "2415 itsLunarLive\n",
      "2416 NonkNiss\n",
      "2417 NoNamesLeft24\n",
      "2418 fightingpaintballs22\n",
      "2419 Picklerage\n",
      "2420 anon_space_waste\n",
      "2421 giant_wavs\n",
      "2422 GitPranked11\n",
      "2423 spadageen12\n",
      "2424 Jestr_uwu\n",
      "2425 Dystopia00\n",
      "2426 SeksSlave69\n",
      "2427 Volundre\n",
      "2428 TikkTakkToh\n",
      "2429 Methisbabyfood\n",
      "2430 Coolfooltool\n",
      "2431 Makaku_vs\n",
      "2432 DoreCompiled\n",
      "2433 AcceptableEvening910\n",
      "2434 KillroyWasHear\n",
      "2435 Gadarenes\n",
      "2436 LilMint824\n",
      "2437 hypnotic-hippo\n",
      "2438 Jai288\n",
      "2439 HiMyNameIsCharlie123\n",
      "2440 Shloud\n",
      "2441 hcrcfn\n",
      "2442 -profile1\n",
      "2443 Billy5481\n",
      "2444 richythecoolkid\n",
      "2445 9988554\n",
      "2446 TomatoSpaghetti\n",
      "2447 Bubbhippo\n",
      "2448 thenintendobagel\n",
      "2449 Thomas-Bo\n",
      "2450 faux-lamprey\n",
      "2451 Tripication\n",
      "2452 EB_24\n",
      "2453 RhinoRaps\n",
      "2454 midnijt\n",
      "2455 TheDaveester\n",
      "2456 Empty-Slip-5374\n",
      "2457 ScyllaGeek\n",
      "2458 i2DU\n",
      "2459 black_zapdos\n",
      "2460 hellomebob\n",
      "2461 daxcuraga\n",
      "2462 VirgilFaust\n",
      "2463 21DaBear\n",
      "2464 AllOutGod\n",
      "2465 thejester517\n",
      "2466 flappo_\n",
      "2467 Taxiship\n",
      "2468 B00NKERS\n",
      "2469 Foolathin\n",
      "2470 -kjx\n",
      "2471 Yoinked_Beans\n",
      "2472 catinator_3000\n",
      "2473 Aether_Rage\n",
      "2474 DasNafty\n",
      "2475 Jaydyndm\n",
      "2476 chuclatdunat123\n",
      "2477 Fritz__5427\n",
      "Fritz__5427 could not be found. Error: received 404 HTTP response\n",
      "2478 HehSharp\n",
      "2479 SuperisSuperGood\n",
      "2480 MonkeyNamedEnma\n",
      "2481 notmaxbark\n",
      "2482 KaptainKuyk\n",
      "2483 davemanx7x\n",
      "2484 Childpredator07\n",
      "2485 NomChompsky_\n",
      "2486 eater-of-kids\n",
      "2487 lolspam92\n",
      "2488 Thing-o\n",
      "2489 ThickThi\n",
      "2490 Anymae_\n",
      "2491 Blue7119\n",
      "2492 Synocity\n",
      "2493 R_gr8\n",
      "2494 kotsipiter\n",
      "2495 Char_Zard13\n",
      "2496 Yessssirskiiii\n",
      "2497 Bak2thktchn\n",
      "2498 Tricky_Exercise7388\n",
      "2499 SteamyMeme\n",
      "SteamyMeme could not be found. Error: received 404 HTTP response\n",
      "2500 ColinGT05\n",
      "2501 Generic_Ratto\n",
      "2502 really_nobody21\n",
      "2503 bosofnoob\n",
      "2504 megabr0\n",
      "2505 IsaacDeluce\n",
      "2506 ThingusRaccamagookus\n",
      "2507 girthmonstr\n",
      "2508 Soft_monkey\n",
      "2509 Xinigamisippin\n",
      "2510 MrSlerps\n",
      "2511 Ocopow12\n",
      "2512 of-silk-and-song\n",
      "2513 Racing_Radish\n",
      "2514 Nathaniel1K\n",
      "Nathaniel1K could not be found. Error: received 404 HTTP response\n",
      "2515 Bikeboi_69\n",
      "2516 ridin_on_mah_boys_d\n",
      "2517 YKLogos\n",
      "YKLogos could not be found. Error: received 404 HTTP response\n",
      "2518 Jjjack12334\n",
      "2519 OrangeBluePan\n",
      "2520 pattykcake\n",
      "2521 Bla_aze\n",
      "2522 Praying_mantas\n",
      "2523 SammyWorlda\n",
      "2524 64GILL\n",
      "2525 West_Character_8363\n",
      "West_Character_8363 could not be found. Error: 'Redditor' object has no attribute 'link_karma'\n",
      "2526 SortaFancy\n",
      "2527 FatalisFun\n",
      "2528 SaveThisVIdeo\n",
      "SaveThisVIdeo could not be found. Error: 'Redditor' object has no attribute 'link_karma'\n",
      "2529 _heliosr\n",
      "2530 kite41_Reddit\n",
      "2531 papa_goobs\n",
      "papa_goobs could not be found. Error: 'Redditor' object has no attribute 'link_karma'\n",
      "2532 Chubby_Turdle\n",
      "2533 MrMacduggan\n",
      "2534 GroundbreakingQuail8\n",
      "2535 RallarJalle\n",
      "2536 maocommando\n",
      "2537 epict0mat\n",
      "2538 Acbaker2112\n",
      "2539 Magikpigz\n",
      "2540 bigchad420\n",
      "2541 Tuskingan\n",
      "2542 The_seus\n",
      "2543 ReadyD34213\n",
      "2544 771156\n",
      "2545 imonlyherefor_me_irl\n",
      "2546 jeffery-da-boi\n",
      "2547 GooseEggg\n",
      "2548 mendelsin\n",
      "2549 KeepUrLunch\n",
      "2550 AReallyKoolKaht\n",
      "2551 Just_Satellite\n",
      "2552 AH_BioTwist\n",
      "2553 ScArry_\n",
      "2554 Shiv4230\n",
      "2555 Faous_Eyitayo\n",
      "Faous_Eyitayo could not be found. Error: 'Redditor' object has no attribute 'link_karma'\n",
      "2556 BigBigDogBigDog\n",
      "2557 assaultedsquirrel\n",
      "2558 nathan_thegamer\n",
      "2559 YdubsTheFirst\n",
      "2560 sopadepanda321\n",
      "2561 Add1ctedToGames\n",
      "2562 KinkyBoiKirby\n",
      "2563 the__day__man\n",
      "2564 mungleinthejungle\n",
      "mungleinthejungle could not be found. Error: received 404 HTTP response\n",
      "2565 the1stderpydino\n",
      "2566 GodShake\n",
      "2567 tenesyia\n",
      "2568 Dignamd\n",
      "2569 drspicieboi\n",
      "2570 Luckloo\n",
      "2571 Snoo_z__2\n",
      "2572 Twrecks5000\n",
      "2573 FunnyBunny5445\n",
      "2574 GroupMammoth343\n",
      "2575 Systemantic123\n",
      "2576 mzp2023\n",
      "2577 Xavanion\n",
      "2578 WhiteAFMexican\n",
      "2579 Pieflavor331\n",
      "2580 Own-Crazy1083\n",
      "2581 iracarnivore\n",
      "2582 Hydrastorm4\n",
      "2583 SOME_LIMES\n",
      "2584 Ekahri\n",
      "2585 sebs281172\n",
      "2586 bofa-deese\n",
      "2587 Opman121212\n",
      "2588 aqwss\n",
      "2589 _Avon\n",
      "2590 oviewill\n",
      "2591 SmokBone\n",
      "2592 SethHeimo\n",
      "2593 lalenci\n",
      "2594 jang7068\n",
      "2595 KentuckyFriedFandoms\n",
      "2596 TrevorBoyle\n",
      "2597 LittleDirty777\n",
      "2598 muscadillon\n",
      "2599 Bumgm17\n",
      "2600 Primordial_Turtle\n",
      "2601 Lord_nuxanor\n",
      "2602 andersfltre\n",
      "2603 HockeyLord67\n",
      "2604 SaveVideo\n",
      "2605 unironic-socialist\n",
      "2606 sneakpeekbot\n",
      "2607 joeykoeyoey\n",
      "2608 NotGiggle\n",
      "2609 MarsKingElon\n",
      "2610 zodiae\n",
      "2611 woworn\n",
      "2612 skywalk640\n",
      "2613 BabyJud\n",
      "2614 BJOURN666\n",
      "2615 Skadoosher77YT\n",
      "2616 SpicyyMilk\n",
      "2617 bootDealer\n",
      "2618 OneAccountOnePurpose\n",
      "2619 PinkEv3\n",
      "2620 CheeryGeoDuck55\n",
      "2621 crosseyedboy\n",
      "2622 wehushi_sushi\n",
      "2623 Crispy_duck89\n",
      "2624 GatoKing3\n",
      "2625 1132Acd\n",
      "2626 ItzADeadShot\n",
      "ItzADeadShot could not be found. Error: 'Redditor' object has no attribute 'link_karma'\n",
      "2627 Bbn01\n",
      "2628 Dadandorf\n",
      "2629 Gubbersen\n",
      "2630 Skullfurious\n",
      "2631 Miaugosia\n",
      "2632 NotAMurderBJ\n",
      "2633 XanMcC\n",
      "2634 chabaccaa\n",
      "2635 Anttinpa\n",
      "2636 RelicEboi\n",
      "2637 420frickit\n",
      "2638 ShaunnyCee\n",
      "2639 kiwizilla666\n",
      "2640 RoasteeToasty\n",
      "2641 Useless_Jello\n",
      "2642 angrybeaver6699\n",
      "2643 SHITS_ON_OP\n",
      "2644 adrian6__\n",
      "2645 MildlyHomo\n",
      "2646 whats4breakfast\n",
      "2647 Aceofguns\n",
      "2648 Tiny-Examination-963\n",
      "2649 PurpleSunsetz\n",
      "2650 Im_Pavlov\n",
      "2651 JamesMacer\n",
      "2652 quiznos123\n",
      "2653 lukadoncic\n",
      "2654 Coitus_Connoisseur\n",
      "2655 mtbguy95\n",
      "2656 4RR8883\n",
      "2657 FlormphYT\n",
      "2658 MCThackers\n",
      "2659 Dobby_Sir\n",
      "2660 AwesoMetass\n",
      "2661 bruh-ensksle\n",
      "2662 Colinater0814\n",
      "2663 Rddubs\n",
      "2664 Bobbob12355\n",
      "2665 xxx-lemonade\n",
      "2666 Dougieman22\n",
      "2667 weweweonetwothree\n",
      "2668 TimTheTallMan69\n",
      "2669 Twizzyu\n",
      "2670 DNAKami\n",
      "2671 juliancountry\n",
      "2672 IDashForCum\n",
      "IDashForCum could not be found. Error: 'Redditor' object has no attribute 'link_karma'\n",
      "2673 SkN27\n",
      "2674 Chacha906\n",
      "2675 iMightBeATree\n",
      "2676 Slazomyboi\n",
      "2677 jcy5000\n",
      "2678 lucasdfghj\n",
      "2679 BiNGOthe\n",
      "2680 lreallyneedhelp\n",
      "2681 Luz_K\n",
      "2682 PCrikey\n",
      "2683 BigOleLegend\n",
      "2684 MrWoW25\n",
      "2685 ZephoSkizzle\n",
      "2686 Geriatricchicken\n",
      "2687 whatisthis-_-\n",
      "2688 zickan14\n",
      "2689 suff_r\n",
      "2690 IamYodaBot\n",
      "IamYodaBot could not be found. Error: 'Redditor' object has no attribute 'link_karma'\n",
      "2691 Lolattheredditmods\n",
      "2692 What-A-Goober\n",
      "2693 Gravityeaterlogan\n",
      "2694 Prysorra2\n",
      "2695 DMR_Gamenight\n",
      "2696 LawnMowerWhisperer\n",
      "2697 Beige_Lantern\n",
      "2698 charlie-_\n",
      "2699 NerdWizard75\n",
      "2700 Saul-T\n",
      "2701 SwampDonkey1236\n",
      "2702 Minimaliszt\n",
      "2703 LoudGodzilla\n",
      "2704 CriticalWay7\n",
      "2705 blankthrowaway3\n",
      "2706 PeaceMaintainer\n",
      "2707 mack__hall\n",
      "2708 cpolito72\n",
      "2709 AutocraticLuke\n",
      "2710 Busy_Construction_94\n",
      "2711 RadicalMonarch\n",
      "2712 AtriocBurner\n",
      "2713 brennanmacey\n",
      "2714 nifaso\n",
      "2715 Marked2k\n",
      "2716 aappleUwU\n",
      "2717 Which_Ad2618\n",
      "2718 New-Wolf-237\n",
      "2719 poopingpower\n",
      "2720 cancerous_potato1974\n",
      "2721 i_wana_fuck_pulse\n",
      "2722 AecBrooks\n",
      "2723 zo0ko2002\n",
      "2724 Cnels\n",
      "2725 Evan_Gao\n",
      "2726 Ancient_Thief\n",
      "2727 Ssilnal\n",
      "2728 zachslikesunicorns\n",
      "2729 Pokjl\n",
      "2730 Rtot1738\n",
      "2731 goldenj04\n",
      "2732 big-time-rush_\n",
      "2733 Boycano\n",
      "2734 SmellyTheBluCow\n",
      "2735 Arkaius_\n",
      "2736 lil_bulge\n",
      "2737 WhizBangNeato\n",
      "2738 cornerstoremondo\n",
      "2739 ProfessorMonkey1\n",
      "2740 onionsgotlayers\n",
      "2741 thelogicaleo\n",
      "2742 stumpybud\n",
      "2743 ComprehensiveSock\n",
      "2744 Exploding_Cat_JD\n",
      "2745 weedhatjoe\n",
      "2746 KayJaype\n",
      "2747 WendalMan\n",
      "2748 slogskd\n",
      "2749 VredditDownloader\n",
      "VredditDownloader could not be found. Error: 'Redditor' object has no attribute 'link_karma'\n",
      "2750 i_want_to_no\n",
      "2751 Alexjp127\n",
      "2752 rwq111\n",
      "2753 andrewisnice\n",
      "2754 Prayan_Jega\n",
      "2755 Empra_\n",
      "2756 shinsenrock1\n",
      "2757 Da_Boss_Mark\n",
      "2758 Secret_Hider03\n",
      "2759 ConorN0tConnor\n",
      "2760 JackCea\n",
      "2761 epic_gamer_4268\n",
      "2762 mifaare\n",
      "2763 ei_ijah\n",
      "2764 JeffBezosNudes\n",
      "2765 Suchfaxx\n",
      "2766 sladecubed\n",
      "2767 Particular-Radio6713\n",
      "2768 Puroh_Tagnis\n",
      "2769 PlZZA_MOZZARELLA\n",
      "2770 Duncanlax84\n",
      "2771 AlexVee36\n",
      "2772 Karls_Ideologue\n",
      "2773 nicolutto\n",
      "2774 Bee_Trooter\n",
      "2775 XeXeede\n",
      "2776 bub1e\n",
      "2777 Accurate-Noise3499\n",
      "2778 El_Jason\n",
      "2779 YikersAmIRight\n",
      "2780 PapaStalin1944\n",
      "2781 Redstoner01\n",
      "2782 ShacobFruZ\n",
      "2783 cmmteacher_\n",
      "2784 SchmidlerOnTheRoof\n",
      "2785 Stone_Snowman\n",
      "2786 MegaWanXL\n",
      "2787 dooron117\n",
      "2788 BobRossOnXbox\n",
      "2789 Representative-Use62\n",
      "2790 SnooTomatoes5809\n",
      "2791 Jammy1501\n",
      "2792 I_Crave_Benzene\n",
      "2793 Theblindsource\n",
      "2794 Mountain-Elk-8850\n",
      "2795 LegionAdele\n",
      "2796 vk059\n",
      "2797 GottaZoom\n",
      "2798 WhyHattt\n",
      "2799 NotSeanboomboom\n",
      "2800 S_BAO\n",
      "2801 EKAJ8888\n",
      "2802 Hecceth_thou\n",
      "2803 alway122\n",
      "2804 DodgyDodo\n",
      "2805 Tony_Bamanaboni64\n",
      "2806 DefinitelyNotBene213\n",
      "2807 TheTruckaz\n",
      "2808 ACGC21\n",
      "2809 TriathlonStateArea\n",
      "2810 kinda_normie\n",
      "2811 blatherskite37\n",
      "2812 SweetsIsOnline\n",
      "2813 fairycrazyapple\n",
      "fairycrazyapple could not be found. Error: received 404 HTTP response\n",
      "2814 Wh-am-t-s-y\n",
      "2815 chanceroth_\n",
      "2816 LaydleBagel\n",
      "2817 hawkkzz\n",
      "2818 thickfeat\n",
      "2819 ianlazy\n",
      "2820 TranQuileeT\n",
      "2821 Mawholdi\n",
      "2822 SamSandwichKing\n",
      "2823 AlixHoser\n",
      "2824 ayeroger\n",
      "2825 oopsie-mmmm\n",
      "2826 Explalnus\n",
      "2827 Beauhockey13\n",
      "2828 ChickenInASweater\n",
      "2829 pepeadame\n",
      "2830 ExiledLmao\n",
      "2831 Erebusnull\n",
      "2832 cgturner\n",
      "2833 Specialist_Long3724\n",
      "2834 Dannybigweiner\n",
      "2835 EdwardGlizzyhands\n",
      "2836 SnooFloofs3158\n",
      "2837 U_Cringe\n",
      "2838 Pi-info-Cool-bot\n",
      "Pi-info-Cool-bot could not be found. Error: received 404 HTTP response\n",
      "2839 illustraden\n",
      "2840 Meteoridian\n",
      "2841 noarsy\n",
      "2842 Used_Stock_386\n",
      "2843 plooberian\n",
      "plooberian could not be found. Error: received 404 HTTP response\n",
      "2844 Japoncio\n",
      "2845 ForbiddenRag\n",
      "2846 blaket173\n",
      "2847 Polqo\n",
      "2848 voydfuhl\n",
      "2849 nuggetbiscuit24-2\n",
      "2850 PickelMan546\n",
      "2851 SmokyPuppy0\n",
      "2852 Cachibubu\n",
      "2853 qaasi95\n",
      "2854 DecentDonk\n",
      "DecentDonk could not be found. Error: received 404 HTTP response\n",
      "2855 cthebaum11\n",
      "2856 r0llingthund3r\n",
      "2857 devoxel\n",
      "2858 Billans1\n",
      "2859 SarranidFunny\n",
      "2860 bruhskyy\n",
      "2861 zoobify112\n",
      "2862 Ozzy_Ronin\n",
      "2863 Rough_Green_1\n",
      "2864 MeGotGrammar125\n",
      "2865 nrubisco\n",
      "2866 totorotarian\n",
      "2867 PokeballNTGrass\n",
      "2868 tomatoesaredeadtome\n",
      "2869 PuzoorMarcelo\n",
      "2870 carrier3rd\n",
      "2871 TommyElph\n",
      "2872 _angstyteens_\n",
      "2873 TheKittenWarlock\n",
      "2874 Master-Grapefruit-43\n",
      "2875 P1ZZAB0N3R\n",
      "2876 Yogih\n",
      "2877 StrugglingTeenager\n",
      "2878 NORMAL_NAME-1234\n",
      "2879 redboot39\n",
      "2880 McBergs\n",
      "2881 ostrich-eggs\n",
      "2882 Ephyx-\n",
      "2883 kennybear4816\n",
      "2884 monke_mike\n",
      "2885 gng2\n",
      "2886 MidGears\n",
      "2887 upbeat-salt05\n",
      "2888 thiccsuc\n",
      "2889 CowsWithNipples\n",
      "2890 partidge567\n",
      "2891 CrazyRogersHJ\n",
      "2892 uglybutalive\n",
      "2893 InoriAizawa__\n",
      "2894 10dees\n",
      "2895 Thiccky_tricky_mario\n",
      "2896 Offnthewoods\n",
      "2897 2ndaccountwinkwink\n",
      "2898 gamma_helix\n",
      "2899 Glad-Passion-9424\n",
      "2900 RadioPengin\n",
      "2901 Brendansfacereddit\n",
      "2902 bumboisamumbo\n",
      "2903 Kirito-M\n",
      "2904 TeddyDoves\n",
      "2905 Volt_Does\n",
      "2906 LucasSoYeah\n",
      "2907 FrescaLover69\n",
      "2908 pr0way\n",
      "2909 Lord_Shrektastic\n",
      "2910 girlgiveusnothing\n",
      "2911 breathsaver1\n",
      "2912 bjoyner812\n",
      "2913 Commercial_Account_4\n",
      "2914 Evan101\n",
      "2915 GenericGecko2020\n",
      "2916 DeltaSpace328\n",
      "2917 Ill_Ad_8770\n",
      "2918 Zombie1047\n",
      "2919 AlphaHawk115\n",
      "2920 willguine\n",
      "2921 bossmitch11\n",
      "2922 Mehoymenoyuglyboy\n",
      "2923 Binyamin12345\n",
      "2924 B-agel\n",
      "2925 partridge567\n",
      "2926 ErikTHEMANBrask\n",
      "2927 mrninjatuna\n",
      "2928 Swissstuff\n",
      "2929 LILcuc\n",
      "2930 Froabl_\n",
      "2931 Blu_Axolotl\n",
      "2932 Pakoneesh\n",
      "2933 Maxemeh\n",
      "2934 AaBart\n",
      "2935 RealGusDee\n",
      "2936 Chard-Ashamed\n",
      "2937 TimidTrap713\n",
      "2938 HeyLookIWantToDie\n",
      "2939 Tpoch1\n",
      "2940 neberizer\n",
      "2941 Witty122\n",
      "2942 DatGuyFromTexas\n",
      "2943 Permanixx\n",
      "2944 TheSupaSaiyan\n",
      "2945 FullConstruction838\n",
      "2946 coldsmoker56\n",
      "2947 hiitstowel\n",
      "2948 Elijahexodus1\n",
      "2949 _hikeeper_\n",
      "2950 Whodat950_\n",
      "2951 DreezyFreezy\n",
      "2952 Thomber_\n",
      "2953 Ryan_Wheelock\n",
      "2954 lertulert\n"
     ]
    }
   ],
   "source": [
    "activity_data = collector.retrieve_activity(username_set, 'year')"
   ]
  },
  {
   "source": [
    "Save the data so you don't have to re run a large script."
   ],
   "cell_type": "markdown",
   "metadata": {}
  },
  {
   "cell_type": "code",
   "execution_count": 5,
   "metadata": {},
   "outputs": [],
   "source": [
    "with open('activity-data-atrioc.dat', 'wb') as picklefile:\n",
    "    dill.dump(activity_data, picklefile)"
   ]
  },
  {
   "cell_type": "code",
   "execution_count": null,
   "metadata": {},
   "outputs": [],
   "source": [
    "with open('activity-data.dat', 'rb') as dillfile:\n",
    "    activity_data = dill.load(dillfile)"
   ]
  },
  {
   "source": [
    "### The Data\n",
    "Finally, we get some data we can actually look at. Activity is the combined number of posts and comments made in the specified subreddit from people who also posted in r/LudwigAhgren. rludwig is the number of posts those users made in r/LudwigAhgren so you can compare how active those users are in each subreddit. Users is simply the number of users who have posted in both subreddits."
   ],
   "cell_type": "markdown",
   "metadata": {}
  },
  {
   "cell_type": "code",
   "execution_count": 6,
   "metadata": {},
   "outputs": [],
   "source": [
    "df = pd.DataFrame.from_dict(activity_data, orient=\"index\")"
   ]
  },
  {
   "cell_type": "code",
   "execution_count": 13,
   "metadata": {},
   "outputs": [
    {
     "output_type": "execute_result",
     "data": {
      "text/plain": [
       "                       activity  atrioc  users  \\\n",
       "LudwigAhgren               7118    6095   1270   \n",
       "LivestreamFail             4089    2852    563   \n",
       "AskReddit                  2420    2211    621   \n",
       "Stanz                      1505    2052    250   \n",
       "ConnorEatsPants            2945    1361    218   \n",
       "memes                      2130    1317    359   \n",
       "Minecraft                   569    1114    226   \n",
       "dankmemes                  1017     949    266   \n",
       "QTCinderella                395     872    123   \n",
       "196                        2127     870    283   \n",
       "PewdiepieSubmissions        655     786    177   \n",
       "teenagers                  1632     775    242   \n",
       "SSBM                        804     674    123   \n",
       "gaming                      399     673    197   \n",
       "nextfuckinglevel            305     647    173   \n",
       "interestingasfuck           316     645    170   \n",
       "pcmasterrace                498     609    163   \n",
       "okbuddyretard               786     597    175   \n",
       "wallstreetbets              956     585    180   \n",
       "xqcow                       462     554     87   \n",
       "Cringetopia                 671     553    174   \n",
       "smashbros                   587     544    143   \n",
       "Mizkif                      408     472     94   \n",
       "VALORANT                    521     458    126   \n",
       "pics                        240     453    112   \n",
       "cursedcomments              246     424    110   \n",
       "buildapc                    339     418    113   \n",
       "PublicFreakout              225     417    121   \n",
       "PoliticalCompassMemes      1236     404    161   \n",
       "nba                        1136     399     99   \n",
       "atriocprechat                 9     399      8   \n",
       "AmongUs                     249     396    119   \n",
       "mildlyinteresting           182     391     99   \n",
       "SmashBrosUltimate           427     379    100   \n",
       "unpopularopinion            378     370    120   \n",
       "RocketLeague                371     363     96   \n",
       "Unexpected                  154     362     96   \n",
       "whodat950                    42     357     20   \n",
       "PrequelMemes                303     355    102   \n",
       "aww                         225     352    120   \n",
       "AnarchyChess                351     348     98   \n",
       "pokemon                     284     346     82   \n",
       "copypasta                   241     341     98   \n",
       "politics                    292     334    105   \n",
       "MechanicalKeyboards         309     333    102   \n",
       "Showerthoughts              159     322     95   \n",
       "ShitPostCrusaders           512     321    108   \n",
       "videos                      131     308     73   \n",
       "jschlatt                    224     303     81   \n",
       "apexlegends                 615     301     91   \n",
       "\n",
       "                                                                    text  size  \n",
       "LudwigAhgren           Activity in LudwigAhgren: 7118<br>Activity in ...  1270  \n",
       "LivestreamFail         Activity in LivestreamFail: 4089<br>Activity i...   563  \n",
       "AskReddit              Activity in AskReddit: 2420<br>Activity in r/a...   621  \n",
       "Stanz                  Activity in Stanz: 1505<br>Activity in r/atrio...   250  \n",
       "ConnorEatsPants        Activity in ConnorEatsPants: 2945<br>Activity ...   218  \n",
       "memes                  Activity in memes: 2130<br>Activity in r/atrio...   359  \n",
       "Minecraft              Activity in Minecraft: 569<br>Activity in r/at...   226  \n",
       "dankmemes              Activity in dankmemes: 1017<br>Activity in r/a...   266  \n",
       "QTCinderella           Activity in QTCinderella: 395<br>Activity in r...   123  \n",
       "196                    Activity in 196: 2127<br>Activity in r/atrioc:...   283  \n",
       "PewdiepieSubmissions   Activity in PewdiepieSubmissions: 655<br>Activ...   177  \n",
       "teenagers              Activity in teenagers: 1632<br>Activity in r/a...   242  \n",
       "SSBM                   Activity in SSBM: 804<br>Activity in r/atrioc:...   123  \n",
       "gaming                 Activity in gaming: 399<br>Activity in r/atrio...   197  \n",
       "nextfuckinglevel       Activity in nextfuckinglevel: 305<br>Activity ...   173  \n",
       "interestingasfuck      Activity in interestingasfuck: 316<br>Activity...   170  \n",
       "pcmasterrace           Activity in pcmasterrace: 498<br>Activity in r...   163  \n",
       "okbuddyretard          Activity in okbuddyretard: 786<br>Activity in ...   175  \n",
       "wallstreetbets         Activity in wallstreetbets: 956<br>Activity in...   180  \n",
       "xqcow                  Activity in xqcow: 462<br>Activity in r/atrioc...    87  \n",
       "Cringetopia            Activity in Cringetopia: 671<br>Activity in r/...   174  \n",
       "smashbros              Activity in smashbros: 587<br>Activity in r/at...   143  \n",
       "Mizkif                 Activity in Mizkif: 408<br>Activity in r/atrio...    94  \n",
       "VALORANT               Activity in VALORANT: 521<br>Activity in r/atr...   126  \n",
       "pics                   Activity in pics: 240<br>Activity in r/atrioc:...   112  \n",
       "cursedcomments         Activity in cursedcomments: 246<br>Activity in...   110  \n",
       "buildapc               Activity in buildapc: 339<br>Activity in r/atr...   113  \n",
       "PublicFreakout         Activity in PublicFreakout: 225<br>Activity in...   121  \n",
       "PoliticalCompassMemes  Activity in PoliticalCompassMemes: 1236<br>Act...   161  \n",
       "nba                    Activity in nba: 1136<br>Activity in r/atrioc:...    99  \n",
       "atriocprechat          Activity in atriocprechat: 9<br>Activity in r/...     8  \n",
       "AmongUs                Activity in AmongUs: 249<br>Activity in r/atri...   119  \n",
       "mildlyinteresting      Activity in mildlyinteresting: 182<br>Activity...    99  \n",
       "SmashBrosUltimate      Activity in SmashBrosUltimate: 427<br>Activity...   100  \n",
       "unpopularopinion       Activity in unpopularopinion: 378<br>Activity ...   120  \n",
       "RocketLeague           Activity in RocketLeague: 371<br>Activity in r...    96  \n",
       "Unexpected             Activity in Unexpected: 154<br>Activity in r/a...    96  \n",
       "whodat950              Activity in whodat950: 42<br>Activity in r/atr...    20  \n",
       "PrequelMemes           Activity in PrequelMemes: 303<br>Activity in r...   102  \n",
       "aww                    Activity in aww: 225<br>Activity in r/atrioc: ...   120  \n",
       "AnarchyChess           Activity in AnarchyChess: 351<br>Activity in r...    98  \n",
       "pokemon                Activity in pokemon: 284<br>Activity in r/atri...    82  \n",
       "copypasta              Activity in copypasta: 241<br>Activity in r/at...    98  \n",
       "politics               Activity in politics: 292<br>Activity in r/atr...   105  \n",
       "MechanicalKeyboards    Activity in MechanicalKeyboards: 309<br>Activi...   102  \n",
       "Showerthoughts         Activity in Showerthoughts: 159<br>Activity in...    95  \n",
       "ShitPostCrusaders      Activity in ShitPostCrusaders: 512<br>Activity...   108  \n",
       "videos                 Activity in videos: 131<br>Activity in r/atrio...    73  \n",
       "jschlatt               Activity in jschlatt: 224<br>Activity in r/atr...    81  \n",
       "apexlegends            Activity in apexlegends: 615<br>Activity in r/...    91  "
      ],
      "text/html": "<div>\n<style scoped>\n    .dataframe tbody tr th:only-of-type {\n        vertical-align: middle;\n    }\n\n    .dataframe tbody tr th {\n        vertical-align: top;\n    }\n\n    .dataframe thead th {\n        text-align: right;\n    }\n</style>\n<table border=\"1\" class=\"dataframe\">\n  <thead>\n    <tr style=\"text-align: right;\">\n      <th></th>\n      <th>activity</th>\n      <th>atrioc</th>\n      <th>users</th>\n      <th>text</th>\n      <th>size</th>\n    </tr>\n  </thead>\n  <tbody>\n    <tr>\n      <th>LudwigAhgren</th>\n      <td>7118</td>\n      <td>6095</td>\n      <td>1270</td>\n      <td>Activity in LudwigAhgren: 7118&lt;br&gt;Activity in ...</td>\n      <td>1270</td>\n    </tr>\n    <tr>\n      <th>LivestreamFail</th>\n      <td>4089</td>\n      <td>2852</td>\n      <td>563</td>\n      <td>Activity in LivestreamFail: 4089&lt;br&gt;Activity i...</td>\n      <td>563</td>\n    </tr>\n    <tr>\n      <th>AskReddit</th>\n      <td>2420</td>\n      <td>2211</td>\n      <td>621</td>\n      <td>Activity in AskReddit: 2420&lt;br&gt;Activity in r/a...</td>\n      <td>621</td>\n    </tr>\n    <tr>\n      <th>Stanz</th>\n      <td>1505</td>\n      <td>2052</td>\n      <td>250</td>\n      <td>Activity in Stanz: 1505&lt;br&gt;Activity in r/atrio...</td>\n      <td>250</td>\n    </tr>\n    <tr>\n      <th>ConnorEatsPants</th>\n      <td>2945</td>\n      <td>1361</td>\n      <td>218</td>\n      <td>Activity in ConnorEatsPants: 2945&lt;br&gt;Activity ...</td>\n      <td>218</td>\n    </tr>\n    <tr>\n      <th>memes</th>\n      <td>2130</td>\n      <td>1317</td>\n      <td>359</td>\n      <td>Activity in memes: 2130&lt;br&gt;Activity in r/atrio...</td>\n      <td>359</td>\n    </tr>\n    <tr>\n      <th>Minecraft</th>\n      <td>569</td>\n      <td>1114</td>\n      <td>226</td>\n      <td>Activity in Minecraft: 569&lt;br&gt;Activity in r/at...</td>\n      <td>226</td>\n    </tr>\n    <tr>\n      <th>dankmemes</th>\n      <td>1017</td>\n      <td>949</td>\n      <td>266</td>\n      <td>Activity in dankmemes: 1017&lt;br&gt;Activity in r/a...</td>\n      <td>266</td>\n    </tr>\n    <tr>\n      <th>QTCinderella</th>\n      <td>395</td>\n      <td>872</td>\n      <td>123</td>\n      <td>Activity in QTCinderella: 395&lt;br&gt;Activity in r...</td>\n      <td>123</td>\n    </tr>\n    <tr>\n      <th>196</th>\n      <td>2127</td>\n      <td>870</td>\n      <td>283</td>\n      <td>Activity in 196: 2127&lt;br&gt;Activity in r/atrioc:...</td>\n      <td>283</td>\n    </tr>\n    <tr>\n      <th>PewdiepieSubmissions</th>\n      <td>655</td>\n      <td>786</td>\n      <td>177</td>\n      <td>Activity in PewdiepieSubmissions: 655&lt;br&gt;Activ...</td>\n      <td>177</td>\n    </tr>\n    <tr>\n      <th>teenagers</th>\n      <td>1632</td>\n      <td>775</td>\n      <td>242</td>\n      <td>Activity in teenagers: 1632&lt;br&gt;Activity in r/a...</td>\n      <td>242</td>\n    </tr>\n    <tr>\n      <th>SSBM</th>\n      <td>804</td>\n      <td>674</td>\n      <td>123</td>\n      <td>Activity in SSBM: 804&lt;br&gt;Activity in r/atrioc:...</td>\n      <td>123</td>\n    </tr>\n    <tr>\n      <th>gaming</th>\n      <td>399</td>\n      <td>673</td>\n      <td>197</td>\n      <td>Activity in gaming: 399&lt;br&gt;Activity in r/atrio...</td>\n      <td>197</td>\n    </tr>\n    <tr>\n      <th>nextfuckinglevel</th>\n      <td>305</td>\n      <td>647</td>\n      <td>173</td>\n      <td>Activity in nextfuckinglevel: 305&lt;br&gt;Activity ...</td>\n      <td>173</td>\n    </tr>\n    <tr>\n      <th>interestingasfuck</th>\n      <td>316</td>\n      <td>645</td>\n      <td>170</td>\n      <td>Activity in interestingasfuck: 316&lt;br&gt;Activity...</td>\n      <td>170</td>\n    </tr>\n    <tr>\n      <th>pcmasterrace</th>\n      <td>498</td>\n      <td>609</td>\n      <td>163</td>\n      <td>Activity in pcmasterrace: 498&lt;br&gt;Activity in r...</td>\n      <td>163</td>\n    </tr>\n    <tr>\n      <th>okbuddyretard</th>\n      <td>786</td>\n      <td>597</td>\n      <td>175</td>\n      <td>Activity in okbuddyretard: 786&lt;br&gt;Activity in ...</td>\n      <td>175</td>\n    </tr>\n    <tr>\n      <th>wallstreetbets</th>\n      <td>956</td>\n      <td>585</td>\n      <td>180</td>\n      <td>Activity in wallstreetbets: 956&lt;br&gt;Activity in...</td>\n      <td>180</td>\n    </tr>\n    <tr>\n      <th>xqcow</th>\n      <td>462</td>\n      <td>554</td>\n      <td>87</td>\n      <td>Activity in xqcow: 462&lt;br&gt;Activity in r/atrioc...</td>\n      <td>87</td>\n    </tr>\n    <tr>\n      <th>Cringetopia</th>\n      <td>671</td>\n      <td>553</td>\n      <td>174</td>\n      <td>Activity in Cringetopia: 671&lt;br&gt;Activity in r/...</td>\n      <td>174</td>\n    </tr>\n    <tr>\n      <th>smashbros</th>\n      <td>587</td>\n      <td>544</td>\n      <td>143</td>\n      <td>Activity in smashbros: 587&lt;br&gt;Activity in r/at...</td>\n      <td>143</td>\n    </tr>\n    <tr>\n      <th>Mizkif</th>\n      <td>408</td>\n      <td>472</td>\n      <td>94</td>\n      <td>Activity in Mizkif: 408&lt;br&gt;Activity in r/atrio...</td>\n      <td>94</td>\n    </tr>\n    <tr>\n      <th>VALORANT</th>\n      <td>521</td>\n      <td>458</td>\n      <td>126</td>\n      <td>Activity in VALORANT: 521&lt;br&gt;Activity in r/atr...</td>\n      <td>126</td>\n    </tr>\n    <tr>\n      <th>pics</th>\n      <td>240</td>\n      <td>453</td>\n      <td>112</td>\n      <td>Activity in pics: 240&lt;br&gt;Activity in r/atrioc:...</td>\n      <td>112</td>\n    </tr>\n    <tr>\n      <th>cursedcomments</th>\n      <td>246</td>\n      <td>424</td>\n      <td>110</td>\n      <td>Activity in cursedcomments: 246&lt;br&gt;Activity in...</td>\n      <td>110</td>\n    </tr>\n    <tr>\n      <th>buildapc</th>\n      <td>339</td>\n      <td>418</td>\n      <td>113</td>\n      <td>Activity in buildapc: 339&lt;br&gt;Activity in r/atr...</td>\n      <td>113</td>\n    </tr>\n    <tr>\n      <th>PublicFreakout</th>\n      <td>225</td>\n      <td>417</td>\n      <td>121</td>\n      <td>Activity in PublicFreakout: 225&lt;br&gt;Activity in...</td>\n      <td>121</td>\n    </tr>\n    <tr>\n      <th>PoliticalCompassMemes</th>\n      <td>1236</td>\n      <td>404</td>\n      <td>161</td>\n      <td>Activity in PoliticalCompassMemes: 1236&lt;br&gt;Act...</td>\n      <td>161</td>\n    </tr>\n    <tr>\n      <th>nba</th>\n      <td>1136</td>\n      <td>399</td>\n      <td>99</td>\n      <td>Activity in nba: 1136&lt;br&gt;Activity in r/atrioc:...</td>\n      <td>99</td>\n    </tr>\n    <tr>\n      <th>atriocprechat</th>\n      <td>9</td>\n      <td>399</td>\n      <td>8</td>\n      <td>Activity in atriocprechat: 9&lt;br&gt;Activity in r/...</td>\n      <td>8</td>\n    </tr>\n    <tr>\n      <th>AmongUs</th>\n      <td>249</td>\n      <td>396</td>\n      <td>119</td>\n      <td>Activity in AmongUs: 249&lt;br&gt;Activity in r/atri...</td>\n      <td>119</td>\n    </tr>\n    <tr>\n      <th>mildlyinteresting</th>\n      <td>182</td>\n      <td>391</td>\n      <td>99</td>\n      <td>Activity in mildlyinteresting: 182&lt;br&gt;Activity...</td>\n      <td>99</td>\n    </tr>\n    <tr>\n      <th>SmashBrosUltimate</th>\n      <td>427</td>\n      <td>379</td>\n      <td>100</td>\n      <td>Activity in SmashBrosUltimate: 427&lt;br&gt;Activity...</td>\n      <td>100</td>\n    </tr>\n    <tr>\n      <th>unpopularopinion</th>\n      <td>378</td>\n      <td>370</td>\n      <td>120</td>\n      <td>Activity in unpopularopinion: 378&lt;br&gt;Activity ...</td>\n      <td>120</td>\n    </tr>\n    <tr>\n      <th>RocketLeague</th>\n      <td>371</td>\n      <td>363</td>\n      <td>96</td>\n      <td>Activity in RocketLeague: 371&lt;br&gt;Activity in r...</td>\n      <td>96</td>\n    </tr>\n    <tr>\n      <th>Unexpected</th>\n      <td>154</td>\n      <td>362</td>\n      <td>96</td>\n      <td>Activity in Unexpected: 154&lt;br&gt;Activity in r/a...</td>\n      <td>96</td>\n    </tr>\n    <tr>\n      <th>whodat950</th>\n      <td>42</td>\n      <td>357</td>\n      <td>20</td>\n      <td>Activity in whodat950: 42&lt;br&gt;Activity in r/atr...</td>\n      <td>20</td>\n    </tr>\n    <tr>\n      <th>PrequelMemes</th>\n      <td>303</td>\n      <td>355</td>\n      <td>102</td>\n      <td>Activity in PrequelMemes: 303&lt;br&gt;Activity in r...</td>\n      <td>102</td>\n    </tr>\n    <tr>\n      <th>aww</th>\n      <td>225</td>\n      <td>352</td>\n      <td>120</td>\n      <td>Activity in aww: 225&lt;br&gt;Activity in r/atrioc: ...</td>\n      <td>120</td>\n    </tr>\n    <tr>\n      <th>AnarchyChess</th>\n      <td>351</td>\n      <td>348</td>\n      <td>98</td>\n      <td>Activity in AnarchyChess: 351&lt;br&gt;Activity in r...</td>\n      <td>98</td>\n    </tr>\n    <tr>\n      <th>pokemon</th>\n      <td>284</td>\n      <td>346</td>\n      <td>82</td>\n      <td>Activity in pokemon: 284&lt;br&gt;Activity in r/atri...</td>\n      <td>82</td>\n    </tr>\n    <tr>\n      <th>copypasta</th>\n      <td>241</td>\n      <td>341</td>\n      <td>98</td>\n      <td>Activity in copypasta: 241&lt;br&gt;Activity in r/at...</td>\n      <td>98</td>\n    </tr>\n    <tr>\n      <th>politics</th>\n      <td>292</td>\n      <td>334</td>\n      <td>105</td>\n      <td>Activity in politics: 292&lt;br&gt;Activity in r/atr...</td>\n      <td>105</td>\n    </tr>\n    <tr>\n      <th>MechanicalKeyboards</th>\n      <td>309</td>\n      <td>333</td>\n      <td>102</td>\n      <td>Activity in MechanicalKeyboards: 309&lt;br&gt;Activi...</td>\n      <td>102</td>\n    </tr>\n    <tr>\n      <th>Showerthoughts</th>\n      <td>159</td>\n      <td>322</td>\n      <td>95</td>\n      <td>Activity in Showerthoughts: 159&lt;br&gt;Activity in...</td>\n      <td>95</td>\n    </tr>\n    <tr>\n      <th>ShitPostCrusaders</th>\n      <td>512</td>\n      <td>321</td>\n      <td>108</td>\n      <td>Activity in ShitPostCrusaders: 512&lt;br&gt;Activity...</td>\n      <td>108</td>\n    </tr>\n    <tr>\n      <th>videos</th>\n      <td>131</td>\n      <td>308</td>\n      <td>73</td>\n      <td>Activity in videos: 131&lt;br&gt;Activity in r/atrio...</td>\n      <td>73</td>\n    </tr>\n    <tr>\n      <th>jschlatt</th>\n      <td>224</td>\n      <td>303</td>\n      <td>81</td>\n      <td>Activity in jschlatt: 224&lt;br&gt;Activity in r/atr...</td>\n      <td>81</td>\n    </tr>\n    <tr>\n      <th>apexlegends</th>\n      <td>615</td>\n      <td>301</td>\n      <td>91</td>\n      <td>Activity in apexlegends: 615&lt;br&gt;Activity in r/...</td>\n      <td>91</td>\n    </tr>\n  </tbody>\n</table>\n</div>"
     },
     "metadata": {},
     "execution_count": 13
    }
   ],
   "source": [
    "df.sort_values(by=['atrioc'],ascending=False, inplace=True)\n",
    "df.head(50)"
   ]
  },
  {
   "source": [
    "## Plotting\n",
    "Constructing the plot with plotly"
   ],
   "cell_type": "markdown",
   "metadata": {}
  },
  {
   "cell_type": "code",
   "execution_count": 25,
   "metadata": {},
   "outputs": [
    {
     "output_type": "display_data",
     "data": {
      "application/vnd.plotly.v1+json": {
       "config": {
        "plotlyServerURL": "https://plotly.com"
       },
       "data": [
        {
         "marker": {
          "line": {
           "width": 2
          },
          "opacity": 0.5,
          "size": 158,
          "sizemode": "area",
          "sizeref": 0.1763888888888889
         },
         "mode": "markers",
         "name": "LudwigAhgren",
         "text": "Activity in LudwigAhgren: 7118<br>Activity in r/atrioc: 6095<br>Overlapping Users: 1270",
         "type": "scatter",
         "x": [
          6095
         ],
         "y": [
          7118
         ]
        },
        {
         "marker": {
          "line": {
           "width": 2
          },
          "opacity": 0.5,
          "size": 70,
          "sizemode": "area",
          "sizeref": 0.1763888888888889
         },
         "mode": "markers",
         "name": "LivestreamFail",
         "text": "Activity in LivestreamFail: 4089<br>Activity in r/atrioc: 2852<br>Overlapping Users: 563",
         "type": "scatter",
         "x": [
          2852
         ],
         "y": [
          4089
         ]
        },
        {
         "marker": {
          "line": {
           "width": 2
          },
          "opacity": 0.5,
          "size": 77,
          "sizemode": "area",
          "sizeref": 0.1763888888888889
         },
         "mode": "markers",
         "name": "AskReddit",
         "text": "Activity in AskReddit: 2420<br>Activity in r/atrioc: 2211<br>Overlapping Users: 621",
         "type": "scatter",
         "x": [
          2211
         ],
         "y": [
          2420
         ]
        },
        {
         "marker": {
          "line": {
           "width": 2
          },
          "opacity": 0.5,
          "size": 31,
          "sizemode": "area",
          "sizeref": 0.1763888888888889
         },
         "mode": "markers",
         "name": "Stanz",
         "text": "Activity in Stanz: 1505<br>Activity in r/atrioc: 2052<br>Overlapping Users: 250",
         "type": "scatter",
         "x": [
          2052
         ],
         "y": [
          1505
         ]
        },
        {
         "marker": {
          "line": {
           "width": 2
          },
          "opacity": 0.5,
          "size": 27,
          "sizemode": "area",
          "sizeref": 0.1763888888888889
         },
         "mode": "markers",
         "name": "ConnorEatsPants",
         "text": "Activity in ConnorEatsPants: 2945<br>Activity in r/atrioc: 1361<br>Overlapping Users: 218",
         "type": "scatter",
         "x": [
          1361
         ],
         "y": [
          2945
         ]
        },
        {
         "marker": {
          "line": {
           "width": 2
          },
          "opacity": 0.5,
          "size": 44,
          "sizemode": "area",
          "sizeref": 0.1763888888888889
         },
         "mode": "markers",
         "name": "memes",
         "text": "Activity in memes: 2130<br>Activity in r/atrioc: 1317<br>Overlapping Users: 359",
         "type": "scatter",
         "x": [
          1317
         ],
         "y": [
          2130
         ]
        },
        {
         "marker": {
          "line": {
           "width": 2
          },
          "opacity": 0.5,
          "size": 28,
          "sizemode": "area",
          "sizeref": 0.1763888888888889
         },
         "mode": "markers",
         "name": "Minecraft",
         "text": "Activity in Minecraft: 569<br>Activity in r/atrioc: 1114<br>Overlapping Users: 226",
         "type": "scatter",
         "x": [
          1114
         ],
         "y": [
          569
         ]
        },
        {
         "marker": {
          "line": {
           "width": 2
          },
          "opacity": 0.5,
          "size": 33,
          "sizemode": "area",
          "sizeref": 0.1763888888888889
         },
         "mode": "markers",
         "name": "dankmemes",
         "text": "Activity in dankmemes: 1017<br>Activity in r/atrioc: 949<br>Overlapping Users: 266",
         "type": "scatter",
         "x": [
          949
         ],
         "y": [
          1017
         ]
        },
        {
         "marker": {
          "line": {
           "width": 2
          },
          "opacity": 0.5,
          "size": 15,
          "sizemode": "area",
          "sizeref": 0.1763888888888889
         },
         "mode": "markers",
         "name": "QTCinderella",
         "text": "Activity in QTCinderella: 395<br>Activity in r/atrioc: 872<br>Overlapping Users: 123",
         "type": "scatter",
         "x": [
          872
         ],
         "y": [
          395
         ]
        },
        {
         "marker": {
          "line": {
           "width": 2
          },
          "opacity": 0.5,
          "size": 35,
          "sizemode": "area",
          "sizeref": 0.1763888888888889
         },
         "mode": "markers",
         "name": "196",
         "text": "Activity in 196: 2127<br>Activity in r/atrioc: 870<br>Overlapping Users: 283",
         "type": "scatter",
         "x": [
          870
         ],
         "y": [
          2127
         ]
        },
        {
         "marker": {
          "line": {
           "width": 2
          },
          "opacity": 0.5,
          "size": 22,
          "sizemode": "area",
          "sizeref": 0.1763888888888889
         },
         "mode": "markers",
         "name": "PewdiepieSubmissions",
         "text": "Activity in PewdiepieSubmissions: 655<br>Activity in r/atrioc: 786<br>Overlapping Users: 177",
         "type": "scatter",
         "x": [
          786
         ],
         "y": [
          655
         ]
        },
        {
         "marker": {
          "line": {
           "width": 2
          },
          "opacity": 0.5,
          "size": 30,
          "sizemode": "area",
          "sizeref": 0.1763888888888889
         },
         "mode": "markers",
         "name": "teenagers",
         "text": "Activity in teenagers: 1632<br>Activity in r/atrioc: 775<br>Overlapping Users: 242",
         "type": "scatter",
         "x": [
          775
         ],
         "y": [
          1632
         ]
        },
        {
         "marker": {
          "line": {
           "width": 2
          },
          "opacity": 0.5,
          "size": 15,
          "sizemode": "area",
          "sizeref": 0.1763888888888889
         },
         "mode": "markers",
         "name": "SSBM",
         "text": "Activity in SSBM: 804<br>Activity in r/atrioc: 674<br>Overlapping Users: 123",
         "type": "scatter",
         "x": [
          674
         ],
         "y": [
          804
         ]
        },
        {
         "marker": {
          "line": {
           "width": 2
          },
          "opacity": 0.5,
          "size": 24,
          "sizemode": "area",
          "sizeref": 0.1763888888888889
         },
         "mode": "markers",
         "name": "gaming",
         "text": "Activity in gaming: 399<br>Activity in r/atrioc: 673<br>Overlapping Users: 197",
         "type": "scatter",
         "x": [
          673
         ],
         "y": [
          399
         ]
        },
        {
         "marker": {
          "line": {
           "width": 2
          },
          "opacity": 0.5,
          "size": 21,
          "sizemode": "area",
          "sizeref": 0.1763888888888889
         },
         "mode": "markers",
         "name": "nextfuckinglevel",
         "text": "Activity in nextfuckinglevel: 305<br>Activity in r/atrioc: 647<br>Overlapping Users: 173",
         "type": "scatter",
         "x": [
          647
         ],
         "y": [
          305
         ]
        },
        {
         "marker": {
          "line": {
           "width": 2
          },
          "opacity": 0.5,
          "size": 21,
          "sizemode": "area",
          "sizeref": 0.1763888888888889
         },
         "mode": "markers",
         "name": "interestingasfuck",
         "text": "Activity in interestingasfuck: 316<br>Activity in r/atrioc: 645<br>Overlapping Users: 170",
         "type": "scatter",
         "x": [
          645
         ],
         "y": [
          316
         ]
        },
        {
         "marker": {
          "line": {
           "width": 2
          },
          "opacity": 0.5,
          "size": 20,
          "sizemode": "area",
          "sizeref": 0.1763888888888889
         },
         "mode": "markers",
         "name": "pcmasterrace",
         "text": "Activity in pcmasterrace: 498<br>Activity in r/atrioc: 609<br>Overlapping Users: 163",
         "type": "scatter",
         "x": [
          609
         ],
         "y": [
          498
         ]
        },
        {
         "marker": {
          "line": {
           "width": 2
          },
          "opacity": 0.5,
          "size": 21,
          "sizemode": "area",
          "sizeref": 0.1763888888888889
         },
         "mode": "markers",
         "name": "okbuddyretard",
         "text": "Activity in okbuddyretard: 786<br>Activity in r/atrioc: 597<br>Overlapping Users: 175",
         "type": "scatter",
         "x": [
          597
         ],
         "y": [
          786
         ]
        },
        {
         "marker": {
          "line": {
           "width": 2
          },
          "opacity": 0.5,
          "size": 22,
          "sizemode": "area",
          "sizeref": 0.1763888888888889
         },
         "mode": "markers",
         "name": "wallstreetbets",
         "text": "Activity in wallstreetbets: 956<br>Activity in r/atrioc: 585<br>Overlapping Users: 180",
         "type": "scatter",
         "x": [
          585
         ],
         "y": [
          956
         ]
        },
        {
         "marker": {
          "line": {
           "width": 2
          },
          "opacity": 0.5,
          "size": 10,
          "sizemode": "area",
          "sizeref": 0.1763888888888889
         },
         "mode": "markers",
         "name": "xqcow",
         "text": "Activity in xqcow: 462<br>Activity in r/atrioc: 554<br>Overlapping Users: 87",
         "type": "scatter",
         "x": [
          554
         ],
         "y": [
          462
         ]
        },
        {
         "marker": {
          "line": {
           "width": 2
          },
          "opacity": 0.5,
          "size": 21,
          "sizemode": "area",
          "sizeref": 0.1763888888888889
         },
         "mode": "markers",
         "name": "Cringetopia",
         "text": "Activity in Cringetopia: 671<br>Activity in r/atrioc: 553<br>Overlapping Users: 174",
         "type": "scatter",
         "x": [
          553
         ],
         "y": [
          671
         ]
        },
        {
         "marker": {
          "line": {
           "width": 2
          },
          "opacity": 0.5,
          "size": 17,
          "sizemode": "area",
          "sizeref": 0.1763888888888889
         },
         "mode": "markers",
         "name": "smashbros",
         "text": "Activity in smashbros: 587<br>Activity in r/atrioc: 544<br>Overlapping Users: 143",
         "type": "scatter",
         "x": [
          544
         ],
         "y": [
          587
         ]
        },
        {
         "marker": {
          "line": {
           "width": 2
          },
          "opacity": 0.5,
          "size": 11,
          "sizemode": "area",
          "sizeref": 0.1763888888888889
         },
         "mode": "markers",
         "name": "Mizkif",
         "text": "Activity in Mizkif: 408<br>Activity in r/atrioc: 472<br>Overlapping Users: 94",
         "type": "scatter",
         "x": [
          472
         ],
         "y": [
          408
         ]
        },
        {
         "marker": {
          "line": {
           "width": 2
          },
          "opacity": 0.5,
          "size": 15,
          "sizemode": "area",
          "sizeref": 0.1763888888888889
         },
         "mode": "markers",
         "name": "VALORANT",
         "text": "Activity in VALORANT: 521<br>Activity in r/atrioc: 458<br>Overlapping Users: 126",
         "type": "scatter",
         "x": [
          458
         ],
         "y": [
          521
         ]
        },
        {
         "marker": {
          "line": {
           "width": 2
          },
          "opacity": 0.5,
          "size": 14,
          "sizemode": "area",
          "sizeref": 0.1763888888888889
         },
         "mode": "markers",
         "name": "pics",
         "text": "Activity in pics: 240<br>Activity in r/atrioc: 453<br>Overlapping Users: 112",
         "type": "scatter",
         "x": [
          453
         ],
         "y": [
          240
         ]
        },
        {
         "marker": {
          "line": {
           "width": 2
          },
          "opacity": 0.5,
          "size": 13,
          "sizemode": "area",
          "sizeref": 0.1763888888888889
         },
         "mode": "markers",
         "name": "cursedcomments",
         "text": "Activity in cursedcomments: 246<br>Activity in r/atrioc: 424<br>Overlapping Users: 110",
         "type": "scatter",
         "x": [
          424
         ],
         "y": [
          246
         ]
        },
        {
         "marker": {
          "line": {
           "width": 2
          },
          "opacity": 0.5,
          "size": 14,
          "sizemode": "area",
          "sizeref": 0.1763888888888889
         },
         "mode": "markers",
         "name": "buildapc",
         "text": "Activity in buildapc: 339<br>Activity in r/atrioc: 418<br>Overlapping Users: 113",
         "type": "scatter",
         "x": [
          418
         ],
         "y": [
          339
         ]
        },
        {
         "marker": {
          "line": {
           "width": 2
          },
          "opacity": 0.5,
          "size": 15,
          "sizemode": "area",
          "sizeref": 0.1763888888888889
         },
         "mode": "markers",
         "name": "PublicFreakout",
         "text": "Activity in PublicFreakout: 225<br>Activity in r/atrioc: 417<br>Overlapping Users: 121",
         "type": "scatter",
         "x": [
          417
         ],
         "y": [
          225
         ]
        },
        {
         "marker": {
          "line": {
           "width": 2
          },
          "opacity": 0.5,
          "size": 20,
          "sizemode": "area",
          "sizeref": 0.1763888888888889
         },
         "mode": "markers",
         "name": "PoliticalCompassMemes",
         "text": "Activity in PoliticalCompassMemes: 1236<br>Activity in r/atrioc: 404<br>Overlapping Users: 161",
         "type": "scatter",
         "x": [
          404
         ],
         "y": [
          1236
         ]
        },
        {
         "marker": {
          "line": {
           "width": 2
          },
          "opacity": 0.5,
          "size": 12,
          "sizemode": "area",
          "sizeref": 0.1763888888888889
         },
         "mode": "markers",
         "name": "nba",
         "text": "Activity in nba: 1136<br>Activity in r/atrioc: 399<br>Overlapping Users: 99",
         "type": "scatter",
         "x": [
          399
         ],
         "y": [
          1136
         ]
        }
       ],
       "layout": {
        "height": 900,
        "legend": {
         "itemsizing": "trace",
         "title": {
          "font": {
           "size": 18
          },
          "text": "Subreddits by overlapping user count<br><br>Bubble size proportional to user count"
         }
        },
        "paper_bgcolor": "rgb(243, 243, 243)",
        "plot_bgcolor": "rgb(243, 243, 243)",
        "template": {
         "data": {
          "bar": [
           {
            "error_x": {
             "color": "#2a3f5f"
            },
            "error_y": {
             "color": "#2a3f5f"
            },
            "marker": {
             "line": {
              "color": "#E5ECF6",
              "width": 0.5
             }
            },
            "type": "bar"
           }
          ],
          "barpolar": [
           {
            "marker": {
             "line": {
              "color": "#E5ECF6",
              "width": 0.5
             }
            },
            "type": "barpolar"
           }
          ],
          "carpet": [
           {
            "aaxis": {
             "endlinecolor": "#2a3f5f",
             "gridcolor": "white",
             "linecolor": "white",
             "minorgridcolor": "white",
             "startlinecolor": "#2a3f5f"
            },
            "baxis": {
             "endlinecolor": "#2a3f5f",
             "gridcolor": "white",
             "linecolor": "white",
             "minorgridcolor": "white",
             "startlinecolor": "#2a3f5f"
            },
            "type": "carpet"
           }
          ],
          "choropleth": [
           {
            "colorbar": {
             "outlinewidth": 0,
             "ticks": ""
            },
            "type": "choropleth"
           }
          ],
          "contour": [
           {
            "colorbar": {
             "outlinewidth": 0,
             "ticks": ""
            },
            "colorscale": [
             [
              0,
              "#0d0887"
             ],
             [
              0.1111111111111111,
              "#46039f"
             ],
             [
              0.2222222222222222,
              "#7201a8"
             ],
             [
              0.3333333333333333,
              "#9c179e"
             ],
             [
              0.4444444444444444,
              "#bd3786"
             ],
             [
              0.5555555555555556,
              "#d8576b"
             ],
             [
              0.6666666666666666,
              "#ed7953"
             ],
             [
              0.7777777777777778,
              "#fb9f3a"
             ],
             [
              0.8888888888888888,
              "#fdca26"
             ],
             [
              1,
              "#f0f921"
             ]
            ],
            "type": "contour"
           }
          ],
          "contourcarpet": [
           {
            "colorbar": {
             "outlinewidth": 0,
             "ticks": ""
            },
            "type": "contourcarpet"
           }
          ],
          "heatmap": [
           {
            "colorbar": {
             "outlinewidth": 0,
             "ticks": ""
            },
            "colorscale": [
             [
              0,
              "#0d0887"
             ],
             [
              0.1111111111111111,
              "#46039f"
             ],
             [
              0.2222222222222222,
              "#7201a8"
             ],
             [
              0.3333333333333333,
              "#9c179e"
             ],
             [
              0.4444444444444444,
              "#bd3786"
             ],
             [
              0.5555555555555556,
              "#d8576b"
             ],
             [
              0.6666666666666666,
              "#ed7953"
             ],
             [
              0.7777777777777778,
              "#fb9f3a"
             ],
             [
              0.8888888888888888,
              "#fdca26"
             ],
             [
              1,
              "#f0f921"
             ]
            ],
            "type": "heatmap"
           }
          ],
          "heatmapgl": [
           {
            "colorbar": {
             "outlinewidth": 0,
             "ticks": ""
            },
            "colorscale": [
             [
              0,
              "#0d0887"
             ],
             [
              0.1111111111111111,
              "#46039f"
             ],
             [
              0.2222222222222222,
              "#7201a8"
             ],
             [
              0.3333333333333333,
              "#9c179e"
             ],
             [
              0.4444444444444444,
              "#bd3786"
             ],
             [
              0.5555555555555556,
              "#d8576b"
             ],
             [
              0.6666666666666666,
              "#ed7953"
             ],
             [
              0.7777777777777778,
              "#fb9f3a"
             ],
             [
              0.8888888888888888,
              "#fdca26"
             ],
             [
              1,
              "#f0f921"
             ]
            ],
            "type": "heatmapgl"
           }
          ],
          "histogram": [
           {
            "marker": {
             "colorbar": {
              "outlinewidth": 0,
              "ticks": ""
             }
            },
            "type": "histogram"
           }
          ],
          "histogram2d": [
           {
            "colorbar": {
             "outlinewidth": 0,
             "ticks": ""
            },
            "colorscale": [
             [
              0,
              "#0d0887"
             ],
             [
              0.1111111111111111,
              "#46039f"
             ],
             [
              0.2222222222222222,
              "#7201a8"
             ],
             [
              0.3333333333333333,
              "#9c179e"
             ],
             [
              0.4444444444444444,
              "#bd3786"
             ],
             [
              0.5555555555555556,
              "#d8576b"
             ],
             [
              0.6666666666666666,
              "#ed7953"
             ],
             [
              0.7777777777777778,
              "#fb9f3a"
             ],
             [
              0.8888888888888888,
              "#fdca26"
             ],
             [
              1,
              "#f0f921"
             ]
            ],
            "type": "histogram2d"
           }
          ],
          "histogram2dcontour": [
           {
            "colorbar": {
             "outlinewidth": 0,
             "ticks": ""
            },
            "colorscale": [
             [
              0,
              "#0d0887"
             ],
             [
              0.1111111111111111,
              "#46039f"
             ],
             [
              0.2222222222222222,
              "#7201a8"
             ],
             [
              0.3333333333333333,
              "#9c179e"
             ],
             [
              0.4444444444444444,
              "#bd3786"
             ],
             [
              0.5555555555555556,
              "#d8576b"
             ],
             [
              0.6666666666666666,
              "#ed7953"
             ],
             [
              0.7777777777777778,
              "#fb9f3a"
             ],
             [
              0.8888888888888888,
              "#fdca26"
             ],
             [
              1,
              "#f0f921"
             ]
            ],
            "type": "histogram2dcontour"
           }
          ],
          "mesh3d": [
           {
            "colorbar": {
             "outlinewidth": 0,
             "ticks": ""
            },
            "type": "mesh3d"
           }
          ],
          "parcoords": [
           {
            "line": {
             "colorbar": {
              "outlinewidth": 0,
              "ticks": ""
             }
            },
            "type": "parcoords"
           }
          ],
          "pie": [
           {
            "automargin": true,
            "type": "pie"
           }
          ],
          "scatter": [
           {
            "marker": {
             "colorbar": {
              "outlinewidth": 0,
              "ticks": ""
             }
            },
            "type": "scatter"
           }
          ],
          "scatter3d": [
           {
            "line": {
             "colorbar": {
              "outlinewidth": 0,
              "ticks": ""
             }
            },
            "marker": {
             "colorbar": {
              "outlinewidth": 0,
              "ticks": ""
             }
            },
            "type": "scatter3d"
           }
          ],
          "scattercarpet": [
           {
            "marker": {
             "colorbar": {
              "outlinewidth": 0,
              "ticks": ""
             }
            },
            "type": "scattercarpet"
           }
          ],
          "scattergeo": [
           {
            "marker": {
             "colorbar": {
              "outlinewidth": 0,
              "ticks": ""
             }
            },
            "type": "scattergeo"
           }
          ],
          "scattergl": [
           {
            "marker": {
             "colorbar": {
              "outlinewidth": 0,
              "ticks": ""
             }
            },
            "type": "scattergl"
           }
          ],
          "scattermapbox": [
           {
            "marker": {
             "colorbar": {
              "outlinewidth": 0,
              "ticks": ""
             }
            },
            "type": "scattermapbox"
           }
          ],
          "scatterpolar": [
           {
            "marker": {
             "colorbar": {
              "outlinewidth": 0,
              "ticks": ""
             }
            },
            "type": "scatterpolar"
           }
          ],
          "scatterpolargl": [
           {
            "marker": {
             "colorbar": {
              "outlinewidth": 0,
              "ticks": ""
             }
            },
            "type": "scatterpolargl"
           }
          ],
          "scatterternary": [
           {
            "marker": {
             "colorbar": {
              "outlinewidth": 0,
              "ticks": ""
             }
            },
            "type": "scatterternary"
           }
          ],
          "surface": [
           {
            "colorbar": {
             "outlinewidth": 0,
             "ticks": ""
            },
            "colorscale": [
             [
              0,
              "#0d0887"
             ],
             [
              0.1111111111111111,
              "#46039f"
             ],
             [
              0.2222222222222222,
              "#7201a8"
             ],
             [
              0.3333333333333333,
              "#9c179e"
             ],
             [
              0.4444444444444444,
              "#bd3786"
             ],
             [
              0.5555555555555556,
              "#d8576b"
             ],
             [
              0.6666666666666666,
              "#ed7953"
             ],
             [
              0.7777777777777778,
              "#fb9f3a"
             ],
             [
              0.8888888888888888,
              "#fdca26"
             ],
             [
              1,
              "#f0f921"
             ]
            ],
            "type": "surface"
           }
          ],
          "table": [
           {
            "cells": {
             "fill": {
              "color": "#EBF0F8"
             },
             "line": {
              "color": "white"
             }
            },
            "header": {
             "fill": {
              "color": "#C8D4E3"
             },
             "line": {
              "color": "white"
             }
            },
            "type": "table"
           }
          ]
         },
         "layout": {
          "annotationdefaults": {
           "arrowcolor": "#2a3f5f",
           "arrowhead": 0,
           "arrowwidth": 1
          },
          "autotypenumbers": "strict",
          "coloraxis": {
           "colorbar": {
            "outlinewidth": 0,
            "ticks": ""
           }
          },
          "colorscale": {
           "diverging": [
            [
             0,
             "#8e0152"
            ],
            [
             0.1,
             "#c51b7d"
            ],
            [
             0.2,
             "#de77ae"
            ],
            [
             0.3,
             "#f1b6da"
            ],
            [
             0.4,
             "#fde0ef"
            ],
            [
             0.5,
             "#f7f7f7"
            ],
            [
             0.6,
             "#e6f5d0"
            ],
            [
             0.7,
             "#b8e186"
            ],
            [
             0.8,
             "#7fbc41"
            ],
            [
             0.9,
             "#4d9221"
            ],
            [
             1,
             "#276419"
            ]
           ],
           "sequential": [
            [
             0,
             "#0d0887"
            ],
            [
             0.1111111111111111,
             "#46039f"
            ],
            [
             0.2222222222222222,
             "#7201a8"
            ],
            [
             0.3333333333333333,
             "#9c179e"
            ],
            [
             0.4444444444444444,
             "#bd3786"
            ],
            [
             0.5555555555555556,
             "#d8576b"
            ],
            [
             0.6666666666666666,
             "#ed7953"
            ],
            [
             0.7777777777777778,
             "#fb9f3a"
            ],
            [
             0.8888888888888888,
             "#fdca26"
            ],
            [
             1,
             "#f0f921"
            ]
           ],
           "sequentialminus": [
            [
             0,
             "#0d0887"
            ],
            [
             0.1111111111111111,
             "#46039f"
            ],
            [
             0.2222222222222222,
             "#7201a8"
            ],
            [
             0.3333333333333333,
             "#9c179e"
            ],
            [
             0.4444444444444444,
             "#bd3786"
            ],
            [
             0.5555555555555556,
             "#d8576b"
            ],
            [
             0.6666666666666666,
             "#ed7953"
            ],
            [
             0.7777777777777778,
             "#fb9f3a"
            ],
            [
             0.8888888888888888,
             "#fdca26"
            ],
            [
             1,
             "#f0f921"
            ]
           ]
          },
          "colorway": [
           "#636efa",
           "#EF553B",
           "#00cc96",
           "#ab63fa",
           "#FFA15A",
           "#19d3f3",
           "#FF6692",
           "#B6E880",
           "#FF97FF",
           "#FECB52"
          ],
          "font": {
           "color": "#2a3f5f"
          },
          "geo": {
           "bgcolor": "white",
           "lakecolor": "white",
           "landcolor": "#E5ECF6",
           "showlakes": true,
           "showland": true,
           "subunitcolor": "white"
          },
          "hoverlabel": {
           "align": "left"
          },
          "hovermode": "closest",
          "mapbox": {
           "style": "light"
          },
          "paper_bgcolor": "white",
          "plot_bgcolor": "#E5ECF6",
          "polar": {
           "angularaxis": {
            "gridcolor": "white",
            "linecolor": "white",
            "ticks": ""
           },
           "bgcolor": "#E5ECF6",
           "radialaxis": {
            "gridcolor": "white",
            "linecolor": "white",
            "ticks": ""
           }
          },
          "scene": {
           "xaxis": {
            "backgroundcolor": "#E5ECF6",
            "gridcolor": "white",
            "gridwidth": 2,
            "linecolor": "white",
            "showbackground": true,
            "ticks": "",
            "zerolinecolor": "white"
           },
           "yaxis": {
            "backgroundcolor": "#E5ECF6",
            "gridcolor": "white",
            "gridwidth": 2,
            "linecolor": "white",
            "showbackground": true,
            "ticks": "",
            "zerolinecolor": "white"
           },
           "zaxis": {
            "backgroundcolor": "#E5ECF6",
            "gridcolor": "white",
            "gridwidth": 2,
            "linecolor": "white",
            "showbackground": true,
            "ticks": "",
            "zerolinecolor": "white"
           }
          },
          "shapedefaults": {
           "line": {
            "color": "#2a3f5f"
           }
          },
          "ternary": {
           "aaxis": {
            "gridcolor": "white",
            "linecolor": "white",
            "ticks": ""
           },
           "baxis": {
            "gridcolor": "white",
            "linecolor": "white",
            "ticks": ""
           },
           "bgcolor": "#E5ECF6",
           "caxis": {
            "gridcolor": "white",
            "linecolor": "white",
            "ticks": ""
           }
          },
          "title": {
           "x": 0.05
          },
          "xaxis": {
           "automargin": true,
           "gridcolor": "white",
           "linecolor": "white",
           "ticks": "",
           "title": {
            "standoff": 15
           },
           "zerolinecolor": "white",
           "zerolinewidth": 2
          },
          "yaxis": {
           "automargin": true,
           "gridcolor": "white",
           "linecolor": "white",
           "ticks": "",
           "title": {
            "standoff": 15
           },
           "zerolinecolor": "white",
           "zerolinewidth": 2
          }
         }
        },
        "title": {
         "text": "r/atrioc Crossover with other Subreddits (Top 30 by User Overlap)"
        },
        "width": 1650,
        "xaxis": {
         "gridcolor": "white",
         "gridwidth": 2,
         "title": {
          "text": "Activity (Posts+Comments) in r/atrioc"
         },
         "type": "log"
        },
        "yaxis": {
         "gridcolor": "white",
         "gridwidth": 2,
         "title": {
          "text": "Activity (Posts+Comments) in other Subreddit"
         },
         "type": "log"
        }
       }
      }
     },
     "metadata": {}
    }
   ],
   "source": [
    "hover_text = []\n",
    "bubble_size = []\n",
    "i = 1\n",
    "# Adding hover labels and bubble_sizes based on user overlap\n",
    "for index, row in df.iterrows():\n",
    "    hover_text.append(f'Activity in {index}: {row[\"activity\"]}<br>' +\n",
    "    f'Activity in r/{search_in}: {row[f\"{search_in}\"]}<br>' +\n",
    "    f'Overlapping Users: {row[\"users\"]}')\n",
    "    bubble_size.append(row[\"users\"])\n",
    "    i += 1\n",
    "df['text'] = hover_text\n",
    "df['size'] = bubble_size\n",
    "\n",
    "fig = go.Figure()\n",
    "\n",
    "subreddit_data = {}\n",
    "annotations = []\n",
    "for index, row in df.iloc[0:30, :].iterrows():\n",
    "    subreddit_data[index] = df.loc[index, :]\n",
    "    # Annotations\n",
    "    show_arrow = False\n",
    "    yshift=15\n",
    "    startstandoff=0\n",
    "    yshift_adjust = {'PublicFreakout':20, 'aww': -10, 'Minecraft': 25, 'interestingasfuck': -10, 'PewdiepieSubmissions': -10}\n",
    "    if index in ['PublicFreakout', 'interestingasfuck','PewdiepieSubmissions', 'aww']:\n",
    "        yshift = yshift_adjust.get(index)\n",
    "    annotations.append(dict(text=index, showarrow=show_arrow, arrowhead=1, x=math.log(row[f'{search_in}'])/math.log(10), y=math.log(row['activity'])/math.log(10),yshift=yshift))\n",
    "\n",
    "sizeref = 2. * max(df['size'].iloc[0:30]) / (120 ** 2)\n",
    "for subreddit_name, subreddit in subreddit_data.items():\n",
    "    fig.add_trace(go.Scatter(\n",
    "        x=[subreddit[f'{search_in}']], y=[subreddit['activity']],\n",
    "        name=subreddit_name, text=subreddit['text'],  \n",
    "        marker_size=subreddit['size'] // 8, # Tune this paramater to fit the marker size you want\n",
    "    ))\n",
    "fig.update_traces(mode='markers', marker=dict(sizemode='area', sizeref=sizeref, line_width=2, opacity=0.5))\n",
    "\n",
    "# for annotation in annotations:\n",
    "#     fig.add_annotation(annotation)\n",
    "fig.update_layout(\n",
    "    title=f'r/{search_in} Crossover with other Subreddits (Top 30 by User Overlap)',\n",
    "    xaxis=dict(\n",
    "        title=f'Activity (Posts+Comments) in r/{search_in}',\n",
    "        gridcolor='white',\n",
    "        type='log', # Change to log and uncomment the annotations for better visibility\n",
    "        gridwidth=2,\n",
    "    ),\n",
    "    yaxis=dict(\n",
    "        title='Activity (Posts+Comments) in other Subreddit',\n",
    "        gridcolor='white',\n",
    "        gridwidth=2,\n",
    "        type='log' # Change to log and uncomment the annotations for better visibility\n",
    "    ),\n",
    "    legend=dict(\n",
    "        title=dict(text=\"\"\"Subreddits by overlapping user count<br><br>Bubble size proportional to user count\"\"\", font=dict(size=18)),\n",
    "        itemsizing=\"trace\"\n",
    "    ),\n",
    "    width=1650,\n",
    "    height=900,\n",
    "    paper_bgcolor='rgb(243, 243, 243)',\n",
    "    plot_bgcolor='rgb(243, 243, 243)',\n",
    ")\n",
    "fig.show()"
   ]
  },
  {
   "cell_type": "code",
   "execution_count": 26,
   "metadata": {},
   "outputs": [
    {
     "output_type": "execute_result",
     "data": {
      "text/plain": [
       "'https://plotly.com/~brandon-info/8/'"
      ]
     },
     "metadata": {},
     "execution_count": 26
    }
   ],
   "source": [
    "# Code block for publishing to chart studio, ignore.\n",
    "config=dict(scrollZoom=True)\n",
    "chart_studio.plotly.plot(fig, filename=f'{search_in}_redditors', config=config)"
   ]
  },
  {
   "cell_type": "code",
   "execution_count": 12,
   "metadata": {},
   "outputs": [],
   "source": [
    "# Export df to csv\n",
    "df.to_csv(path_or_buf='activity-atrioc.csv',index=True)"
   ]
  },
  {
   "source": [
    "## Some Exploratory Blocks"
   ],
   "cell_type": "markdown",
   "metadata": {}
  },
  {
   "cell_type": "code",
   "execution_count": 14,
   "metadata": {},
   "outputs": [],
   "source": [
    "df['activity/users'] = df['activity']/df['users']"
   ]
  },
  {
   "cell_type": "code",
   "execution_count": 15,
   "metadata": {},
   "outputs": [],
   "source": [
    "df[f'{search_in}/users'] = df[f'{search_in}']/df['users']"
   ]
  },
  {
   "cell_type": "code",
   "execution_count": 16,
   "metadata": {},
   "outputs": [
    {
     "output_type": "execute_result",
     "data": {
      "text/plain": [
       "           activity       atrioc        users         size  activity/users  \\\n",
       "count   9688.000000  9688.000000  9688.000000  9688.000000          9688.0   \n",
       "mean      16.055533    15.043249     4.361272     4.361272             inf   \n",
       "std      155.056487    88.345271    19.969481    19.969481             NaN   \n",
       "min        1.000000     0.000000     0.000000     0.000000             1.0   \n",
       "25%        1.000000     1.000000     1.000000     1.000000             1.0   \n",
       "50%        2.000000     3.000000     1.000000     1.000000             1.5   \n",
       "75%        8.000000    10.000000     3.000000     3.000000             3.0   \n",
       "max    10870.000000  6095.000000  1270.000000  1270.000000             inf   \n",
       "\n",
       "       atrioc/users  \n",
       "count   9687.000000  \n",
       "mean       3.371591  \n",
       "std        4.881781  \n",
       "min        0.000000  \n",
       "25%        1.000000  \n",
       "50%        2.000000  \n",
       "75%        4.000000  \n",
       "max      108.000000  "
      ],
      "text/html": "<div>\n<style scoped>\n    .dataframe tbody tr th:only-of-type {\n        vertical-align: middle;\n    }\n\n    .dataframe tbody tr th {\n        vertical-align: top;\n    }\n\n    .dataframe thead th {\n        text-align: right;\n    }\n</style>\n<table border=\"1\" class=\"dataframe\">\n  <thead>\n    <tr style=\"text-align: right;\">\n      <th></th>\n      <th>activity</th>\n      <th>atrioc</th>\n      <th>users</th>\n      <th>size</th>\n      <th>activity/users</th>\n      <th>atrioc/users</th>\n    </tr>\n  </thead>\n  <tbody>\n    <tr>\n      <th>count</th>\n      <td>9688.000000</td>\n      <td>9688.000000</td>\n      <td>9688.000000</td>\n      <td>9688.000000</td>\n      <td>9688.0</td>\n      <td>9687.000000</td>\n    </tr>\n    <tr>\n      <th>mean</th>\n      <td>16.055533</td>\n      <td>15.043249</td>\n      <td>4.361272</td>\n      <td>4.361272</td>\n      <td>inf</td>\n      <td>3.371591</td>\n    </tr>\n    <tr>\n      <th>std</th>\n      <td>155.056487</td>\n      <td>88.345271</td>\n      <td>19.969481</td>\n      <td>19.969481</td>\n      <td>NaN</td>\n      <td>4.881781</td>\n    </tr>\n    <tr>\n      <th>min</th>\n      <td>1.000000</td>\n      <td>0.000000</td>\n      <td>0.000000</td>\n      <td>0.000000</td>\n      <td>1.0</td>\n      <td>0.000000</td>\n    </tr>\n    <tr>\n      <th>25%</th>\n      <td>1.000000</td>\n      <td>1.000000</td>\n      <td>1.000000</td>\n      <td>1.000000</td>\n      <td>1.0</td>\n      <td>1.000000</td>\n    </tr>\n    <tr>\n      <th>50%</th>\n      <td>2.000000</td>\n      <td>3.000000</td>\n      <td>1.000000</td>\n      <td>1.000000</td>\n      <td>1.5</td>\n      <td>2.000000</td>\n    </tr>\n    <tr>\n      <th>75%</th>\n      <td>8.000000</td>\n      <td>10.000000</td>\n      <td>3.000000</td>\n      <td>3.000000</td>\n      <td>3.0</td>\n      <td>4.000000</td>\n    </tr>\n    <tr>\n      <th>max</th>\n      <td>10870.000000</td>\n      <td>6095.000000</td>\n      <td>1270.000000</td>\n      <td>1270.000000</td>\n      <td>inf</td>\n      <td>108.000000</td>\n    </tr>\n  </tbody>\n</table>\n</div>"
     },
     "metadata": {},
     "execution_count": 16
    }
   ],
   "source": [
    "df.describe()"
   ]
  },
  {
   "cell_type": "code",
   "execution_count": 17,
   "metadata": {},
   "outputs": [],
   "source": [
    "most_dedicated_users = df.query(\"users >= 5\").copy()"
   ]
  },
  {
   "cell_type": "code",
   "execution_count": 18,
   "metadata": {},
   "outputs": [
    {
     "output_type": "execute_result",
     "data": {
      "text/plain": [
       "          activity       atrioc        users         size  activity/users  \\\n",
       "count  1498.000000  1498.000000  1498.000000  1498.000000     1498.000000   \n",
       "mean     72.708278    69.771696    20.008011    20.008011        3.213305   \n",
       "std     269.364012   215.942649    47.818796    47.818796        3.205834   \n",
       "min       5.000000     1.000000     5.000000     5.000000        1.000000   \n",
       "25%      12.000000    16.000000     6.000000     6.000000        1.500000   \n",
       "50%      25.000000    31.000000     9.000000     9.000000        2.200000   \n",
       "75%      54.000000    63.000000    18.000000    18.000000        3.610294   \n",
       "max    7118.000000  6095.000000  1270.000000  1270.000000       40.800000   \n",
       "\n",
       "       atrioc/users  \n",
       "count   1498.000000  \n",
       "mean       3.323943  \n",
       "std        2.525818  \n",
       "min        0.166667  \n",
       "25%        2.000000  \n",
       "50%        2.857143  \n",
       "75%        3.875000  \n",
       "max       49.875000  "
      ],
      "text/html": "<div>\n<style scoped>\n    .dataframe tbody tr th:only-of-type {\n        vertical-align: middle;\n    }\n\n    .dataframe tbody tr th {\n        vertical-align: top;\n    }\n\n    .dataframe thead th {\n        text-align: right;\n    }\n</style>\n<table border=\"1\" class=\"dataframe\">\n  <thead>\n    <tr style=\"text-align: right;\">\n      <th></th>\n      <th>activity</th>\n      <th>atrioc</th>\n      <th>users</th>\n      <th>size</th>\n      <th>activity/users</th>\n      <th>atrioc/users</th>\n    </tr>\n  </thead>\n  <tbody>\n    <tr>\n      <th>count</th>\n      <td>1498.000000</td>\n      <td>1498.000000</td>\n      <td>1498.000000</td>\n      <td>1498.000000</td>\n      <td>1498.000000</td>\n      <td>1498.000000</td>\n    </tr>\n    <tr>\n      <th>mean</th>\n      <td>72.708278</td>\n      <td>69.771696</td>\n      <td>20.008011</td>\n      <td>20.008011</td>\n      <td>3.213305</td>\n      <td>3.323943</td>\n    </tr>\n    <tr>\n      <th>std</th>\n      <td>269.364012</td>\n      <td>215.942649</td>\n      <td>47.818796</td>\n      <td>47.818796</td>\n      <td>3.205834</td>\n      <td>2.525818</td>\n    </tr>\n    <tr>\n      <th>min</th>\n      <td>5.000000</td>\n      <td>1.000000</td>\n      <td>5.000000</td>\n      <td>5.000000</td>\n      <td>1.000000</td>\n      <td>0.166667</td>\n    </tr>\n    <tr>\n      <th>25%</th>\n      <td>12.000000</td>\n      <td>16.000000</td>\n      <td>6.000000</td>\n      <td>6.000000</td>\n      <td>1.500000</td>\n      <td>2.000000</td>\n    </tr>\n    <tr>\n      <th>50%</th>\n      <td>25.000000</td>\n      <td>31.000000</td>\n      <td>9.000000</td>\n      <td>9.000000</td>\n      <td>2.200000</td>\n      <td>2.857143</td>\n    </tr>\n    <tr>\n      <th>75%</th>\n      <td>54.000000</td>\n      <td>63.000000</td>\n      <td>18.000000</td>\n      <td>18.000000</td>\n      <td>3.610294</td>\n      <td>3.875000</td>\n    </tr>\n    <tr>\n      <th>max</th>\n      <td>7118.000000</td>\n      <td>6095.000000</td>\n      <td>1270.000000</td>\n      <td>1270.000000</td>\n      <td>40.800000</td>\n      <td>49.875000</td>\n    </tr>\n  </tbody>\n</table>\n</div>"
     },
     "metadata": {},
     "execution_count": 18
    }
   ],
   "source": [
    "most_dedicated_users.describe()"
   ]
  },
  {
   "cell_type": "code",
   "execution_count": 19,
   "metadata": {},
   "outputs": [],
   "source": [
    "most_dedicated_users.sort_values(by=[f'{search_in}/users','activity'], ascending=False, inplace=True)"
   ]
  },
  {
   "cell_type": "code",
   "execution_count": 20,
   "metadata": {},
   "outputs": [
    {
     "output_type": "execute_result",
     "data": {
      "text/plain": [
       "                     activity  atrioc  users  \\\n",
       "atriocprechat               9     399      8   \n",
       "clipclub                    9     178      6   \n",
       "whodatLIVE                 13     138      6   \n",
       "Quack_001                  40     280     15   \n",
       "Consoom                    11     111      6   \n",
       "whodat950                  42     357     20   \n",
       "Trainwreckstv              39     243     14   \n",
       "JIDSV                      13      84      5   \n",
       "BotezLive                  19     144      9   \n",
       "AZCardinals                72      76      5   \n",
       "supersmashbros             25     133      9   \n",
       "creepy                      5      71      5   \n",
       "MonsterHunterWorld         18     111      8   \n",
       "Yetiapocalypse             68     219     16   \n",
       "JackTheAli3n                9      64      5   \n",
       "PhasmophobiaGame           21      87      7   \n",
       "ravens                     28      86      7   \n",
       "GodofWar                   11      66      6   \n",
       "Archero                     9      55      5   \n",
       "AskCulinary                19      54      5   \n",
       "Fighters                   42     163     16   \n",
       "Stadia                      8      50      5   \n",
       "ottomated                  19      79      8   \n",
       "lacrosse                   74      68      7   \n",
       "codyko                     49     233     24   \n",
       "apexuniversity             20      96     10   \n",
       "49ers                      14      48      5   \n",
       "RivalsOfAether             47     143     15   \n",
       "flyann                     44      57      6   \n",
       "DragaliaLost               25      47      5   \n",
       "StreetFighter              24      75      8   \n",
       "gainit                      9      56      6   \n",
       "MTB                        56      46      5   \n",
       "leafs                      26      46      5   \n",
       "MrBeast                    24     138     15   \n",
       "fivenightsatfreddys         6      46      5   \n",
       "PokemonGoRaids            140      63      7   \n",
       "Healthygamergg             13      89     10   \n",
       "AccidentalRacism            9      62      7   \n",
       "ACAB                        6      44      5   \n",
       "cadum                      32      86     10   \n",
       "GiftofGames                11      43      5   \n",
       "tipofmyjoystick            83     111     13   \n",
       "radiohead                  15      68      8   \n",
       "Markiplier                 13      51      6   \n",
       "simply                     29     101     12   \n",
       "KOT4Q                      21      42      5   \n",
       "Stanz                    1505    2052    250   \n",
       "UtahJazz                   50      41      5   \n",
       "SugarPine7                  6      41      5   \n",
       "\n",
       "                                                                  text  size  \\\n",
       "atriocprechat        Activity in atriocprechat: 9<br>Activity in r/...     8   \n",
       "clipclub             Activity in clipclub: 9<br>Activity in r/atrio...     6   \n",
       "whodatLIVE           Activity in whodatLIVE: 13<br>Activity in r/at...     6   \n",
       "Quack_001            Activity in Quack_001: 40<br>Activity in r/atr...    15   \n",
       "Consoom              Activity in Consoom: 11<br>Activity in r/atrio...     6   \n",
       "whodat950            Activity in whodat950: 42<br>Activity in r/atr...    20   \n",
       "Trainwreckstv        Activity in Trainwreckstv: 39<br>Activity in r...    14   \n",
       "JIDSV                Activity in JIDSV: 13<br>Activity in r/atrioc:...     5   \n",
       "BotezLive            Activity in BotezLive: 19<br>Activity in r/atr...     9   \n",
       "AZCardinals          Activity in AZCardinals: 72<br>Activity in r/a...     5   \n",
       "supersmashbros       Activity in supersmashbros: 25<br>Activity in ...     9   \n",
       "creepy               Activity in creepy: 5<br>Activity in r/atrioc:...     5   \n",
       "MonsterHunterWorld   Activity in MonsterHunterWorld: 18<br>Activity...     8   \n",
       "Yetiapocalypse       Activity in Yetiapocalypse: 68<br>Activity in ...    16   \n",
       "JackTheAli3n         Activity in JackTheAli3n: 9<br>Activity in r/a...     5   \n",
       "PhasmophobiaGame     Activity in PhasmophobiaGame: 21<br>Activity i...     7   \n",
       "ravens               Activity in ravens: 28<br>Activity in r/atrioc...     7   \n",
       "GodofWar             Activity in GodofWar: 11<br>Activity in r/atri...     6   \n",
       "Archero              Activity in Archero: 9<br>Activity in r/atrioc...     5   \n",
       "AskCulinary          Activity in AskCulinary: 19<br>Activity in r/a...     5   \n",
       "Fighters             Activity in Fighters: 42<br>Activity in r/atri...    16   \n",
       "Stadia               Activity in Stadia: 8<br>Activity in r/atrioc:...     5   \n",
       "ottomated            Activity in ottomated: 19<br>Activity in r/atr...     8   \n",
       "lacrosse             Activity in lacrosse: 74<br>Activity in r/atri...     7   \n",
       "codyko               Activity in codyko: 49<br>Activity in r/atrioc...    24   \n",
       "apexuniversity       Activity in apexuniversity: 20<br>Activity in ...    10   \n",
       "49ers                Activity in 49ers: 14<br>Activity in r/atrioc:...     5   \n",
       "RivalsOfAether       Activity in RivalsOfAether: 47<br>Activity in ...    15   \n",
       "flyann               Activity in flyann: 44<br>Activity in r/atrioc...     6   \n",
       "DragaliaLost         Activity in DragaliaLost: 25<br>Activity in r/...     5   \n",
       "StreetFighter        Activity in StreetFighter: 24<br>Activity in r...     8   \n",
       "gainit               Activity in gainit: 9<br>Activity in r/atrioc:...     6   \n",
       "MTB                  Activity in MTB: 56<br>Activity in r/atrioc: 4...     5   \n",
       "leafs                Activity in leafs: 26<br>Activity in r/atrioc:...     5   \n",
       "MrBeast              Activity in MrBeast: 24<br>Activity in r/atrio...    15   \n",
       "fivenightsatfreddys  Activity in fivenightsatfreddys: 6<br>Activity...     5   \n",
       "PokemonGoRaids       Activity in PokemonGoRaids: 140<br>Activity in...     7   \n",
       "Healthygamergg       Activity in Healthygamergg: 13<br>Activity in ...    10   \n",
       "AccidentalRacism     Activity in AccidentalRacism: 9<br>Activity in...     7   \n",
       "ACAB                 Activity in ACAB: 6<br>Activity in r/atrioc: 4...     5   \n",
       "cadum                Activity in cadum: 32<br>Activity in r/atrioc:...    10   \n",
       "GiftofGames          Activity in GiftofGames: 11<br>Activity in r/a...     5   \n",
       "tipofmyjoystick      Activity in tipofmyjoystick: 83<br>Activity in...    13   \n",
       "radiohead            Activity in radiohead: 15<br>Activity in r/atr...     8   \n",
       "Markiplier           Activity in Markiplier: 13<br>Activity in r/at...     6   \n",
       "simply               Activity in simply: 29<br>Activity in r/atrioc...    12   \n",
       "KOT4Q                Activity in KOT4Q: 21<br>Activity in r/atrioc:...     5   \n",
       "Stanz                Activity in Stanz: 1505<br>Activity in r/atrio...   250   \n",
       "UtahJazz             Activity in UtahJazz: 50<br>Activity in r/atri...     5   \n",
       "SugarPine7           Activity in SugarPine7: 6<br>Activity in r/atr...     5   \n",
       "\n",
       "                     activity/users  atrioc/users  \n",
       "atriocprechat              1.125000     49.875000  \n",
       "clipclub                   1.500000     29.666667  \n",
       "whodatLIVE                 2.166667     23.000000  \n",
       "Quack_001                  2.666667     18.666667  \n",
       "Consoom                    1.833333     18.500000  \n",
       "whodat950                  2.100000     17.850000  \n",
       "Trainwreckstv              2.785714     17.357143  \n",
       "JIDSV                      2.600000     16.800000  \n",
       "BotezLive                  2.111111     16.000000  \n",
       "AZCardinals               14.400000     15.200000  \n",
       "supersmashbros             2.777778     14.777778  \n",
       "creepy                     1.000000     14.200000  \n",
       "MonsterHunterWorld         2.250000     13.875000  \n",
       "Yetiapocalypse             4.250000     13.687500  \n",
       "JackTheAli3n               1.800000     12.800000  \n",
       "PhasmophobiaGame           3.000000     12.428571  \n",
       "ravens                     4.000000     12.285714  \n",
       "GodofWar                   1.833333     11.000000  \n",
       "Archero                    1.800000     11.000000  \n",
       "AskCulinary                3.800000     10.800000  \n",
       "Fighters                   2.625000     10.187500  \n",
       "Stadia                     1.600000     10.000000  \n",
       "ottomated                  2.375000      9.875000  \n",
       "lacrosse                  10.571429      9.714286  \n",
       "codyko                     2.041667      9.708333  \n",
       "apexuniversity             2.000000      9.600000  \n",
       "49ers                      2.800000      9.600000  \n",
       "RivalsOfAether             3.133333      9.533333  \n",
       "flyann                     7.333333      9.500000  \n",
       "DragaliaLost               5.000000      9.400000  \n",
       "StreetFighter              3.000000      9.375000  \n",
       "gainit                     1.500000      9.333333  \n",
       "MTB                       11.200000      9.200000  \n",
       "leafs                      5.200000      9.200000  \n",
       "MrBeast                    1.600000      9.200000  \n",
       "fivenightsatfreddys        1.200000      9.200000  \n",
       "PokemonGoRaids            20.000000      9.000000  \n",
       "Healthygamergg             1.300000      8.900000  \n",
       "AccidentalRacism           1.285714      8.857143  \n",
       "ACAB                       1.200000      8.800000  \n",
       "cadum                      3.200000      8.600000  \n",
       "GiftofGames                2.200000      8.600000  \n",
       "tipofmyjoystick            6.384615      8.538462  \n",
       "radiohead                  1.875000      8.500000  \n",
       "Markiplier                 2.166667      8.500000  \n",
       "simply                     2.416667      8.416667  \n",
       "KOT4Q                      4.200000      8.400000  \n",
       "Stanz                      6.020000      8.208000  \n",
       "UtahJazz                  10.000000      8.200000  \n",
       "SugarPine7                 1.200000      8.200000  "
      ],
      "text/html": "<div>\n<style scoped>\n    .dataframe tbody tr th:only-of-type {\n        vertical-align: middle;\n    }\n\n    .dataframe tbody tr th {\n        vertical-align: top;\n    }\n\n    .dataframe thead th {\n        text-align: right;\n    }\n</style>\n<table border=\"1\" class=\"dataframe\">\n  <thead>\n    <tr style=\"text-align: right;\">\n      <th></th>\n      <th>activity</th>\n      <th>atrioc</th>\n      <th>users</th>\n      <th>text</th>\n      <th>size</th>\n      <th>activity/users</th>\n      <th>atrioc/users</th>\n    </tr>\n  </thead>\n  <tbody>\n    <tr>\n      <th>atriocprechat</th>\n      <td>9</td>\n      <td>399</td>\n      <td>8</td>\n      <td>Activity in atriocprechat: 9&lt;br&gt;Activity in r/...</td>\n      <td>8</td>\n      <td>1.125000</td>\n      <td>49.875000</td>\n    </tr>\n    <tr>\n      <th>clipclub</th>\n      <td>9</td>\n      <td>178</td>\n      <td>6</td>\n      <td>Activity in clipclub: 9&lt;br&gt;Activity in r/atrio...</td>\n      <td>6</td>\n      <td>1.500000</td>\n      <td>29.666667</td>\n    </tr>\n    <tr>\n      <th>whodatLIVE</th>\n      <td>13</td>\n      <td>138</td>\n      <td>6</td>\n      <td>Activity in whodatLIVE: 13&lt;br&gt;Activity in r/at...</td>\n      <td>6</td>\n      <td>2.166667</td>\n      <td>23.000000</td>\n    </tr>\n    <tr>\n      <th>Quack_001</th>\n      <td>40</td>\n      <td>280</td>\n      <td>15</td>\n      <td>Activity in Quack_001: 40&lt;br&gt;Activity in r/atr...</td>\n      <td>15</td>\n      <td>2.666667</td>\n      <td>18.666667</td>\n    </tr>\n    <tr>\n      <th>Consoom</th>\n      <td>11</td>\n      <td>111</td>\n      <td>6</td>\n      <td>Activity in Consoom: 11&lt;br&gt;Activity in r/atrio...</td>\n      <td>6</td>\n      <td>1.833333</td>\n      <td>18.500000</td>\n    </tr>\n    <tr>\n      <th>whodat950</th>\n      <td>42</td>\n      <td>357</td>\n      <td>20</td>\n      <td>Activity in whodat950: 42&lt;br&gt;Activity in r/atr...</td>\n      <td>20</td>\n      <td>2.100000</td>\n      <td>17.850000</td>\n    </tr>\n    <tr>\n      <th>Trainwreckstv</th>\n      <td>39</td>\n      <td>243</td>\n      <td>14</td>\n      <td>Activity in Trainwreckstv: 39&lt;br&gt;Activity in r...</td>\n      <td>14</td>\n      <td>2.785714</td>\n      <td>17.357143</td>\n    </tr>\n    <tr>\n      <th>JIDSV</th>\n      <td>13</td>\n      <td>84</td>\n      <td>5</td>\n      <td>Activity in JIDSV: 13&lt;br&gt;Activity in r/atrioc:...</td>\n      <td>5</td>\n      <td>2.600000</td>\n      <td>16.800000</td>\n    </tr>\n    <tr>\n      <th>BotezLive</th>\n      <td>19</td>\n      <td>144</td>\n      <td>9</td>\n      <td>Activity in BotezLive: 19&lt;br&gt;Activity in r/atr...</td>\n      <td>9</td>\n      <td>2.111111</td>\n      <td>16.000000</td>\n    </tr>\n    <tr>\n      <th>AZCardinals</th>\n      <td>72</td>\n      <td>76</td>\n      <td>5</td>\n      <td>Activity in AZCardinals: 72&lt;br&gt;Activity in r/a...</td>\n      <td>5</td>\n      <td>14.400000</td>\n      <td>15.200000</td>\n    </tr>\n    <tr>\n      <th>supersmashbros</th>\n      <td>25</td>\n      <td>133</td>\n      <td>9</td>\n      <td>Activity in supersmashbros: 25&lt;br&gt;Activity in ...</td>\n      <td>9</td>\n      <td>2.777778</td>\n      <td>14.777778</td>\n    </tr>\n    <tr>\n      <th>creepy</th>\n      <td>5</td>\n      <td>71</td>\n      <td>5</td>\n      <td>Activity in creepy: 5&lt;br&gt;Activity in r/atrioc:...</td>\n      <td>5</td>\n      <td>1.000000</td>\n      <td>14.200000</td>\n    </tr>\n    <tr>\n      <th>MonsterHunterWorld</th>\n      <td>18</td>\n      <td>111</td>\n      <td>8</td>\n      <td>Activity in MonsterHunterWorld: 18&lt;br&gt;Activity...</td>\n      <td>8</td>\n      <td>2.250000</td>\n      <td>13.875000</td>\n    </tr>\n    <tr>\n      <th>Yetiapocalypse</th>\n      <td>68</td>\n      <td>219</td>\n      <td>16</td>\n      <td>Activity in Yetiapocalypse: 68&lt;br&gt;Activity in ...</td>\n      <td>16</td>\n      <td>4.250000</td>\n      <td>13.687500</td>\n    </tr>\n    <tr>\n      <th>JackTheAli3n</th>\n      <td>9</td>\n      <td>64</td>\n      <td>5</td>\n      <td>Activity in JackTheAli3n: 9&lt;br&gt;Activity in r/a...</td>\n      <td>5</td>\n      <td>1.800000</td>\n      <td>12.800000</td>\n    </tr>\n    <tr>\n      <th>PhasmophobiaGame</th>\n      <td>21</td>\n      <td>87</td>\n      <td>7</td>\n      <td>Activity in PhasmophobiaGame: 21&lt;br&gt;Activity i...</td>\n      <td>7</td>\n      <td>3.000000</td>\n      <td>12.428571</td>\n    </tr>\n    <tr>\n      <th>ravens</th>\n      <td>28</td>\n      <td>86</td>\n      <td>7</td>\n      <td>Activity in ravens: 28&lt;br&gt;Activity in r/atrioc...</td>\n      <td>7</td>\n      <td>4.000000</td>\n      <td>12.285714</td>\n    </tr>\n    <tr>\n      <th>GodofWar</th>\n      <td>11</td>\n      <td>66</td>\n      <td>6</td>\n      <td>Activity in GodofWar: 11&lt;br&gt;Activity in r/atri...</td>\n      <td>6</td>\n      <td>1.833333</td>\n      <td>11.000000</td>\n    </tr>\n    <tr>\n      <th>Archero</th>\n      <td>9</td>\n      <td>55</td>\n      <td>5</td>\n      <td>Activity in Archero: 9&lt;br&gt;Activity in r/atrioc...</td>\n      <td>5</td>\n      <td>1.800000</td>\n      <td>11.000000</td>\n    </tr>\n    <tr>\n      <th>AskCulinary</th>\n      <td>19</td>\n      <td>54</td>\n      <td>5</td>\n      <td>Activity in AskCulinary: 19&lt;br&gt;Activity in r/a...</td>\n      <td>5</td>\n      <td>3.800000</td>\n      <td>10.800000</td>\n    </tr>\n    <tr>\n      <th>Fighters</th>\n      <td>42</td>\n      <td>163</td>\n      <td>16</td>\n      <td>Activity in Fighters: 42&lt;br&gt;Activity in r/atri...</td>\n      <td>16</td>\n      <td>2.625000</td>\n      <td>10.187500</td>\n    </tr>\n    <tr>\n      <th>Stadia</th>\n      <td>8</td>\n      <td>50</td>\n      <td>5</td>\n      <td>Activity in Stadia: 8&lt;br&gt;Activity in r/atrioc:...</td>\n      <td>5</td>\n      <td>1.600000</td>\n      <td>10.000000</td>\n    </tr>\n    <tr>\n      <th>ottomated</th>\n      <td>19</td>\n      <td>79</td>\n      <td>8</td>\n      <td>Activity in ottomated: 19&lt;br&gt;Activity in r/atr...</td>\n      <td>8</td>\n      <td>2.375000</td>\n      <td>9.875000</td>\n    </tr>\n    <tr>\n      <th>lacrosse</th>\n      <td>74</td>\n      <td>68</td>\n      <td>7</td>\n      <td>Activity in lacrosse: 74&lt;br&gt;Activity in r/atri...</td>\n      <td>7</td>\n      <td>10.571429</td>\n      <td>9.714286</td>\n    </tr>\n    <tr>\n      <th>codyko</th>\n      <td>49</td>\n      <td>233</td>\n      <td>24</td>\n      <td>Activity in codyko: 49&lt;br&gt;Activity in r/atrioc...</td>\n      <td>24</td>\n      <td>2.041667</td>\n      <td>9.708333</td>\n    </tr>\n    <tr>\n      <th>apexuniversity</th>\n      <td>20</td>\n      <td>96</td>\n      <td>10</td>\n      <td>Activity in apexuniversity: 20&lt;br&gt;Activity in ...</td>\n      <td>10</td>\n      <td>2.000000</td>\n      <td>9.600000</td>\n    </tr>\n    <tr>\n      <th>49ers</th>\n      <td>14</td>\n      <td>48</td>\n      <td>5</td>\n      <td>Activity in 49ers: 14&lt;br&gt;Activity in r/atrioc:...</td>\n      <td>5</td>\n      <td>2.800000</td>\n      <td>9.600000</td>\n    </tr>\n    <tr>\n      <th>RivalsOfAether</th>\n      <td>47</td>\n      <td>143</td>\n      <td>15</td>\n      <td>Activity in RivalsOfAether: 47&lt;br&gt;Activity in ...</td>\n      <td>15</td>\n      <td>3.133333</td>\n      <td>9.533333</td>\n    </tr>\n    <tr>\n      <th>flyann</th>\n      <td>44</td>\n      <td>57</td>\n      <td>6</td>\n      <td>Activity in flyann: 44&lt;br&gt;Activity in r/atrioc...</td>\n      <td>6</td>\n      <td>7.333333</td>\n      <td>9.500000</td>\n    </tr>\n    <tr>\n      <th>DragaliaLost</th>\n      <td>25</td>\n      <td>47</td>\n      <td>5</td>\n      <td>Activity in DragaliaLost: 25&lt;br&gt;Activity in r/...</td>\n      <td>5</td>\n      <td>5.000000</td>\n      <td>9.400000</td>\n    </tr>\n    <tr>\n      <th>StreetFighter</th>\n      <td>24</td>\n      <td>75</td>\n      <td>8</td>\n      <td>Activity in StreetFighter: 24&lt;br&gt;Activity in r...</td>\n      <td>8</td>\n      <td>3.000000</td>\n      <td>9.375000</td>\n    </tr>\n    <tr>\n      <th>gainit</th>\n      <td>9</td>\n      <td>56</td>\n      <td>6</td>\n      <td>Activity in gainit: 9&lt;br&gt;Activity in r/atrioc:...</td>\n      <td>6</td>\n      <td>1.500000</td>\n      <td>9.333333</td>\n    </tr>\n    <tr>\n      <th>MTB</th>\n      <td>56</td>\n      <td>46</td>\n      <td>5</td>\n      <td>Activity in MTB: 56&lt;br&gt;Activity in r/atrioc: 4...</td>\n      <td>5</td>\n      <td>11.200000</td>\n      <td>9.200000</td>\n    </tr>\n    <tr>\n      <th>leafs</th>\n      <td>26</td>\n      <td>46</td>\n      <td>5</td>\n      <td>Activity in leafs: 26&lt;br&gt;Activity in r/atrioc:...</td>\n      <td>5</td>\n      <td>5.200000</td>\n      <td>9.200000</td>\n    </tr>\n    <tr>\n      <th>MrBeast</th>\n      <td>24</td>\n      <td>138</td>\n      <td>15</td>\n      <td>Activity in MrBeast: 24&lt;br&gt;Activity in r/atrio...</td>\n      <td>15</td>\n      <td>1.600000</td>\n      <td>9.200000</td>\n    </tr>\n    <tr>\n      <th>fivenightsatfreddys</th>\n      <td>6</td>\n      <td>46</td>\n      <td>5</td>\n      <td>Activity in fivenightsatfreddys: 6&lt;br&gt;Activity...</td>\n      <td>5</td>\n      <td>1.200000</td>\n      <td>9.200000</td>\n    </tr>\n    <tr>\n      <th>PokemonGoRaids</th>\n      <td>140</td>\n      <td>63</td>\n      <td>7</td>\n      <td>Activity in PokemonGoRaids: 140&lt;br&gt;Activity in...</td>\n      <td>7</td>\n      <td>20.000000</td>\n      <td>9.000000</td>\n    </tr>\n    <tr>\n      <th>Healthygamergg</th>\n      <td>13</td>\n      <td>89</td>\n      <td>10</td>\n      <td>Activity in Healthygamergg: 13&lt;br&gt;Activity in ...</td>\n      <td>10</td>\n      <td>1.300000</td>\n      <td>8.900000</td>\n    </tr>\n    <tr>\n      <th>AccidentalRacism</th>\n      <td>9</td>\n      <td>62</td>\n      <td>7</td>\n      <td>Activity in AccidentalRacism: 9&lt;br&gt;Activity in...</td>\n      <td>7</td>\n      <td>1.285714</td>\n      <td>8.857143</td>\n    </tr>\n    <tr>\n      <th>ACAB</th>\n      <td>6</td>\n      <td>44</td>\n      <td>5</td>\n      <td>Activity in ACAB: 6&lt;br&gt;Activity in r/atrioc: 4...</td>\n      <td>5</td>\n      <td>1.200000</td>\n      <td>8.800000</td>\n    </tr>\n    <tr>\n      <th>cadum</th>\n      <td>32</td>\n      <td>86</td>\n      <td>10</td>\n      <td>Activity in cadum: 32&lt;br&gt;Activity in r/atrioc:...</td>\n      <td>10</td>\n      <td>3.200000</td>\n      <td>8.600000</td>\n    </tr>\n    <tr>\n      <th>GiftofGames</th>\n      <td>11</td>\n      <td>43</td>\n      <td>5</td>\n      <td>Activity in GiftofGames: 11&lt;br&gt;Activity in r/a...</td>\n      <td>5</td>\n      <td>2.200000</td>\n      <td>8.600000</td>\n    </tr>\n    <tr>\n      <th>tipofmyjoystick</th>\n      <td>83</td>\n      <td>111</td>\n      <td>13</td>\n      <td>Activity in tipofmyjoystick: 83&lt;br&gt;Activity in...</td>\n      <td>13</td>\n      <td>6.384615</td>\n      <td>8.538462</td>\n    </tr>\n    <tr>\n      <th>radiohead</th>\n      <td>15</td>\n      <td>68</td>\n      <td>8</td>\n      <td>Activity in radiohead: 15&lt;br&gt;Activity in r/atr...</td>\n      <td>8</td>\n      <td>1.875000</td>\n      <td>8.500000</td>\n    </tr>\n    <tr>\n      <th>Markiplier</th>\n      <td>13</td>\n      <td>51</td>\n      <td>6</td>\n      <td>Activity in Markiplier: 13&lt;br&gt;Activity in r/at...</td>\n      <td>6</td>\n      <td>2.166667</td>\n      <td>8.500000</td>\n    </tr>\n    <tr>\n      <th>simply</th>\n      <td>29</td>\n      <td>101</td>\n      <td>12</td>\n      <td>Activity in simply: 29&lt;br&gt;Activity in r/atrioc...</td>\n      <td>12</td>\n      <td>2.416667</td>\n      <td>8.416667</td>\n    </tr>\n    <tr>\n      <th>KOT4Q</th>\n      <td>21</td>\n      <td>42</td>\n      <td>5</td>\n      <td>Activity in KOT4Q: 21&lt;br&gt;Activity in r/atrioc:...</td>\n      <td>5</td>\n      <td>4.200000</td>\n      <td>8.400000</td>\n    </tr>\n    <tr>\n      <th>Stanz</th>\n      <td>1505</td>\n      <td>2052</td>\n      <td>250</td>\n      <td>Activity in Stanz: 1505&lt;br&gt;Activity in r/atrio...</td>\n      <td>250</td>\n      <td>6.020000</td>\n      <td>8.208000</td>\n    </tr>\n    <tr>\n      <th>UtahJazz</th>\n      <td>50</td>\n      <td>41</td>\n      <td>5</td>\n      <td>Activity in UtahJazz: 50&lt;br&gt;Activity in r/atri...</td>\n      <td>5</td>\n      <td>10.000000</td>\n      <td>8.200000</td>\n    </tr>\n    <tr>\n      <th>SugarPine7</th>\n      <td>6</td>\n      <td>41</td>\n      <td>5</td>\n      <td>Activity in SugarPine7: 6&lt;br&gt;Activity in r/atr...</td>\n      <td>5</td>\n      <td>1.200000</td>\n      <td>8.200000</td>\n    </tr>\n  </tbody>\n</table>\n</div>"
     },
     "metadata": {},
     "execution_count": 20
    }
   ],
   "source": [
    "most_dedicated_users.head(50)"
   ]
  },
  {
   "cell_type": "code",
   "execution_count": 23,
   "metadata": {},
   "outputs": [
    {
     "output_type": "display_data",
     "data": {
      "application/vnd.plotly.v1+json": {
       "config": {
        "plotlyServerURL": "https://plotly.com"
       },
       "data": [
        {
         "marker": {
          "line": {
           "width": 2
          },
          "opacity": 0.5,
          "size": 16,
          "sizemode": "area",
          "sizeref": 0.0048
         },
         "mode": "markers",
         "name": "atriocprechat",
         "text": "Activity in atriocprechat: 9<br>Activity in r/atrioc: 399<br>Overlapping Users: 8",
         "type": "scatter",
         "x": [
          49.875
         ],
         "y": [
          9
         ]
        },
        {
         "marker": {
          "line": {
           "width": 2
          },
          "opacity": 0.5,
          "size": 12,
          "sizemode": "area",
          "sizeref": 0.0048
         },
         "mode": "markers",
         "name": "clipclub",
         "text": "Activity in clipclub: 9<br>Activity in r/atrioc: 178<br>Overlapping Users: 6",
         "type": "scatter",
         "x": [
          29.666666666666668
         ],
         "y": [
          9
         ]
        },
        {
         "marker": {
          "line": {
           "width": 2
          },
          "opacity": 0.5,
          "size": 12,
          "sizemode": "area",
          "sizeref": 0.0048
         },
         "mode": "markers",
         "name": "whodatLIVE",
         "text": "Activity in whodatLIVE: 13<br>Activity in r/atrioc: 138<br>Overlapping Users: 6",
         "type": "scatter",
         "x": [
          23
         ],
         "y": [
          13
         ]
        },
        {
         "marker": {
          "line": {
           "width": 2
          },
          "opacity": 0.5,
          "size": 30,
          "sizemode": "area",
          "sizeref": 0.0048
         },
         "mode": "markers",
         "name": "Quack_001",
         "text": "Activity in Quack_001: 40<br>Activity in r/atrioc: 280<br>Overlapping Users: 15",
         "type": "scatter",
         "x": [
          18.666666666666668
         ],
         "y": [
          40
         ]
        },
        {
         "marker": {
          "line": {
           "width": 2
          },
          "opacity": 0.5,
          "size": 12,
          "sizemode": "area",
          "sizeref": 0.0048
         },
         "mode": "markers",
         "name": "Consoom",
         "text": "Activity in Consoom: 11<br>Activity in r/atrioc: 111<br>Overlapping Users: 6",
         "type": "scatter",
         "x": [
          18.5
         ],
         "y": [
          11
         ]
        },
        {
         "marker": {
          "line": {
           "width": 2
          },
          "opacity": 0.5,
          "size": 40,
          "sizemode": "area",
          "sizeref": 0.0048
         },
         "mode": "markers",
         "name": "whodat950",
         "text": "Activity in whodat950: 42<br>Activity in r/atrioc: 357<br>Overlapping Users: 20",
         "type": "scatter",
         "x": [
          17.85
         ],
         "y": [
          42
         ]
        },
        {
         "marker": {
          "line": {
           "width": 2
          },
          "opacity": 0.5,
          "size": 28,
          "sizemode": "area",
          "sizeref": 0.0048
         },
         "mode": "markers",
         "name": "Trainwreckstv",
         "text": "Activity in Trainwreckstv: 39<br>Activity in r/atrioc: 243<br>Overlapping Users: 14",
         "type": "scatter",
         "x": [
          17.357142857142858
         ],
         "y": [
          39
         ]
        },
        {
         "marker": {
          "line": {
           "width": 2
          },
          "opacity": 0.5,
          "size": 10,
          "sizemode": "area",
          "sizeref": 0.0048
         },
         "mode": "markers",
         "name": "JIDSV",
         "text": "Activity in JIDSV: 13<br>Activity in r/atrioc: 84<br>Overlapping Users: 5",
         "type": "scatter",
         "x": [
          16.8
         ],
         "y": [
          13
         ]
        },
        {
         "marker": {
          "line": {
           "width": 2
          },
          "opacity": 0.5,
          "size": 18,
          "sizemode": "area",
          "sizeref": 0.0048
         },
         "mode": "markers",
         "name": "BotezLive",
         "text": "Activity in BotezLive: 19<br>Activity in r/atrioc: 144<br>Overlapping Users: 9",
         "type": "scatter",
         "x": [
          16
         ],
         "y": [
          19
         ]
        },
        {
         "marker": {
          "line": {
           "width": 2
          },
          "opacity": 0.5,
          "size": 10,
          "sizemode": "area",
          "sizeref": 0.0048
         },
         "mode": "markers",
         "name": "AZCardinals",
         "text": "Activity in AZCardinals: 72<br>Activity in r/atrioc: 76<br>Overlapping Users: 5",
         "type": "scatter",
         "x": [
          15.2
         ],
         "y": [
          72
         ]
        },
        {
         "marker": {
          "line": {
           "width": 2
          },
          "opacity": 0.5,
          "size": 18,
          "sizemode": "area",
          "sizeref": 0.0048
         },
         "mode": "markers",
         "name": "supersmashbros",
         "text": "Activity in supersmashbros: 25<br>Activity in r/atrioc: 133<br>Overlapping Users: 9",
         "type": "scatter",
         "x": [
          14.777777777777779
         ],
         "y": [
          25
         ]
        },
        {
         "marker": {
          "line": {
           "width": 2
          },
          "opacity": 0.5,
          "size": 10,
          "sizemode": "area",
          "sizeref": 0.0048
         },
         "mode": "markers",
         "name": "creepy",
         "text": "Activity in creepy: 5<br>Activity in r/atrioc: 71<br>Overlapping Users: 5",
         "type": "scatter",
         "x": [
          14.2
         ],
         "y": [
          5
         ]
        },
        {
         "marker": {
          "line": {
           "width": 2
          },
          "opacity": 0.5,
          "size": 16,
          "sizemode": "area",
          "sizeref": 0.0048
         },
         "mode": "markers",
         "name": "MonsterHunterWorld",
         "text": "Activity in MonsterHunterWorld: 18<br>Activity in r/atrioc: 111<br>Overlapping Users: 8",
         "type": "scatter",
         "x": [
          13.875
         ],
         "y": [
          18
         ]
        },
        {
         "marker": {
          "line": {
           "width": 2
          },
          "opacity": 0.5,
          "size": 32,
          "sizemode": "area",
          "sizeref": 0.0048
         },
         "mode": "markers",
         "name": "Yetiapocalypse",
         "text": "Activity in Yetiapocalypse: 68<br>Activity in r/atrioc: 219<br>Overlapping Users: 16",
         "type": "scatter",
         "x": [
          13.6875
         ],
         "y": [
          68
         ]
        },
        {
         "marker": {
          "line": {
           "width": 2
          },
          "opacity": 0.5,
          "size": 10,
          "sizemode": "area",
          "sizeref": 0.0048
         },
         "mode": "markers",
         "name": "JackTheAli3n",
         "text": "Activity in JackTheAli3n: 9<br>Activity in r/atrioc: 64<br>Overlapping Users: 5",
         "type": "scatter",
         "x": [
          12.8
         ],
         "y": [
          9
         ]
        },
        {
         "marker": {
          "line": {
           "width": 2
          },
          "opacity": 0.5,
          "size": 14,
          "sizemode": "area",
          "sizeref": 0.0048
         },
         "mode": "markers",
         "name": "PhasmophobiaGame",
         "text": "Activity in PhasmophobiaGame: 21<br>Activity in r/atrioc: 87<br>Overlapping Users: 7",
         "type": "scatter",
         "x": [
          12.428571428571429
         ],
         "y": [
          21
         ]
        },
        {
         "marker": {
          "line": {
           "width": 2
          },
          "opacity": 0.5,
          "size": 14,
          "sizemode": "area",
          "sizeref": 0.0048
         },
         "mode": "markers",
         "name": "ravens",
         "text": "Activity in ravens: 28<br>Activity in r/atrioc: 86<br>Overlapping Users: 7",
         "type": "scatter",
         "x": [
          12.285714285714286
         ],
         "y": [
          28
         ]
        },
        {
         "marker": {
          "line": {
           "width": 2
          },
          "opacity": 0.5,
          "size": 12,
          "sizemode": "area",
          "sizeref": 0.0048
         },
         "mode": "markers",
         "name": "GodofWar",
         "text": "Activity in GodofWar: 11<br>Activity in r/atrioc: 66<br>Overlapping Users: 6",
         "type": "scatter",
         "x": [
          11
         ],
         "y": [
          11
         ]
        },
        {
         "marker": {
          "line": {
           "width": 2
          },
          "opacity": 0.5,
          "size": 10,
          "sizemode": "area",
          "sizeref": 0.0048
         },
         "mode": "markers",
         "name": "Archero",
         "text": "Activity in Archero: 9<br>Activity in r/atrioc: 55<br>Overlapping Users: 5",
         "type": "scatter",
         "x": [
          11
         ],
         "y": [
          9
         ]
        },
        {
         "marker": {
          "line": {
           "width": 2
          },
          "opacity": 0.5,
          "size": 10,
          "sizemode": "area",
          "sizeref": 0.0048
         },
         "mode": "markers",
         "name": "AskCulinary",
         "text": "Activity in AskCulinary: 19<br>Activity in r/atrioc: 54<br>Overlapping Users: 5",
         "type": "scatter",
         "x": [
          10.8
         ],
         "y": [
          19
         ]
        },
        {
         "marker": {
          "line": {
           "width": 2
          },
          "opacity": 0.5,
          "size": 32,
          "sizemode": "area",
          "sizeref": 0.0048
         },
         "mode": "markers",
         "name": "Fighters",
         "text": "Activity in Fighters: 42<br>Activity in r/atrioc: 163<br>Overlapping Users: 16",
         "type": "scatter",
         "x": [
          10.1875
         ],
         "y": [
          42
         ]
        },
        {
         "marker": {
          "line": {
           "width": 2
          },
          "opacity": 0.5,
          "size": 10,
          "sizemode": "area",
          "sizeref": 0.0048
         },
         "mode": "markers",
         "name": "Stadia",
         "text": "Activity in Stadia: 8<br>Activity in r/atrioc: 50<br>Overlapping Users: 5",
         "type": "scatter",
         "x": [
          10
         ],
         "y": [
          8
         ]
        },
        {
         "marker": {
          "line": {
           "width": 2
          },
          "opacity": 0.5,
          "size": 16,
          "sizemode": "area",
          "sizeref": 0.0048
         },
         "mode": "markers",
         "name": "ottomated",
         "text": "Activity in ottomated: 19<br>Activity in r/atrioc: 79<br>Overlapping Users: 8",
         "type": "scatter",
         "x": [
          9.875
         ],
         "y": [
          19
         ]
        },
        {
         "marker": {
          "line": {
           "width": 2
          },
          "opacity": 0.5,
          "size": 14,
          "sizemode": "area",
          "sizeref": 0.0048
         },
         "mode": "markers",
         "name": "lacrosse",
         "text": "Activity in lacrosse: 74<br>Activity in r/atrioc: 68<br>Overlapping Users: 7",
         "type": "scatter",
         "x": [
          9.714285714285714
         ],
         "y": [
          74
         ]
        },
        {
         "marker": {
          "line": {
           "width": 2
          },
          "opacity": 0.5,
          "size": 48,
          "sizemode": "area",
          "sizeref": 0.0048
         },
         "mode": "markers",
         "name": "codyko",
         "text": "Activity in codyko: 49<br>Activity in r/atrioc: 233<br>Overlapping Users: 24",
         "type": "scatter",
         "x": [
          9.708333333333334
         ],
         "y": [
          49
         ]
        },
        {
         "marker": {
          "line": {
           "width": 2
          },
          "opacity": 0.5,
          "size": 20,
          "sizemode": "area",
          "sizeref": 0.0048
         },
         "mode": "markers",
         "name": "apexuniversity",
         "text": "Activity in apexuniversity: 20<br>Activity in r/atrioc: 96<br>Overlapping Users: 10",
         "type": "scatter",
         "x": [
          9.6
         ],
         "y": [
          20
         ]
        },
        {
         "marker": {
          "line": {
           "width": 2
          },
          "opacity": 0.5,
          "size": 10,
          "sizemode": "area",
          "sizeref": 0.0048
         },
         "mode": "markers",
         "name": "49ers",
         "text": "Activity in 49ers: 14<br>Activity in r/atrioc: 48<br>Overlapping Users: 5",
         "type": "scatter",
         "x": [
          9.6
         ],
         "y": [
          14
         ]
        },
        {
         "marker": {
          "line": {
           "width": 2
          },
          "opacity": 0.5,
          "size": 30,
          "sizemode": "area",
          "sizeref": 0.0048
         },
         "mode": "markers",
         "name": "RivalsOfAether",
         "text": "Activity in RivalsOfAether: 47<br>Activity in r/atrioc: 143<br>Overlapping Users: 15",
         "type": "scatter",
         "x": [
          9.533333333333333
         ],
         "y": [
          47
         ]
        },
        {
         "marker": {
          "line": {
           "width": 2
          },
          "opacity": 0.5,
          "size": 12,
          "sizemode": "area",
          "sizeref": 0.0048
         },
         "mode": "markers",
         "name": "flyann",
         "text": "Activity in flyann: 44<br>Activity in r/atrioc: 57<br>Overlapping Users: 6",
         "type": "scatter",
         "x": [
          9.5
         ],
         "y": [
          44
         ]
        },
        {
         "marker": {
          "line": {
           "width": 2
          },
          "opacity": 0.5,
          "size": 10,
          "sizemode": "area",
          "sizeref": 0.0048
         },
         "mode": "markers",
         "name": "DragaliaLost",
         "text": "Activity in DragaliaLost: 25<br>Activity in r/atrioc: 47<br>Overlapping Users: 5",
         "type": "scatter",
         "x": [
          9.4
         ],
         "y": [
          25
         ]
        }
       ],
       "layout": {
        "height": 900,
        "legend": {
         "itemsizing": "trace",
         "title": {
          "font": {
           "size": 18
          },
          "text": "Subreddits by overlapping user count<br><br>Bubble size proportional to user count"
         }
        },
        "paper_bgcolor": "rgb(243, 243, 243)",
        "plot_bgcolor": "rgb(243, 243, 243)",
        "template": {
         "data": {
          "bar": [
           {
            "error_x": {
             "color": "#2a3f5f"
            },
            "error_y": {
             "color": "#2a3f5f"
            },
            "marker": {
             "line": {
              "color": "#E5ECF6",
              "width": 0.5
             }
            },
            "type": "bar"
           }
          ],
          "barpolar": [
           {
            "marker": {
             "line": {
              "color": "#E5ECF6",
              "width": 0.5
             }
            },
            "type": "barpolar"
           }
          ],
          "carpet": [
           {
            "aaxis": {
             "endlinecolor": "#2a3f5f",
             "gridcolor": "white",
             "linecolor": "white",
             "minorgridcolor": "white",
             "startlinecolor": "#2a3f5f"
            },
            "baxis": {
             "endlinecolor": "#2a3f5f",
             "gridcolor": "white",
             "linecolor": "white",
             "minorgridcolor": "white",
             "startlinecolor": "#2a3f5f"
            },
            "type": "carpet"
           }
          ],
          "choropleth": [
           {
            "colorbar": {
             "outlinewidth": 0,
             "ticks": ""
            },
            "type": "choropleth"
           }
          ],
          "contour": [
           {
            "colorbar": {
             "outlinewidth": 0,
             "ticks": ""
            },
            "colorscale": [
             [
              0,
              "#0d0887"
             ],
             [
              0.1111111111111111,
              "#46039f"
             ],
             [
              0.2222222222222222,
              "#7201a8"
             ],
             [
              0.3333333333333333,
              "#9c179e"
             ],
             [
              0.4444444444444444,
              "#bd3786"
             ],
             [
              0.5555555555555556,
              "#d8576b"
             ],
             [
              0.6666666666666666,
              "#ed7953"
             ],
             [
              0.7777777777777778,
              "#fb9f3a"
             ],
             [
              0.8888888888888888,
              "#fdca26"
             ],
             [
              1,
              "#f0f921"
             ]
            ],
            "type": "contour"
           }
          ],
          "contourcarpet": [
           {
            "colorbar": {
             "outlinewidth": 0,
             "ticks": ""
            },
            "type": "contourcarpet"
           }
          ],
          "heatmap": [
           {
            "colorbar": {
             "outlinewidth": 0,
             "ticks": ""
            },
            "colorscale": [
             [
              0,
              "#0d0887"
             ],
             [
              0.1111111111111111,
              "#46039f"
             ],
             [
              0.2222222222222222,
              "#7201a8"
             ],
             [
              0.3333333333333333,
              "#9c179e"
             ],
             [
              0.4444444444444444,
              "#bd3786"
             ],
             [
              0.5555555555555556,
              "#d8576b"
             ],
             [
              0.6666666666666666,
              "#ed7953"
             ],
             [
              0.7777777777777778,
              "#fb9f3a"
             ],
             [
              0.8888888888888888,
              "#fdca26"
             ],
             [
              1,
              "#f0f921"
             ]
            ],
            "type": "heatmap"
           }
          ],
          "heatmapgl": [
           {
            "colorbar": {
             "outlinewidth": 0,
             "ticks": ""
            },
            "colorscale": [
             [
              0,
              "#0d0887"
             ],
             [
              0.1111111111111111,
              "#46039f"
             ],
             [
              0.2222222222222222,
              "#7201a8"
             ],
             [
              0.3333333333333333,
              "#9c179e"
             ],
             [
              0.4444444444444444,
              "#bd3786"
             ],
             [
              0.5555555555555556,
              "#d8576b"
             ],
             [
              0.6666666666666666,
              "#ed7953"
             ],
             [
              0.7777777777777778,
              "#fb9f3a"
             ],
             [
              0.8888888888888888,
              "#fdca26"
             ],
             [
              1,
              "#f0f921"
             ]
            ],
            "type": "heatmapgl"
           }
          ],
          "histogram": [
           {
            "marker": {
             "colorbar": {
              "outlinewidth": 0,
              "ticks": ""
             }
            },
            "type": "histogram"
           }
          ],
          "histogram2d": [
           {
            "colorbar": {
             "outlinewidth": 0,
             "ticks": ""
            },
            "colorscale": [
             [
              0,
              "#0d0887"
             ],
             [
              0.1111111111111111,
              "#46039f"
             ],
             [
              0.2222222222222222,
              "#7201a8"
             ],
             [
              0.3333333333333333,
              "#9c179e"
             ],
             [
              0.4444444444444444,
              "#bd3786"
             ],
             [
              0.5555555555555556,
              "#d8576b"
             ],
             [
              0.6666666666666666,
              "#ed7953"
             ],
             [
              0.7777777777777778,
              "#fb9f3a"
             ],
             [
              0.8888888888888888,
              "#fdca26"
             ],
             [
              1,
              "#f0f921"
             ]
            ],
            "type": "histogram2d"
           }
          ],
          "histogram2dcontour": [
           {
            "colorbar": {
             "outlinewidth": 0,
             "ticks": ""
            },
            "colorscale": [
             [
              0,
              "#0d0887"
             ],
             [
              0.1111111111111111,
              "#46039f"
             ],
             [
              0.2222222222222222,
              "#7201a8"
             ],
             [
              0.3333333333333333,
              "#9c179e"
             ],
             [
              0.4444444444444444,
              "#bd3786"
             ],
             [
              0.5555555555555556,
              "#d8576b"
             ],
             [
              0.6666666666666666,
              "#ed7953"
             ],
             [
              0.7777777777777778,
              "#fb9f3a"
             ],
             [
              0.8888888888888888,
              "#fdca26"
             ],
             [
              1,
              "#f0f921"
             ]
            ],
            "type": "histogram2dcontour"
           }
          ],
          "mesh3d": [
           {
            "colorbar": {
             "outlinewidth": 0,
             "ticks": ""
            },
            "type": "mesh3d"
           }
          ],
          "parcoords": [
           {
            "line": {
             "colorbar": {
              "outlinewidth": 0,
              "ticks": ""
             }
            },
            "type": "parcoords"
           }
          ],
          "pie": [
           {
            "automargin": true,
            "type": "pie"
           }
          ],
          "scatter": [
           {
            "marker": {
             "colorbar": {
              "outlinewidth": 0,
              "ticks": ""
             }
            },
            "type": "scatter"
           }
          ],
          "scatter3d": [
           {
            "line": {
             "colorbar": {
              "outlinewidth": 0,
              "ticks": ""
             }
            },
            "marker": {
             "colorbar": {
              "outlinewidth": 0,
              "ticks": ""
             }
            },
            "type": "scatter3d"
           }
          ],
          "scattercarpet": [
           {
            "marker": {
             "colorbar": {
              "outlinewidth": 0,
              "ticks": ""
             }
            },
            "type": "scattercarpet"
           }
          ],
          "scattergeo": [
           {
            "marker": {
             "colorbar": {
              "outlinewidth": 0,
              "ticks": ""
             }
            },
            "type": "scattergeo"
           }
          ],
          "scattergl": [
           {
            "marker": {
             "colorbar": {
              "outlinewidth": 0,
              "ticks": ""
             }
            },
            "type": "scattergl"
           }
          ],
          "scattermapbox": [
           {
            "marker": {
             "colorbar": {
              "outlinewidth": 0,
              "ticks": ""
             }
            },
            "type": "scattermapbox"
           }
          ],
          "scatterpolar": [
           {
            "marker": {
             "colorbar": {
              "outlinewidth": 0,
              "ticks": ""
             }
            },
            "type": "scatterpolar"
           }
          ],
          "scatterpolargl": [
           {
            "marker": {
             "colorbar": {
              "outlinewidth": 0,
              "ticks": ""
             }
            },
            "type": "scatterpolargl"
           }
          ],
          "scatterternary": [
           {
            "marker": {
             "colorbar": {
              "outlinewidth": 0,
              "ticks": ""
             }
            },
            "type": "scatterternary"
           }
          ],
          "surface": [
           {
            "colorbar": {
             "outlinewidth": 0,
             "ticks": ""
            },
            "colorscale": [
             [
              0,
              "#0d0887"
             ],
             [
              0.1111111111111111,
              "#46039f"
             ],
             [
              0.2222222222222222,
              "#7201a8"
             ],
             [
              0.3333333333333333,
              "#9c179e"
             ],
             [
              0.4444444444444444,
              "#bd3786"
             ],
             [
              0.5555555555555556,
              "#d8576b"
             ],
             [
              0.6666666666666666,
              "#ed7953"
             ],
             [
              0.7777777777777778,
              "#fb9f3a"
             ],
             [
              0.8888888888888888,
              "#fdca26"
             ],
             [
              1,
              "#f0f921"
             ]
            ],
            "type": "surface"
           }
          ],
          "table": [
           {
            "cells": {
             "fill": {
              "color": "#EBF0F8"
             },
             "line": {
              "color": "white"
             }
            },
            "header": {
             "fill": {
              "color": "#C8D4E3"
             },
             "line": {
              "color": "white"
             }
            },
            "type": "table"
           }
          ]
         },
         "layout": {
          "annotationdefaults": {
           "arrowcolor": "#2a3f5f",
           "arrowhead": 0,
           "arrowwidth": 1
          },
          "autotypenumbers": "strict",
          "coloraxis": {
           "colorbar": {
            "outlinewidth": 0,
            "ticks": ""
           }
          },
          "colorscale": {
           "diverging": [
            [
             0,
             "#8e0152"
            ],
            [
             0.1,
             "#c51b7d"
            ],
            [
             0.2,
             "#de77ae"
            ],
            [
             0.3,
             "#f1b6da"
            ],
            [
             0.4,
             "#fde0ef"
            ],
            [
             0.5,
             "#f7f7f7"
            ],
            [
             0.6,
             "#e6f5d0"
            ],
            [
             0.7,
             "#b8e186"
            ],
            [
             0.8,
             "#7fbc41"
            ],
            [
             0.9,
             "#4d9221"
            ],
            [
             1,
             "#276419"
            ]
           ],
           "sequential": [
            [
             0,
             "#0d0887"
            ],
            [
             0.1111111111111111,
             "#46039f"
            ],
            [
             0.2222222222222222,
             "#7201a8"
            ],
            [
             0.3333333333333333,
             "#9c179e"
            ],
            [
             0.4444444444444444,
             "#bd3786"
            ],
            [
             0.5555555555555556,
             "#d8576b"
            ],
            [
             0.6666666666666666,
             "#ed7953"
            ],
            [
             0.7777777777777778,
             "#fb9f3a"
            ],
            [
             0.8888888888888888,
             "#fdca26"
            ],
            [
             1,
             "#f0f921"
            ]
           ],
           "sequentialminus": [
            [
             0,
             "#0d0887"
            ],
            [
             0.1111111111111111,
             "#46039f"
            ],
            [
             0.2222222222222222,
             "#7201a8"
            ],
            [
             0.3333333333333333,
             "#9c179e"
            ],
            [
             0.4444444444444444,
             "#bd3786"
            ],
            [
             0.5555555555555556,
             "#d8576b"
            ],
            [
             0.6666666666666666,
             "#ed7953"
            ],
            [
             0.7777777777777778,
             "#fb9f3a"
            ],
            [
             0.8888888888888888,
             "#fdca26"
            ],
            [
             1,
             "#f0f921"
            ]
           ]
          },
          "colorway": [
           "#636efa",
           "#EF553B",
           "#00cc96",
           "#ab63fa",
           "#FFA15A",
           "#19d3f3",
           "#FF6692",
           "#B6E880",
           "#FF97FF",
           "#FECB52"
          ],
          "font": {
           "color": "#2a3f5f"
          },
          "geo": {
           "bgcolor": "white",
           "lakecolor": "white",
           "landcolor": "#E5ECF6",
           "showlakes": true,
           "showland": true,
           "subunitcolor": "white"
          },
          "hoverlabel": {
           "align": "left"
          },
          "hovermode": "closest",
          "mapbox": {
           "style": "light"
          },
          "paper_bgcolor": "white",
          "plot_bgcolor": "#E5ECF6",
          "polar": {
           "angularaxis": {
            "gridcolor": "white",
            "linecolor": "white",
            "ticks": ""
           },
           "bgcolor": "#E5ECF6",
           "radialaxis": {
            "gridcolor": "white",
            "linecolor": "white",
            "ticks": ""
           }
          },
          "scene": {
           "xaxis": {
            "backgroundcolor": "#E5ECF6",
            "gridcolor": "white",
            "gridwidth": 2,
            "linecolor": "white",
            "showbackground": true,
            "ticks": "",
            "zerolinecolor": "white"
           },
           "yaxis": {
            "backgroundcolor": "#E5ECF6",
            "gridcolor": "white",
            "gridwidth": 2,
            "linecolor": "white",
            "showbackground": true,
            "ticks": "",
            "zerolinecolor": "white"
           },
           "zaxis": {
            "backgroundcolor": "#E5ECF6",
            "gridcolor": "white",
            "gridwidth": 2,
            "linecolor": "white",
            "showbackground": true,
            "ticks": "",
            "zerolinecolor": "white"
           }
          },
          "shapedefaults": {
           "line": {
            "color": "#2a3f5f"
           }
          },
          "ternary": {
           "aaxis": {
            "gridcolor": "white",
            "linecolor": "white",
            "ticks": ""
           },
           "baxis": {
            "gridcolor": "white",
            "linecolor": "white",
            "ticks": ""
           },
           "bgcolor": "#E5ECF6",
           "caxis": {
            "gridcolor": "white",
            "linecolor": "white",
            "ticks": ""
           }
          },
          "title": {
           "x": 0.05
          },
          "xaxis": {
           "automargin": true,
           "gridcolor": "white",
           "linecolor": "white",
           "ticks": "",
           "title": {
            "standoff": 15
           },
           "zerolinecolor": "white",
           "zerolinewidth": 2
          },
          "yaxis": {
           "automargin": true,
           "gridcolor": "white",
           "linecolor": "white",
           "ticks": "",
           "title": {
            "standoff": 15
           },
           "zerolinecolor": "white",
           "zerolinewidth": 2
          }
         }
        },
        "title": {
         "text": "r/atrioc Most Active User Groups Activity Mapping"
        },
        "width": 1650,
        "xaxis": {
         "gridcolor": "white",
         "gridwidth": 2,
         "title": {
          "text": "r/atrioc activity:Users ratio"
         },
         "type": "linear"
        },
        "yaxis": {
         "gridcolor": "white",
         "gridwidth": 2,
         "title": {
          "text": "Activity (Posts+Comments) in other Subreddit"
         },
         "type": "linear"
        }
       }
      }
     },
     "metadata": {}
    }
   ],
   "source": [
    "hover_text = []\n",
    "bubble_size = []\n",
    "\n",
    "# Adding hover labels and bubble_sizes based on user overlap\n",
    "for index, row in most_dedicated_users.iterrows():\n",
    "    hover_text.append(f'Activity in {index}: {row[\"activity\"]}<br>' +\n",
    "    f'Activity in r/{search_in}: {row[f\"{search_in}\"]}<br>' +\n",
    "    f'Overlapping Users: {row[\"users\"]}')\n",
    "    bubble_size.append(row[\"users\"])\n",
    "most_dedicated_users['text'] = hover_text\n",
    "most_dedicated_users['size'] = bubble_size\n",
    "\n",
    "fig = go.Figure()\n",
    "\n",
    "subreddit_data = {}\n",
    "annotations = []\n",
    "for index, row in most_dedicated_users.iloc[0:30, :].iterrows():\n",
    "    subreddit_data[index] = most_dedicated_users.loc[index, :]\n",
    "    # Annotations\n",
    "    # show_arrow = False\n",
    "    # yshift=15\n",
    "    # startstandoff=0\n",
    "    # yshift_adjust = {'PublicFreakout':20, 'aww': -10, 'Minecraft': 25, 'interestingasfuck': -10, 'PewdiepieSubmissions': -10}\n",
    "    # if index in ['PublicFreakout', 'interestingasfuck','PewdiepieSubmissions', 'aww']:\n",
    "    #     yshift = yshift_adjust.get(index)\n",
    "    # annotations.append(dict(text=index, showarrow=show_arrow, arrowhead=1, x=math.log(row['rludwig'])/math.log(10), y=math.log(row['activity'])/math.log(10),yshift=yshift))\n",
    "\n",
    "sizeref = 2. * max(most_dedicated_users['size'].iloc[0:30]) / (100 ** 2)\n",
    "for subreddit_name, subreddit in subreddit_data.items():\n",
    "    fig.add_trace(go.Scatter(\n",
    "        x=[subreddit[f'{search_in}/users']], y=[subreddit['activity']],\n",
    "        name=subreddit_name, text=subreddit['text'],  \n",
    "        marker_size=subreddit['size'] * 2, # Tune this paramater to fit the marker size you want\n",
    "    ))\n",
    "fig.update_traces(mode='markers', marker=dict(sizemode='area', sizeref=sizeref, line_width=2, opacity=0.5))\n",
    "\n",
    "# for annotation in annotations:\n",
    "#     fig.add_annotation(annotation)\n",
    "fig.update_layout(\n",
    "    title=f'r/{search_in} Most Active User Groups Activity Mapping',\n",
    "    xaxis=dict(\n",
    "        title=f'r/{search_in} activity:Users ratio',\n",
    "        gridcolor='white',\n",
    "        type='linear', # Change to log and uncomment the annotations for better visibility\n",
    "        gridwidth=2,\n",
    "    ),\n",
    "    yaxis=dict(\n",
    "        title='Activity (Posts+Comments) in other Subreddit',\n",
    "        gridcolor='white',\n",
    "        gridwidth=2,\n",
    "        type='linear' # Change to log and uncomment the annotations for better visibility\n",
    "    ),\n",
    "    legend=dict(\n",
    "        title=dict(text=\"\"\"Subreddits by overlapping user count<br><br>Bubble size proportional to user count\"\"\", font=dict(size=18)),\n",
    "        itemsizing=\"trace\"\n",
    "    ),\n",
    "    width=1650,\n",
    "    height=900,\n",
    "    paper_bgcolor='rgb(243, 243, 243)',\n",
    "    plot_bgcolor='rgb(243, 243, 243)',\n",
    ")\n",
    "fig.show()"
   ]
  },
  {
   "cell_type": "code",
   "execution_count": null,
   "metadata": {},
   "outputs": [],
   "source": []
  }
 ]
}